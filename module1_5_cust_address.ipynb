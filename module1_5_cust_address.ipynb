{
 "cells": [
  {
   "cell_type": "markdown",
   "id": "cc55f661",
   "metadata": {},
   "source": [
    "# Module 1: Customer Address"
   ]
  },
  {
   "cell_type": "markdown",
   "id": "8d332511",
   "metadata": {},
   "source": [
    "## Load libraries"
   ]
  },
  {
   "cell_type": "code",
   "execution_count": 25,
   "id": "4072e182",
   "metadata": {},
   "outputs": [],
   "source": [
    "import numpy as np\n",
    "import pandas as pd\n",
    "import matplotlib.pyplot as plt\n",
    "import re"
   ]
  },
  {
   "cell_type": "markdown",
   "id": "a34c7add",
   "metadata": {},
   "source": [
    "## FUNCTIONS"
   ]
  },
  {
   "cell_type": "code",
   "execution_count": 2,
   "id": "2289fa70",
   "metadata": {},
   "outputs": [],
   "source": [
    "def disto_bars(colname, df):\n",
    "    # Check for missing values\n",
    "    print(f'There are {df[colname].isna().sum()} missing entries for {colname}.')\n",
    "\n",
    "    # Plot distribution\n",
    "    value_counts = df[colname].value_counts(dropna=False).sort_index()\n",
    "\n",
    "    plt.figure()\n",
    "    plt.bar(value_counts.index.astype(str), value_counts.values)\n",
    "    #plt.text(value_counts.index.astype(str)[-1], value_counts.values[-1]+100, str(value_counts.values[1]), color='red')\n",
    "    plt.xticks(rotation=90)\n",
    "    plt.xlabel(colname)\n",
    "    plt.ylabel('count')\n",
    "    plt.title('Counts per category')\n",
    "    plt.show()"
   ]
  },
  {
   "cell_type": "code",
   "execution_count": 3,
   "id": "7d0fc53c",
   "metadata": {},
   "outputs": [],
   "source": [
    "def disto_histo(colname, df, bins=30):\n",
    "    # Check for missing values\n",
    "    print(f'There are {df[colname].isna().sum()} missing values for {colname}.')\n",
    "    # Histogram\n",
    "    plt.figure()\n",
    "    plt.hist(df[colname], bins)\n",
    "    plt.xlabel(colname)\n",
    "    plt.ylabel('count')\n",
    "    plt.title('Distribution of values for ' + colname)\n",
    "    plt.show()"
   ]
  },
  {
   "cell_type": "code",
   "execution_count": 4,
   "id": "42a2bc22",
   "metadata": {},
   "outputs": [],
   "source": [
    "def sort_str_vals (colname, df):\n",
    "    uq_jobs = df[colname].unique()\n",
    "    # Get the indices to sort the array alphabetically, handling NaN values\n",
    "    sorted_indices = np.argsort(np.array(uq_jobs, dtype=str))\n",
    "\n",
    "    # Sort the ndarray based on the sorted indices\n",
    "    sorted_array = uq_jobs[sorted_indices]\n",
    "\n",
    "    # display\n",
    "    return sorted_array"
   ]
  },
  {
   "cell_type": "markdown",
   "id": "5cd088b5",
   "metadata": {},
   "source": [
    "## Load data"
   ]
  },
  {
   "cell_type": "code",
   "execution_count": 5,
   "id": "16119c50",
   "metadata": {},
   "outputs": [
    {
     "name": "stdout",
     "output_type": "stream",
     "text": [
      "Table dimensions: (3999, 6)\n"
     ]
    },
    {
     "data": {
      "text/html": [
       "<div>\n",
       "<style scoped>\n",
       "    .dataframe tbody tr th:only-of-type {\n",
       "        vertical-align: middle;\n",
       "    }\n",
       "\n",
       "    .dataframe tbody tr th {\n",
       "        vertical-align: top;\n",
       "    }\n",
       "\n",
       "    .dataframe thead th {\n",
       "        text-align: right;\n",
       "    }\n",
       "</style>\n",
       "<table border=\"1\" class=\"dataframe\">\n",
       "  <thead>\n",
       "    <tr style=\"text-align: right;\">\n",
       "      <th></th>\n",
       "      <th>customer_id</th>\n",
       "      <th>address</th>\n",
       "      <th>postcode</th>\n",
       "      <th>state</th>\n",
       "      <th>country</th>\n",
       "      <th>property_valuation</th>\n",
       "    </tr>\n",
       "    <tr>\n",
       "      <th>0</th>\n",
       "      <th></th>\n",
       "      <th></th>\n",
       "      <th></th>\n",
       "      <th></th>\n",
       "      <th></th>\n",
       "      <th></th>\n",
       "    </tr>\n",
       "  </thead>\n",
       "  <tbody>\n",
       "    <tr>\n",
       "      <th>1</th>\n",
       "      <td>1</td>\n",
       "      <td>060 Morning Avenue</td>\n",
       "      <td>2016</td>\n",
       "      <td>New South Wales</td>\n",
       "      <td>Australia</td>\n",
       "      <td>10</td>\n",
       "    </tr>\n",
       "    <tr>\n",
       "      <th>2</th>\n",
       "      <td>2</td>\n",
       "      <td>6 Meadow Vale Court</td>\n",
       "      <td>2153</td>\n",
       "      <td>New South Wales</td>\n",
       "      <td>Australia</td>\n",
       "      <td>10</td>\n",
       "    </tr>\n",
       "    <tr>\n",
       "      <th>3</th>\n",
       "      <td>4</td>\n",
       "      <td>0 Holy Cross Court</td>\n",
       "      <td>4211</td>\n",
       "      <td>QLD</td>\n",
       "      <td>Australia</td>\n",
       "      <td>9</td>\n",
       "    </tr>\n",
       "    <tr>\n",
       "      <th>4</th>\n",
       "      <td>5</td>\n",
       "      <td>17979 Del Mar Point</td>\n",
       "      <td>2448</td>\n",
       "      <td>New South Wales</td>\n",
       "      <td>Australia</td>\n",
       "      <td>4</td>\n",
       "    </tr>\n",
       "    <tr>\n",
       "      <th>5</th>\n",
       "      <td>6</td>\n",
       "      <td>9 Oakridge Court</td>\n",
       "      <td>3216</td>\n",
       "      <td>VIC</td>\n",
       "      <td>Australia</td>\n",
       "      <td>9</td>\n",
       "    </tr>\n",
       "  </tbody>\n",
       "</table>\n",
       "</div>"
      ],
      "text/plain": [
       "   customer_id              address  postcode            state    country  \\\n",
       "0                                                                           \n",
       "1            1   060 Morning Avenue      2016  New South Wales  Australia   \n",
       "2            2  6 Meadow Vale Court      2153  New South Wales  Australia   \n",
       "3            4   0 Holy Cross Court      4211              QLD  Australia   \n",
       "4            5  17979 Del Mar Point      2448  New South Wales  Australia   \n",
       "5            6     9 Oakridge Court      3216              VIC  Australia   \n",
       "\n",
       "   property_valuation  \n",
       "0                      \n",
       "1                  10  \n",
       "2                  10  \n",
       "3                   9  \n",
       "4                   4  \n",
       "5                   9  "
      ]
     },
     "metadata": {},
     "output_type": "display_data"
    }
   ],
   "source": [
    "custaddr = pd.read_csv('customeraddress.csv', skiprows=[0], index_col=0)\n",
    "print('Table dimensions:', custaddr.shape)\n",
    "display(custaddr.head())"
   ]
  },
  {
   "cell_type": "markdown",
   "id": "625e89e8",
   "metadata": {},
   "source": [
    "## Identify flaws"
   ]
  },
  {
   "cell_type": "markdown",
   "id": "943342dd",
   "metadata": {},
   "source": [
    "### Duplications"
   ]
  },
  {
   "cell_type": "code",
   "execution_count": 7,
   "id": "a806d660",
   "metadata": {},
   "outputs": [
    {
     "name": "stdout",
     "output_type": "stream",
     "text": [
      "Number of duplicated rows: 0\n",
      "Number of duplicated columns: 0\n"
     ]
    }
   ],
   "source": [
    "print('Number of duplicated rows:', custaddr.duplicated().sum())\n",
    "print('Number of duplicated columns:', custaddr.T.duplicated().sum())"
   ]
  },
  {
   "cell_type": "markdown",
   "id": "4965a172",
   "metadata": {},
   "source": [
    "### `index` - `customer_id`\n",
    "\n",
    "Check that `customer_id` is identical to the index of the table and drop customer ID if this is the case"
   ]
  },
  {
   "cell_type": "code",
   "execution_count": 11,
   "id": "1f84d994",
   "metadata": {},
   "outputs": [
    {
     "data": {
      "text/plain": [
       "0"
      ]
     },
     "execution_count": 11,
     "metadata": {},
     "output_type": "execute_result"
    }
   ],
   "source": [
    "custaddr.customer_id.duplicated().sum()"
   ]
  },
  {
   "cell_type": "code",
   "execution_count": 12,
   "id": "6d0771df",
   "metadata": {},
   "outputs": [
    {
     "data": {
      "text/html": [
       "<div>\n",
       "<style scoped>\n",
       "    .dataframe tbody tr th:only-of-type {\n",
       "        vertical-align: middle;\n",
       "    }\n",
       "\n",
       "    .dataframe tbody tr th {\n",
       "        vertical-align: top;\n",
       "    }\n",
       "\n",
       "    .dataframe thead th {\n",
       "        text-align: right;\n",
       "    }\n",
       "</style>\n",
       "<table border=\"1\" class=\"dataframe\">\n",
       "  <thead>\n",
       "    <tr style=\"text-align: right;\">\n",
       "      <th></th>\n",
       "      <th>address</th>\n",
       "      <th>postcode</th>\n",
       "      <th>state</th>\n",
       "      <th>country</th>\n",
       "      <th>property_valuation</th>\n",
       "    </tr>\n",
       "    <tr>\n",
       "      <th>customer_id</th>\n",
       "      <th></th>\n",
       "      <th></th>\n",
       "      <th></th>\n",
       "      <th></th>\n",
       "      <th></th>\n",
       "    </tr>\n",
       "  </thead>\n",
       "  <tbody>\n",
       "    <tr>\n",
       "      <th>1</th>\n",
       "      <td>060 Morning Avenue</td>\n",
       "      <td>2016</td>\n",
       "      <td>New South Wales</td>\n",
       "      <td>Australia</td>\n",
       "      <td>10</td>\n",
       "    </tr>\n",
       "    <tr>\n",
       "      <th>2</th>\n",
       "      <td>6 Meadow Vale Court</td>\n",
       "      <td>2153</td>\n",
       "      <td>New South Wales</td>\n",
       "      <td>Australia</td>\n",
       "      <td>10</td>\n",
       "    </tr>\n",
       "    <tr>\n",
       "      <th>4</th>\n",
       "      <td>0 Holy Cross Court</td>\n",
       "      <td>4211</td>\n",
       "      <td>QLD</td>\n",
       "      <td>Australia</td>\n",
       "      <td>9</td>\n",
       "    </tr>\n",
       "    <tr>\n",
       "      <th>5</th>\n",
       "      <td>17979 Del Mar Point</td>\n",
       "      <td>2448</td>\n",
       "      <td>New South Wales</td>\n",
       "      <td>Australia</td>\n",
       "      <td>4</td>\n",
       "    </tr>\n",
       "    <tr>\n",
       "      <th>6</th>\n",
       "      <td>9 Oakridge Court</td>\n",
       "      <td>3216</td>\n",
       "      <td>VIC</td>\n",
       "      <td>Australia</td>\n",
       "      <td>9</td>\n",
       "    </tr>\n",
       "    <tr>\n",
       "      <th>...</th>\n",
       "      <td>...</td>\n",
       "      <td>...</td>\n",
       "      <td>...</td>\n",
       "      <td>...</td>\n",
       "      <td>...</td>\n",
       "    </tr>\n",
       "    <tr>\n",
       "      <th>3999</th>\n",
       "      <td>1482 Hauk Trail</td>\n",
       "      <td>3064</td>\n",
       "      <td>VIC</td>\n",
       "      <td>Australia</td>\n",
       "      <td>3</td>\n",
       "    </tr>\n",
       "    <tr>\n",
       "      <th>4000</th>\n",
       "      <td>57042 Village Green Point</td>\n",
       "      <td>4511</td>\n",
       "      <td>QLD</td>\n",
       "      <td>Australia</td>\n",
       "      <td>6</td>\n",
       "    </tr>\n",
       "    <tr>\n",
       "      <th>4001</th>\n",
       "      <td>87 Crescent Oaks Alley</td>\n",
       "      <td>2756</td>\n",
       "      <td>NSW</td>\n",
       "      <td>Australia</td>\n",
       "      <td>10</td>\n",
       "    </tr>\n",
       "    <tr>\n",
       "      <th>4002</th>\n",
       "      <td>8194 Lien Street</td>\n",
       "      <td>4032</td>\n",
       "      <td>QLD</td>\n",
       "      <td>Australia</td>\n",
       "      <td>7</td>\n",
       "    </tr>\n",
       "    <tr>\n",
       "      <th>4003</th>\n",
       "      <td>320 Acker Drive</td>\n",
       "      <td>2251</td>\n",
       "      <td>NSW</td>\n",
       "      <td>Australia</td>\n",
       "      <td>7</td>\n",
       "    </tr>\n",
       "  </tbody>\n",
       "</table>\n",
       "<p>3999 rows × 5 columns</p>\n",
       "</div>"
      ],
      "text/plain": [
       "                               address  postcode            state    country  \\\n",
       "customer_id                                                                    \n",
       "1                   060 Morning Avenue      2016  New South Wales  Australia   \n",
       "2                  6 Meadow Vale Court      2153  New South Wales  Australia   \n",
       "4                   0 Holy Cross Court      4211              QLD  Australia   \n",
       "5                  17979 Del Mar Point      2448  New South Wales  Australia   \n",
       "6                     9 Oakridge Court      3216              VIC  Australia   \n",
       "...                                ...       ...              ...        ...   \n",
       "3999                   1482 Hauk Trail      3064              VIC  Australia   \n",
       "4000         57042 Village Green Point      4511              QLD  Australia   \n",
       "4001            87 Crescent Oaks Alley      2756              NSW  Australia   \n",
       "4002                  8194 Lien Street      4032              QLD  Australia   \n",
       "4003                   320 Acker Drive      2251              NSW  Australia   \n",
       "\n",
       "             property_valuation  \n",
       "customer_id                      \n",
       "1                            10  \n",
       "2                            10  \n",
       "4                             9  \n",
       "5                             4  \n",
       "6                             9  \n",
       "...                         ...  \n",
       "3999                          3  \n",
       "4000                          6  \n",
       "4001                         10  \n",
       "4002                          7  \n",
       "4003                          7  \n",
       "\n",
       "[3999 rows x 5 columns]"
      ]
     },
     "metadata": {},
     "output_type": "display_data"
    }
   ],
   "source": [
    "custaddr.set_index('customer_id', inplace=True)"
   ]
  },
  {
   "cell_type": "markdown",
   "id": "6699b97d",
   "metadata": {},
   "source": [
    "### `address`"
   ]
  },
  {
   "cell_type": "code",
   "execution_count": 14,
   "id": "4c623dd9",
   "metadata": {},
   "outputs": [
    {
     "name": "stdout",
     "output_type": "stream",
     "text": [
      "Missing values: 0\n",
      "NOT all addresses are in the correct format.\n"
     ]
    }
   ],
   "source": [
    "# Check for missing values\n",
    "print('Missing values:', custaddr.address.isna().sum())\n",
    "\n",
    "# Check for address patterns\n",
    "address_pattern = r\"^\\d+\\s[A-Za-z\\s]+$\"\n",
    "all_match = custaddr['address'].str.match(address_pattern).all()\n",
    "if all_match:\n",
    "    print('All addresses are in the correct format.')\n",
    "else:\n",
    "    print('NOT all addresses are in the correct format.')"
   ]
  },
  {
   "cell_type": "code",
   "execution_count": 16,
   "id": "e89965dc",
   "metadata": {},
   "outputs": [
    {
     "data": {
      "text/html": [
       "<div>\n",
       "<style scoped>\n",
       "    .dataframe tbody tr th:only-of-type {\n",
       "        vertical-align: middle;\n",
       "    }\n",
       "\n",
       "    .dataframe tbody tr th {\n",
       "        vertical-align: top;\n",
       "    }\n",
       "\n",
       "    .dataframe thead th {\n",
       "        text-align: right;\n",
       "    }\n",
       "</style>\n",
       "<table border=\"1\" class=\"dataframe\">\n",
       "  <thead>\n",
       "    <tr style=\"text-align: right;\">\n",
       "      <th></th>\n",
       "      <th>address</th>\n",
       "      <th>state</th>\n",
       "      <th>country</th>\n",
       "    </tr>\n",
       "    <tr>\n",
       "      <th>customer_id</th>\n",
       "      <th></th>\n",
       "      <th></th>\n",
       "      <th></th>\n",
       "    </tr>\n",
       "  </thead>\n",
       "  <tbody>\n",
       "    <tr>\n",
       "      <th>9</th>\n",
       "      <td>97736 7th Trail</td>\n",
       "      <td>New South Wales</td>\n",
       "      <td>Australia</td>\n",
       "    </tr>\n",
       "    <tr>\n",
       "      <th>18</th>\n",
       "      <td>092 2nd Alley</td>\n",
       "      <td>New South Wales</td>\n",
       "      <td>Australia</td>\n",
       "    </tr>\n",
       "    <tr>\n",
       "      <th>25</th>\n",
       "      <td>28 5th Center</td>\n",
       "      <td>QLD</td>\n",
       "      <td>Australia</td>\n",
       "    </tr>\n",
       "    <tr>\n",
       "      <th>60</th>\n",
       "      <td>39 3rd Drive</td>\n",
       "      <td>New South Wales</td>\n",
       "      <td>Australia</td>\n",
       "    </tr>\n",
       "    <tr>\n",
       "      <th>133</th>\n",
       "      <td>19392 7th Trail</td>\n",
       "      <td>QLD</td>\n",
       "      <td>Australia</td>\n",
       "    </tr>\n",
       "    <tr>\n",
       "      <th>210</th>\n",
       "      <td>19969 5th Parkway</td>\n",
       "      <td>VIC</td>\n",
       "      <td>Australia</td>\n",
       "    </tr>\n",
       "    <tr>\n",
       "      <th>230</th>\n",
       "      <td>4 5th Point</td>\n",
       "      <td>NSW</td>\n",
       "      <td>Australia</td>\n",
       "    </tr>\n",
       "    <tr>\n",
       "      <th>247</th>\n",
       "      <td>2 2nd Plaza</td>\n",
       "      <td>NSW</td>\n",
       "      <td>Australia</td>\n",
       "    </tr>\n",
       "    <tr>\n",
       "      <th>293</th>\n",
       "      <td>00 5th Lane</td>\n",
       "      <td>NSW</td>\n",
       "      <td>Australia</td>\n",
       "    </tr>\n",
       "    <tr>\n",
       "      <th>323</th>\n",
       "      <td>82 8th Alley</td>\n",
       "      <td>QLD</td>\n",
       "      <td>Australia</td>\n",
       "    </tr>\n",
       "    <tr>\n",
       "      <th>492</th>\n",
       "      <td>11731 3rd Hill</td>\n",
       "      <td>Victoria</td>\n",
       "      <td>Australia</td>\n",
       "    </tr>\n",
       "    <tr>\n",
       "      <th>526</th>\n",
       "      <td>27230 7th Place</td>\n",
       "      <td>NSW</td>\n",
       "      <td>Australia</td>\n",
       "    </tr>\n",
       "    <tr>\n",
       "      <th>536</th>\n",
       "      <td>64700 2nd Alley</td>\n",
       "      <td>NSW</td>\n",
       "      <td>Australia</td>\n",
       "    </tr>\n",
       "    <tr>\n",
       "      <th>555</th>\n",
       "      <td>67 8th Terrace</td>\n",
       "      <td>Victoria</td>\n",
       "      <td>Australia</td>\n",
       "    </tr>\n",
       "    <tr>\n",
       "      <th>740</th>\n",
       "      <td>12 6th Hill</td>\n",
       "      <td>QLD</td>\n",
       "      <td>Australia</td>\n",
       "    </tr>\n",
       "    <tr>\n",
       "      <th>762</th>\n",
       "      <td>983 2nd Road</td>\n",
       "      <td>NSW</td>\n",
       "      <td>Australia</td>\n",
       "    </tr>\n",
       "    <tr>\n",
       "      <th>805</th>\n",
       "      <td>80932 5th Street</td>\n",
       "      <td>NSW</td>\n",
       "      <td>Australia</td>\n",
       "    </tr>\n",
       "    <tr>\n",
       "      <th>893</th>\n",
       "      <td>1 5th Parkway</td>\n",
       "      <td>NSW</td>\n",
       "      <td>Australia</td>\n",
       "    </tr>\n",
       "    <tr>\n",
       "      <th>917</th>\n",
       "      <td>50 2nd Center</td>\n",
       "      <td>VIC</td>\n",
       "      <td>Australia</td>\n",
       "    </tr>\n",
       "    <tr>\n",
       "      <th>1012</th>\n",
       "      <td>44594 5th Street</td>\n",
       "      <td>QLD</td>\n",
       "      <td>Australia</td>\n",
       "    </tr>\n",
       "    <tr>\n",
       "      <th>1053</th>\n",
       "      <td>07716 5th Alley</td>\n",
       "      <td>NSW</td>\n",
       "      <td>Australia</td>\n",
       "    </tr>\n",
       "    <tr>\n",
       "      <th>1113</th>\n",
       "      <td>515 3rd Road</td>\n",
       "      <td>NSW</td>\n",
       "      <td>Australia</td>\n",
       "    </tr>\n",
       "    <tr>\n",
       "      <th>1120</th>\n",
       "      <td>03 6th Alley</td>\n",
       "      <td>NSW</td>\n",
       "      <td>Australia</td>\n",
       "    </tr>\n",
       "    <tr>\n",
       "      <th>1124</th>\n",
       "      <td>0355 3rd Drive</td>\n",
       "      <td>NSW</td>\n",
       "      <td>Australia</td>\n",
       "    </tr>\n",
       "    <tr>\n",
       "      <th>1128</th>\n",
       "      <td>81114 7th Place</td>\n",
       "      <td>QLD</td>\n",
       "      <td>Australia</td>\n",
       "    </tr>\n",
       "    <tr>\n",
       "      <th>1144</th>\n",
       "      <td>4439 7th Terrace</td>\n",
       "      <td>NSW</td>\n",
       "      <td>Australia</td>\n",
       "    </tr>\n",
       "    <tr>\n",
       "      <th>1232</th>\n",
       "      <td>61949 7th Road</td>\n",
       "      <td>QLD</td>\n",
       "      <td>Australia</td>\n",
       "    </tr>\n",
       "    <tr>\n",
       "      <th>1245</th>\n",
       "      <td>9 7th Terrace</td>\n",
       "      <td>NSW</td>\n",
       "      <td>Australia</td>\n",
       "    </tr>\n",
       "    <tr>\n",
       "      <th>1509</th>\n",
       "      <td>00941 7th Place</td>\n",
       "      <td>NSW</td>\n",
       "      <td>Australia</td>\n",
       "    </tr>\n",
       "    <tr>\n",
       "      <th>1693</th>\n",
       "      <td>419 2nd Center</td>\n",
       "      <td>QLD</td>\n",
       "      <td>Australia</td>\n",
       "    </tr>\n",
       "    <tr>\n",
       "      <th>1758</th>\n",
       "      <td>4 5th Circle</td>\n",
       "      <td>NSW</td>\n",
       "      <td>Australia</td>\n",
       "    </tr>\n",
       "    <tr>\n",
       "      <th>1869</th>\n",
       "      <td>765 6th Plaza</td>\n",
       "      <td>QLD</td>\n",
       "      <td>Australia</td>\n",
       "    </tr>\n",
       "    <tr>\n",
       "      <th>2025</th>\n",
       "      <td>0 3rd Road</td>\n",
       "      <td>QLD</td>\n",
       "      <td>Australia</td>\n",
       "    </tr>\n",
       "    <tr>\n",
       "      <th>2027</th>\n",
       "      <td>9670 4th Point</td>\n",
       "      <td>NSW</td>\n",
       "      <td>Australia</td>\n",
       "    </tr>\n",
       "    <tr>\n",
       "      <th>2031</th>\n",
       "      <td>34 3rd Place</td>\n",
       "      <td>VIC</td>\n",
       "      <td>Australia</td>\n",
       "    </tr>\n",
       "    <tr>\n",
       "      <th>2150</th>\n",
       "      <td>59694 1st Crossing</td>\n",
       "      <td>QLD</td>\n",
       "      <td>Australia</td>\n",
       "    </tr>\n",
       "    <tr>\n",
       "      <th>2162</th>\n",
       "      <td>79291 3rd Circle</td>\n",
       "      <td>NSW</td>\n",
       "      <td>Australia</td>\n",
       "    </tr>\n",
       "    <tr>\n",
       "      <th>2253</th>\n",
       "      <td>90 2nd Lane</td>\n",
       "      <td>NSW</td>\n",
       "      <td>Australia</td>\n",
       "    </tr>\n",
       "    <tr>\n",
       "      <th>2329</th>\n",
       "      <td>5 1st Park</td>\n",
       "      <td>NSW</td>\n",
       "      <td>Australia</td>\n",
       "    </tr>\n",
       "    <tr>\n",
       "      <th>2486</th>\n",
       "      <td>24877 3rd Circle</td>\n",
       "      <td>NSW</td>\n",
       "      <td>Australia</td>\n",
       "    </tr>\n",
       "    <tr>\n",
       "      <th>2644</th>\n",
       "      <td>008 6th Center</td>\n",
       "      <td>VIC</td>\n",
       "      <td>Australia</td>\n",
       "    </tr>\n",
       "    <tr>\n",
       "      <th>2653</th>\n",
       "      <td>7163 2nd Point</td>\n",
       "      <td>VIC</td>\n",
       "      <td>Australia</td>\n",
       "    </tr>\n",
       "    <tr>\n",
       "      <th>2981</th>\n",
       "      <td>9 7th Pass</td>\n",
       "      <td>NSW</td>\n",
       "      <td>Australia</td>\n",
       "    </tr>\n",
       "    <tr>\n",
       "      <th>3031</th>\n",
       "      <td>50 7th Circle</td>\n",
       "      <td>QLD</td>\n",
       "      <td>Australia</td>\n",
       "    </tr>\n",
       "    <tr>\n",
       "      <th>3043</th>\n",
       "      <td>05 2nd Point</td>\n",
       "      <td>NSW</td>\n",
       "      <td>Australia</td>\n",
       "    </tr>\n",
       "    <tr>\n",
       "      <th>3133</th>\n",
       "      <td>21 2nd Pass</td>\n",
       "      <td>NSW</td>\n",
       "      <td>Australia</td>\n",
       "    </tr>\n",
       "    <tr>\n",
       "      <th>3202</th>\n",
       "      <td>778 7th Parkway</td>\n",
       "      <td>NSW</td>\n",
       "      <td>Australia</td>\n",
       "    </tr>\n",
       "    <tr>\n",
       "      <th>3395</th>\n",
       "      <td>01716 2nd Terrace</td>\n",
       "      <td>VIC</td>\n",
       "      <td>Australia</td>\n",
       "    </tr>\n",
       "    <tr>\n",
       "      <th>3466</th>\n",
       "      <td>6 4th Lane</td>\n",
       "      <td>VIC</td>\n",
       "      <td>Australia</td>\n",
       "    </tr>\n",
       "    <tr>\n",
       "      <th>3481</th>\n",
       "      <td>00 1st Trail</td>\n",
       "      <td>VIC</td>\n",
       "      <td>Australia</td>\n",
       "    </tr>\n",
       "    <tr>\n",
       "      <th>3637</th>\n",
       "      <td>6415 4th Alley</td>\n",
       "      <td>NSW</td>\n",
       "      <td>Australia</td>\n",
       "    </tr>\n",
       "    <tr>\n",
       "      <th>3705</th>\n",
       "      <td>6 3rd Point</td>\n",
       "      <td>NSW</td>\n",
       "      <td>Australia</td>\n",
       "    </tr>\n",
       "    <tr>\n",
       "      <th>3764</th>\n",
       "      <td>31446 5th Court</td>\n",
       "      <td>VIC</td>\n",
       "      <td>Australia</td>\n",
       "    </tr>\n",
       "    <tr>\n",
       "      <th>3862</th>\n",
       "      <td>0618 5th Place</td>\n",
       "      <td>VIC</td>\n",
       "      <td>Australia</td>\n",
       "    </tr>\n",
       "  </tbody>\n",
       "</table>\n",
       "</div>"
      ],
      "text/plain": [
       "                        address            state    country\n",
       "customer_id                                                \n",
       "9               97736 7th Trail  New South Wales  Australia\n",
       "18                092 2nd Alley  New South Wales  Australia\n",
       "25                28 5th Center              QLD  Australia\n",
       "60                 39 3rd Drive  New South Wales  Australia\n",
       "133             19392 7th Trail              QLD  Australia\n",
       "210           19969 5th Parkway              VIC  Australia\n",
       "230                 4 5th Point              NSW  Australia\n",
       "247                 2 2nd Plaza              NSW  Australia\n",
       "293                 00 5th Lane              NSW  Australia\n",
       "323                82 8th Alley              QLD  Australia\n",
       "492              11731 3rd Hill         Victoria  Australia\n",
       "526             27230 7th Place              NSW  Australia\n",
       "536             64700 2nd Alley              NSW  Australia\n",
       "555              67 8th Terrace         Victoria  Australia\n",
       "740                 12 6th Hill              QLD  Australia\n",
       "762                983 2nd Road              NSW  Australia\n",
       "805            80932 5th Street              NSW  Australia\n",
       "893               1 5th Parkway              NSW  Australia\n",
       "917               50 2nd Center              VIC  Australia\n",
       "1012           44594 5th Street              QLD  Australia\n",
       "1053            07716 5th Alley              NSW  Australia\n",
       "1113               515 3rd Road              NSW  Australia\n",
       "1120               03 6th Alley              NSW  Australia\n",
       "1124             0355 3rd Drive              NSW  Australia\n",
       "1128            81114 7th Place              QLD  Australia\n",
       "1144           4439 7th Terrace              NSW  Australia\n",
       "1232             61949 7th Road              QLD  Australia\n",
       "1245              9 7th Terrace              NSW  Australia\n",
       "1509            00941 7th Place              NSW  Australia\n",
       "1693             419 2nd Center              QLD  Australia\n",
       "1758               4 5th Circle              NSW  Australia\n",
       "1869              765 6th Plaza              QLD  Australia\n",
       "2025                 0 3rd Road              QLD  Australia\n",
       "2027             9670 4th Point              NSW  Australia\n",
       "2031               34 3rd Place              VIC  Australia\n",
       "2150         59694 1st Crossing              QLD  Australia\n",
       "2162           79291 3rd Circle              NSW  Australia\n",
       "2253                90 2nd Lane              NSW  Australia\n",
       "2329                 5 1st Park              NSW  Australia\n",
       "2486           24877 3rd Circle              NSW  Australia\n",
       "2644             008 6th Center              VIC  Australia\n",
       "2653             7163 2nd Point              VIC  Australia\n",
       "2981                 9 7th Pass              NSW  Australia\n",
       "3031              50 7th Circle              QLD  Australia\n",
       "3043               05 2nd Point              NSW  Australia\n",
       "3133                21 2nd Pass              NSW  Australia\n",
       "3202            778 7th Parkway              NSW  Australia\n",
       "3395          01716 2nd Terrace              VIC  Australia\n",
       "3466                 6 4th Lane              VIC  Australia\n",
       "3481               00 1st Trail              VIC  Australia\n",
       "3637             6415 4th Alley              NSW  Australia\n",
       "3705                6 3rd Point              NSW  Australia\n",
       "3764            31446 5th Court              VIC  Australia\n",
       "3862             0618 5th Place              VIC  Australia"
      ]
     },
     "metadata": {},
     "output_type": "display_data"
    }
   ],
   "source": [
    "# Obtain values that do not conform to the address format\n",
    "address_diff_mask = ~custaddr['address'].str.match(address_pattern)\n",
    "display(custaddr.loc[address_diff_mask,['address', 'state','country']])"
   ]
  },
  {
   "cell_type": "markdown",
   "id": "e8e8d554",
   "metadata": {},
   "source": [
    "We can see that the addressed that were determined not to conform to the format are simply the numerical references to specific streets and will be left as they are."
   ]
  },
  {
   "cell_type": "markdown",
   "id": "97b4204f",
   "metadata": {},
   "source": [
    "### `postcode`\n",
    "\n",
    "Ensure that all postal codes are composed of 4 digits"
   ]
  },
  {
   "cell_type": "code",
   "execution_count": 18,
   "id": "4cd3c245",
   "metadata": {},
   "outputs": [
    {
     "name": "stdout",
     "output_type": "stream",
     "text": [
      "There are 0 missing values!\n",
      "All postcodes are in the correct format.\n"
     ]
    }
   ],
   "source": [
    "# Check for nulls\n",
    "print(f'There are {custaddr.postcode.isna().sum()} missing values!')\n",
    "\n",
    "# Check for correct pattern\n",
    "post_pattern = r'^\\d{4}$'\n",
    "postcode_correct = custaddr['postcode'].astype(str).str.match(post_pattern).all()\n",
    "\n",
    "if postcode_correct:\n",
    "    print('All postcodes are in the correct format.')\n",
    "else:\n",
    "    print('NOT all postcodes are in the correct format.')"
   ]
  },
  {
   "cell_type": "markdown",
   "id": "435d5636",
   "metadata": {},
   "source": [
    "### `state`"
   ]
  },
  {
   "cell_type": "code",
   "execution_count": 19,
   "id": "76bfdb71",
   "metadata": {},
   "outputs": [
    {
     "name": "stdout",
     "output_type": "stream",
     "text": [
      "There are 0 missing entries for state.\n"
     ]
    },
    {
     "data": {
      "image/png": "[encoded data removed]",
      "text/plain": [
       "<Figure size 640x480 with 1 Axes>"
      ]
     },
     "metadata": {},
     "output_type": "display_data"
    }
   ],
   "source": [
    "disto_bars('state', custaddr)"
   ]
  },
  {
   "cell_type": "markdown",
   "id": "102ea4b9",
   "metadata": {},
   "source": [
    "Some of the entries are fully spelled instead of using abbreviations. These values will be converted for the sake of consistencies."
   ]
  },
  {
   "cell_type": "code",
   "execution_count": 21,
   "id": "b437518d",
   "metadata": {},
   "outputs": [
    {
     "name": "stdout",
     "output_type": "stream",
     "text": [
      "There are 0 missing entries for state.\n"
     ]
    },
    {
     "data": {
      "image/png": "[encoded data removed]",
      "text/plain": [
       "<Figure size 640x480 with 1 Axes>"
      ]
     },
     "metadata": {},
     "output_type": "display_data"
    }
   ],
   "source": [
    "# Define replacements\n",
    "repl_dict = {'New South Wales' : 'NSW',\n",
    "             'Victoria' : 'VIC'\n",
    "            }\n",
    "\n",
    "# Replace\n",
    "custaddr['state'].replace(repl_dict, inplace=True)\n",
    "\n",
    "# Sanity check\n",
    "disto_bars('state', custaddr)"
   ]
  },
  {
   "cell_type": "markdown",
   "id": "7ea82099",
   "metadata": {},
   "source": [
    "### `country`"
   ]
  },
  {
   "cell_type": "code",
   "execution_count": 22,
   "id": "97ba960d",
   "metadata": {},
   "outputs": [
    {
     "name": "stdout",
     "output_type": "stream",
     "text": [
      "There are 0 missing entries for country.\n"
     ]
    },
    {
     "data": {
      "image/png": "[encoded data removed]",
      "text/plain": [
       "<Figure size 640x480 with 1 Axes>"
      ]
     },
     "metadata": {},
     "output_type": "display_data"
    }
   ],
   "source": [
    "disto_bars('country', custaddr)"
   ]
  },
  {
   "cell_type": "markdown",
   "id": "f981eb0e",
   "metadata": {},
   "source": [
    "<div class=\"alert alert-danger\">\n",
    "    <strong>REMOVE:</strong> There are no missing values and everything is in order with this feature. However, all entries are annotated with the same category Australia, which makes this feature of little use in analysis/modelling since it does not bring any useful informaiton.\n",
    "</div>"
   ]
  },
  {
   "cell_type": "markdown",
   "id": "df9acdbf",
   "metadata": {},
   "source": [
    "### `property_valuation`"
   ]
  },
  {
   "cell_type": "code",
   "execution_count": 23,
   "id": "934ba1e3",
   "metadata": {},
   "outputs": [
    {
     "name": "stdout",
     "output_type": "stream",
     "text": [
      "There are 0 missing values for property_valuation.\n"
     ]
    },
    {
     "data": {
      "image/png": "[encoded data removed]",
      "text/plain": [
       "<Figure size 640x480 with 1 Axes>"
      ]
     },
     "metadata": {},
     "output_type": "display_data"
    }
   ],
   "source": [
    "disto_histo('property_valuation', custaddr)"
   ]
  },
  {
   "cell_type": "markdown",
   "id": "4b847f4b",
   "metadata": {},
   "source": [
    "## Save"
   ]
  },
  {
   "cell_type": "code",
   "execution_count": 24,
   "id": "643e38a3",
   "metadata": {},
   "outputs": [],
   "source": [
    "custaddr.to_csv('customeraddress_clean1.csv')"
   ]
  },
  {
   "cell_type": "markdown",
   "id": "64821d14",
   "metadata": {},
   "source": [
    "---"
   ]
  }
 ],
 "metadata": {
  "kernelspec": {
   "display_name": "Python 3 (ipykernel)",
   "language": "python",
   "name": "python3"
  },
  "language_info": {
   "codemirror_mode": {
    "name": "ipython",
    "version": 3
   },
   "file_extension": ".py",
   "mimetype": "text/x-python",
   "name": "python",
   "nbconvert_exporter": "python",
   "pygments_lexer": "ipython3",
   "version": "3.8.17"
  }
 },
 "nbformat": 4,
 "nbformat_minor": 5
}
