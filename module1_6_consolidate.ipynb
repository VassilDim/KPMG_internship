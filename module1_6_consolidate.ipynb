{
 "cells": [
  {
   "cell_type": "markdown",
   "id": "a93b8180",
   "metadata": {},
   "source": [
    "# Module 1: Consolidate Data"
   ]
  },
  {
   "cell_type": "markdown",
   "id": "f1b15da0",
   "metadata": {},
   "source": [
    "## Load libraries"
   ]
  },
  {
   "cell_type": "code",
   "execution_count": 115,
   "id": "876b2e5c",
   "metadata": {},
   "outputs": [],
   "source": [
    "import numpy as np\n",
    "import pandas as pd\n",
    "import warnings\n",
    "import matplotlib.pyplot as plt"
   ]
  },
  {
   "cell_type": "markdown",
   "id": "c35c0bcf",
   "metadata": {},
   "source": [
    "## FUNCTIONS"
   ]
  },
  {
   "cell_type": "markdown",
   "id": "18674509",
   "metadata": {},
   "source": [
    "## Load data"
   ]
  },
  {
   "cell_type": "code",
   "execution_count": 51,
   "id": "3b0ba04f",
   "metadata": {},
   "outputs": [],
   "source": [
    "transactions = pd.read_csv('transactions_clean1.csv', index_col=0)\n",
    "custadd = pd.read_csv('customeraddress_clean1.csv', index_col=0)\n",
    "custnew = pd.read_csv('newcustomerlist_clean1.csv', index_col=0)\n",
    "custdem = pd.read_csv('customer_demographics_clean1.csv', index_col=0)"
   ]
  },
  {
   "cell_type": "markdown",
   "id": "582a7c8e",
   "metadata": {},
   "source": [
    "## Consolidate customer demographics data"
   ]
  },
  {
   "cell_type": "markdown",
   "id": "8f8d6693",
   "metadata": {},
   "source": [
    "First, the address table will be added to the existing customer demographics data."
   ]
  },
  {
   "cell_type": "code",
   "execution_count": 5,
   "id": "c404cb1d",
   "metadata": {},
   "outputs": [],
   "source": [
    "cust = custdem.merge(custadd, how='outer', left_index=True, right_index=True, suffixes=('', 'cust_address'))"
   ]
  },
  {
   "cell_type": "code",
   "execution_count": 8,
   "id": "7030f4a8",
   "metadata": {},
   "outputs": [],
   "source": [
    "# Clear memory\n",
    "del custdem, custadd"
   ]
  },
  {
   "cell_type": "markdown",
   "id": "c7bbdd01",
   "metadata": {},
   "source": [
    "A way to incorporate the data from the new customers list will be implemented here. First, the customer IDs for the new customers will be compared with those for existing customers in order and determine if they match for features considered more or less immutable, such as first name, last name, gender and date of birth (DOB)."
   ]
  },
  {
   "cell_type": "code",
   "execution_count": 11,
   "id": "6771d0d2",
   "metadata": {},
   "outputs": [
    {
     "name": "stdout",
     "output_type": "stream",
     "text": [
      "Customer IDs in new customer list present in existing customers: 1000\n"
     ]
    }
   ],
   "source": [
    "# Check whether there is an overlap in customer IDs for old and new customers\n",
    "count_matches = custnew.index.isin(cust.index).sum()\n",
    "\n",
    "print('Customer IDs in new customer list present in existing customers:', count_matches)\n"
   ]
  },
  {
   "cell_type": "markdown",
   "id": "5dbbe57f",
   "metadata": {},
   "source": [
    "It seems that the customer IDs for the new customers can all be cross-referenced to customer IDs for existing customers.  \n",
    "\n",
    "Now I will see if the information from the three immutable features in the new customers list are present in the existing customers list."
   ]
  },
  {
   "cell_type": "code",
   "execution_count": 15,
   "id": "ab358b88",
   "metadata": {},
   "outputs": [
    {
     "name": "stdout",
     "output_type": "stream",
     "text": [
      "Number of overlapping rows based on shared information between existing and new customers: 0\n"
     ]
    }
   ],
   "source": [
    "# Define overlapping columns\n",
    "immute_cols = ['first_name', 'last_name', 'gender', 'DOB']\n",
    "\n",
    "# Obtain common rows based on information in each table\n",
    "common_rows = pd.merge(\n",
    "    custnew[immute_cols],\n",
    "    cust[immute_cols],\n",
    "    how='inner'\n",
    ")\n",
    "\n",
    "# Display how much of the information is overlapping\n",
    "print('Number of overlapping rows based on shared information between \\\n",
    "existing and new customers:', common_rows.shape[0])"
   ]
  },
  {
   "cell_type": "markdown",
   "id": "874fac6d",
   "metadata": {},
   "source": [
    "Now, let us examin what the customer IDs for the new customers are:"
   ]
  },
  {
   "cell_type": "code",
   "execution_count": 16,
   "id": "48714681",
   "metadata": {},
   "outputs": [
    {
     "name": "stdout",
     "output_type": "stream",
     "text": [
      "First new customer ID: 1\n",
      "Last new customer ID: 1000\n"
     ]
    }
   ],
   "source": [
    "print('First new customer ID:', custnew.index.min())\n",
    "print('Last new customer ID:', custnew.index.max())"
   ]
  },
  {
   "cell_type": "markdown",
   "id": "e1d96d8a",
   "metadata": {},
   "source": [
    "As there are 1000 entries for the new customer demographics, it is apparent that a new list for new customers was initiated where customer ID was auto-iterated starting from 1. Clearly, these customer IDs have to be changed to a new unique value following the last customer ID values for the existing customers data.  \n",
    "\n",
    "First, skipped customer IDs for existing customers will be obtained and use as anchor points for re-indexing the new customer IDs."
   ]
  },
  {
   "cell_type": "code",
   "execution_count": 41,
   "id": "394e630a",
   "metadata": {
    "collapsed": true
   },
   "outputs": [
    {
     "name": "stdout",
     "output_type": "stream",
     "text": [
      "[4004, 4005, 4006, 4007, 4008, 4009, 4010, 4011, 4012, 4013, 4014, 4015, 4016, 4017, 4018, 4019, 4020, 4021, 4022, 4023, 4024, 4025, 4026, 4027, 4028, 4029, 4030, 4031, 4032, 4033, 4034, 4035, 4036, 4037, 4038, 4039, 4040, 4041, 4042, 4043, 4044, 4045, 4046, 4047, 4048, 4049, 4050, 4051, 4052, 4053, 4054, 4055, 4056, 4057, 4058, 4059, 4060, 4061, 4062, 4063, 4064, 4065, 4066, 4067, 4068, 4069, 4070, 4071, 4072, 4073, 4074, 4075, 4076, 4077, 4078, 4079, 4080, 4081, 4082, 4083, 4084, 4085, 4086, 4087, 4088, 4089, 4090, 4091, 4092, 4093, 4094, 4095, 4096, 4097, 4098, 4099, 4100, 4101, 4102, 4103, 4104, 4105, 4106, 4107, 4108, 4109, 4110, 4111, 4112, 4113, 4114, 4115, 4116, 4117, 4118, 4119, 4120, 4121, 4122, 4123, 4124, 4125, 4126, 4127, 4128, 4129, 4130, 4131, 4132, 4133, 4134, 4135, 4136, 4137, 4138, 4139, 4140, 4141, 4142, 4143, 4144, 4145, 4146, 4147, 4148, 4149, 4150, 4151, 4152, 4153, 4154, 4155, 4156, 4157, 4158, 4159, 4160, 4161, 4162, 4163, 4164, 4165, 4166, 4167, 4168, 4169, 4170, 4171, 4172, 4173, 4174, 4175, 4176, 4177, 4178, 4179, 4180, 4181, 4182, 4183, 4184, 4185, 4186, 4187, 4188, 4189, 4190, 4191, 4192, 4193, 4194, 4195, 4196, 4197, 4198, 4199, 4200, 4201, 4202, 4203, 4204, 4205, 4206, 4207, 4208, 4209, 4210, 4211, 4212, 4213, 4214, 4215, 4216, 4217, 4218, 4219, 4220, 4221, 4222, 4223, 4224, 4225, 4226, 4227, 4228, 4229, 4230, 4231, 4232, 4233, 4234, 4235, 4236, 4237, 4238, 4239, 4240, 4241, 4242, 4243, 4244, 4245, 4246, 4247, 4248, 4249, 4250, 4251, 4252, 4253, 4254, 4255, 4256, 4257, 4258, 4259, 4260, 4261, 4262, 4263, 4264, 4265, 4266, 4267, 4268, 4269, 4270, 4271, 4272, 4273, 4274, 4275, 4276, 4277, 4278, 4279, 4280, 4281, 4282, 4283, 4284, 4285, 4286, 4287, 4288, 4289, 4290, 4291, 4292, 4293, 4294, 4295, 4296, 4297, 4298, 4299, 4300, 4301, 4302, 4303, 4304, 4305, 4306, 4307, 4308, 4309, 4310, 4311, 4312, 4313, 4314, 4315, 4316, 4317, 4318, 4319, 4320, 4321, 4322, 4323, 4324, 4325, 4326, 4327, 4328, 4329, 4330, 4331, 4332, 4333, 4334, 4335, 4336, 4337, 4338, 4339, 4340, 4341, 4342, 4343, 4344, 4345, 4346, 4347, 4348, 4349, 4350, 4351, 4352, 4353, 4354, 4355, 4356, 4357, 4358, 4359, 4360, 4361, 4362, 4363, 4364, 4365, 4366, 4367, 4368, 4369, 4370, 4371, 4372, 4373, 4374, 4375, 4376, 4377, 4378, 4379, 4380, 4381, 4382, 4383, 4384, 4385, 4386, 4387, 4388, 4389, 4390, 4391, 4392, 4393, 4394, 4395, 4396, 4397, 4398, 4399, 4400, 4401, 4402, 4403, 4404, 4405, 4406, 4407, 4408, 4409, 4410, 4411, 4412, 4413, 4414, 4415, 4416, 4417, 4418, 4419, 4420, 4421, 4422, 4423, 4424, 4425, 4426, 4427, 4428, 4429, 4430, 4431, 4432, 4433, 4434, 4435, 4436, 4437, 4438, 4439, 4440, 4441, 4442, 4443, 4444, 4445, 4446, 4447, 4448, 4449, 4450, 4451, 4452, 4453, 4454, 4455, 4456, 4457, 4458, 4459, 4460, 4461, 4462, 4463, 4464, 4465, 4466, 4467, 4468, 4469, 4470, 4471, 4472, 4473, 4474, 4475, 4476, 4477, 4478, 4479, 4480, 4481, 4482, 4483, 4484, 4485, 4486, 4487, 4488, 4489, 4490, 4491, 4492, 4493, 4494, 4495, 4496, 4497, 4498, 4499, 4500, 4501, 4502, 4503, 4504, 4505, 4506, 4507, 4508, 4509, 4510, 4511, 4512, 4513, 4514, 4515, 4516, 4517, 4518, 4519, 4520, 4521, 4522, 4523, 4524, 4525, 4526, 4527, 4528, 4529, 4530, 4531, 4532, 4533, 4534, 4535, 4536, 4537, 4538, 4539, 4540, 4541, 4542, 4543, 4544, 4545, 4546, 4547, 4548, 4549, 4550, 4551, 4552, 4553, 4554, 4555, 4556, 4557, 4558, 4559, 4560, 4561, 4562, 4563, 4564, 4565, 4566, 4567, 4568, 4569, 4570, 4571, 4572, 4573, 4574, 4575, 4576, 4577, 4578, 4579, 4580, 4581, 4582, 4583, 4584, 4585, 4586, 4587, 4588, 4589, 4590, 4591, 4592, 4593, 4594, 4595, 4596, 4597, 4598, 4599, 4600, 4601, 4602, 4603, 4604, 4605, 4606, 4607, 4608, 4609, 4610, 4611, 4612, 4613, 4614, 4615, 4616, 4617, 4618, 4619, 4620, 4621, 4622, 4623, 4624, 4625, 4626, 4627, 4628, 4629, 4630, 4631, 4632, 4633, 4634, 4635, 4636, 4637, 4638, 4639, 4640, 4641, 4642, 4643, 4644, 4645, 4646, 4647, 4648, 4649, 4650, 4651, 4652, 4653, 4654, 4655, 4656, 4657, 4658, 4659, 4660, 4661, 4662, 4663, 4664, 4665, 4666, 4667, 4668, 4669, 4670, 4671, 4672, 4673, 4674, 4675, 4676, 4677, 4678, 4679, 4680, 4681, 4682, 4683, 4684, 4685, 4686, 4687, 4688, 4689, 4690, 4691, 4692, 4693, 4694, 4695, 4696, 4697, 4698, 4699, 4700, 4701, 4702, 4703, 4704, 4705, 4706, 4707, 4708, 4709, 4710, 4711, 4712, 4713, 4714, 4715, 4716, 4717, 4718, 4719, 4720, 4721, 4722, 4723, 4724, 4725, 4726, 4727, 4728, 4729, 4730, 4731, 4732, 4733, 4734, 4735, 4736, 4737, 4738, 4739, 4740, 4741, 4742, 4743, 4744, 4745, 4746, 4747, 4748, 4749, 4750, 4751, 4752, 4753, 4754, 4755, 4756, 4757, 4758, 4759, 4760, 4761, 4762, 4763, 4764, 4765, 4766, 4767, 4768, 4769, 4770, 4771, 4772, 4773, 4774, 4775, 4776, 4777, 4778, 4779, 4780, 4781, 4782, 4783, 4784, 4785, 4786, 4787, 4788, 4789, 4790, 4791, 4792, 4793, 4794, 4795, 4796, 4797, 4798, 4799, 4800, 4801, 4802, 4803, 4804, 4805, 4806, 4807, 4808, 4809, 4810, 4811, 4812, 4813, 4814, 4815, 4816, 4817, 4818, 4819, 4820, 4821, 4822, 4823, 4824, 4825, 4826, 4827, 4828, 4829, 4830, 4831, 4832, 4833, 4834, 4835, 4836, 4837, 4838, 4839, 4840, 4841, 4842, 4843, 4844, 4845, 4846, 4847, 4848, 4849, 4850, 4851, 4852, 4853, 4854, 4855, 4856, 4857, 4858, 4859, 4860, 4861, 4862, 4863, 4864, 4865, 4866, 4867, 4868, 4869, 4870, 4871, 4872, 4873, 4874, 4875, 4876, 4877, 4878, 4879, 4880, 4881, 4882, 4883, 4884, 4885, 4886, 4887, 4888, 4889, 4890, 4891, 4892, 4893, 4894, 4895, 4896, 4897, 4898, 4899, 4900, 4901, 4902, 4903, 4904, 4905, 4906, 4907, 4908, 4909, 4910, 4911, 4912, 4913, 4914, 4915, 4916, 4917, 4918, 4919, 4920, 4921, 4922, 4923, 4924, 4925, 4926, 4927, 4928, 4929, 4930, 4931, 4932, 4933, 4934, 4935, 4936, 4937, 4938, 4939, 4940, 4941, 4942, 4943, 4944, 4945, 4946, 4947, 4948, 4949, 4950, 4951, 4952, 4953, 4954, 4955, 4956, 4957, 4958, 4959, 4960, 4961, 4962, 4963, 4964, 4965, 4966, 4967, 4968, 4969, 4970, 4971, 4972, 4973, 4974, 4975, 4976, 4977, 4978, 4979, 4980, 4981, 4982, 4983, 4984, 4985, 4986, 4987, 4988, 4989, 4990, 4991, 4992, 4993, 4994, 4995, 4996, 4997, 4998, 4999, 5000, 5001, 5002, 5003, 5004, 5005, 5006, 5007, 5008, 5009, 5010, 5011, 5012, 5013, 5014, 5015, 5016, 5017, 5018, 5019, 5020, 5021, 5022, 5023, 5024, 5025, 5026, 5027, 5028, 5029, 5030, 5031, 5032, 5033]\n"
     ]
    }
   ],
   "source": [
    "# Obtain min and max customer ID\n",
    "min_custID = min([transactions['customer_id'].min(), cust.index.min()])\n",
    "max_custID = max([transactions['customer_id'].max(), cust.index.max()])\n",
    "\n",
    "# Obtained skipped integers for customer IDs\n",
    "all_integers = range(min_custID, max_custID+1)\n",
    "skipped_integers = list(set(all_integers) - set(cust.index.unique()).union(set(transactions['customer_id'].unique())))\n",
    "\n",
    "# Convert results to sorted list\n",
    "skipped_integers = sorted(skipped_integers)\n",
    "\n",
    "# Display\n",
    "print(skipped_integers)"
   ]
  },
  {
   "cell_type": "markdown",
   "id": "06fbc627",
   "metadata": {},
   "source": [
    "I will also look at any customer IDs for which there is transaction information but no customer demographic data."
   ]
  },
  {
   "cell_type": "code",
   "execution_count": 42,
   "id": "844071a8",
   "metadata": {},
   "outputs": [
    {
     "name": "stdout",
     "output_type": "stream",
     "text": [
      "[5034]\n"
     ]
    }
   ],
   "source": [
    "# Obtained unique customer IDs for transactions\n",
    "skipped_customerIDs = list(set(transactions['customer_id'].unique()) -\n",
    "                           set(cust.index.unique()))\n",
    "\n",
    "# Convert results to sorted list\n",
    "skipped_customerIDs = sorted(skipped_customerIDs)\n",
    "\n",
    "# Display\n",
    "print(skipped_customerIDs)"
   ]
  },
  {
   "cell_type": "markdown",
   "id": "f6ec033c",
   "metadata": {},
   "source": [
    "2 Observations can be made here:\n",
    "1. There are customer IDs from 4004 to 5033 that are not used to designate existing customers.\n",
    "2. There is an almost perfect overlap (5034 excluded) between customer IDs in transaction data and customer IDs in the existing customers demographics.  \n",
    "\n",
    "Therefore, the new customer list will be re-indexed with customer IDs that start at 4004 and are auto-iteratively autogenerated."
   ]
  },
  {
   "cell_type": "markdown",
   "id": "6790c0ba",
   "metadata": {},
   "source": [
    "### Re-index new customer list"
   ]
  },
  {
   "cell_type": "code",
   "execution_count": 39,
   "id": "1eacaa62",
   "metadata": {},
   "outputs": [],
   "source": [
    "# Define the starting index\n",
    "start_index = 4004\n",
    "\n",
    "# Reindex the DataFrame\n",
    "custnew.reset_index(drop=True, inplace=True)\n",
    "custnew.index += start_index\n",
    "\n",
    "# Save:\n",
    "custnew.to_csv('newcustomerlist_clean1_reindexed.csv')"
   ]
  },
  {
   "cell_type": "markdown",
   "id": "01db98aa",
   "metadata": {},
   "source": [
    "### Merge data for existing customers\n",
    "\n",
    "The existin customers demographics data will be consolidated with the transactions data in order to consolidate all available data into a single table for downstream analysis."
   ]
  },
  {
   "cell_type": "code",
   "execution_count": 49,
   "id": "b838e5e2",
   "metadata": {},
   "outputs": [],
   "source": [
    "df = pd.merge(transactions, cust, left_on='customer_id', right_index=True, how='outer', suffixes=('', '_customer'))"
   ]
  },
  {
   "cell_type": "markdown",
   "id": "47057056",
   "metadata": {},
   "source": [
    "## Clean up data"
   ]
  },
  {
   "cell_type": "code",
   "execution_count": null,
   "id": "5d1ef595",
   "metadata": {},
   "outputs": [],
   "source": [
    "# Reset the index and convert index into transaction_id\n",
    "df.reset_index(inplace=True)\n",
    "df.rename(columns={'index' : 'transaction_id'}, inplace=True)\n",
    "\n",
    "# Convert transaction_id to integer\n",
    "df['transaction_id'] = pd.to_numeric(df['transaction_id'], errors='coerce').astype(pd.Int32Dtype())"
   ]
  },
  {
   "cell_type": "markdown",
   "id": "7dd9985e",
   "metadata": {},
   "source": [
    "### Subset out all nulls for transactions"
   ]
  },
  {
   "cell_type": "markdown",
   "id": "32ce3dda",
   "metadata": {},
   "source": [
    "First, the total number of null values per feature is displayed."
   ]
  },
  {
   "cell_type": "code",
   "execution_count": 64,
   "id": "529c7b02",
   "metadata": {
    "collapsed": true
   },
   "outputs": [
    {
     "data": {
      "text/plain": [
       "transaction_id                          510\n",
       "product_id                              510\n",
       "customer_id                               0\n",
       "transaction_date                        510\n",
       "online_order                            870\n",
       "order_status                            510\n",
       "brand                                   707\n",
       "product_line                            707\n",
       "product_class                           707\n",
       "product_size                            707\n",
       "list_price                              510\n",
       "standard_cost                           707\n",
       "product_first_sold_date                 707\n",
       "date_product_first_sold                 707\n",
       "first_name                                6\n",
       "last_name                               661\n",
       "gender                                    6\n",
       "past_3_years_bike_related_purchases       6\n",
       "DOB                                     463\n",
       "job_title                              2483\n",
       "job_industry_category                  3330\n",
       "wealth_segment                            6\n",
       "deceased_indicator                        6\n",
       "default                                1505\n",
       "owns_car                                  6\n",
       "tenure                                    6\n",
       "address                                  32\n",
       "postcode                                 32\n",
       "state                                    32\n",
       "country                                  32\n",
       "property_valuation                       32\n",
       "dtype: int64"
      ]
     },
     "execution_count": 64,
     "metadata": {},
     "output_type": "execute_result"
    }
   ],
   "source": [
    "df.isna().sum()"
   ]
  },
  {
   "cell_type": "markdown",
   "id": "450bb432",
   "metadata": {},
   "source": [
    "It appears that there are 510 entries where there are no transactions. Let us investigate whether the transaction ID was not entered or there is also no information related to the transaction such as:\n",
    "- product ID\n",
    "- transaction date\n",
    "- online order\n",
    "- online_order\n",
    "- order_status\n",
    "- brand\n",
    "- product_line\n",
    "- product_class\n",
    "- product_size\n",
    "- list_price\n",
    "- standard_cost\n",
    "- product_first_sold_date\n",
    "- date_product_first_sold"
   ]
  },
  {
   "cell_type": "code",
   "execution_count": 68,
   "id": "a454004f",
   "metadata": {
    "collapsed": true
   },
   "outputs": [
    {
     "data": {
      "text/plain": [
       "transaction_id                         510\n",
       "product_id                             510\n",
       "customer_id                              0\n",
       "transaction_date                       510\n",
       "online_order                           510\n",
       "order_status                           510\n",
       "brand                                  510\n",
       "product_line                           510\n",
       "product_class                          510\n",
       "product_size                           510\n",
       "list_price                             510\n",
       "standard_cost                          510\n",
       "product_first_sold_date                510\n",
       "date_product_first_sold                510\n",
       "first_name                               3\n",
       "last_name                               16\n",
       "gender                                   3\n",
       "past_3_years_bike_related_purchases      3\n",
       "DOB                                     14\n",
       "job_title                               86\n",
       "job_industry_category                   98\n",
       "wealth_segment                           3\n",
       "deceased_indicator                       3\n",
       "default                                 51\n",
       "owns_car                                 3\n",
       "tenure                                   3\n",
       "address                                  0\n",
       "postcode                                 0\n",
       "state                                    0\n",
       "country                                  0\n",
       "property_valuation                       0\n",
       "dtype: int64"
      ]
     },
     "execution_count": 68,
     "metadata": {},
     "output_type": "execute_result"
    }
   ],
   "source": [
    "# Define transaction-related columns\n",
    "trans_cols = ['transaction_id', 'product_id', 'transaction_date', 'online_order', 'order_status',\n",
    "              'brand', 'product_line', 'product_class', 'product_size', 'list_price',\n",
    "              'standard_cost', 'product_first_sold_date', 'date_product_first_sold']\n",
    "\n",
    "# Obtain a breakdown of null values for each of these columns\n",
    "df.loc[df['transaction_id'].isna()].isna().sum()"
   ]
  },
  {
   "cell_type": "markdown",
   "id": "c774b0aa",
   "metadata": {},
   "source": [
    "All entries that have no transaction ID also have no transaction-associated information. This is likely due to cancelled or incomplete transactions, fraud or simply obtaining demographic information for non-customers.  \n",
    "\n",
    "Interestingly, all of these entries contain varying degrees of customer demographic information. I will subset out this portion of the data for downstream analysis."
   ]
  },
  {
   "cell_type": "code",
   "execution_count": null,
   "id": "c14d788f",
   "metadata": {},
   "outputs": [],
   "source": [
    "# Subset data with no transactions\n",
    "df_no_cust = df.loc[df['transaction_id'].isna()]\n",
    "\n",
    "# Save:\n",
    "df_no_cust.to_csv('df_no_cust.csv')\n",
    "\n",
    "# Exclude data without transactions\n",
    "df = df.loc[~df['transaction_id'].isna()]\n",
    "\n",
    "# Save\n",
    "df.to_csv('df.csv')"
   ]
  },
  {
   "cell_type": "markdown",
   "id": "d62a16f7",
   "metadata": {},
   "source": [
    "### Convert to appropriate data types"
   ]
  },
  {
   "cell_type": "code",
   "execution_count": 69,
   "id": "38bc57da",
   "metadata": {},
   "outputs": [],
   "source": [
    "# Convert to appropriate types\n",
    "\n",
    "with warnings.catch_warnings():\n",
    "    warnings.filterwarnings('ignore', category=pd.errors.SettingWithCopyWarning)\n",
    "    # product ID\n",
    "    df['product_id'] = pd.to_numeric(df['product_id'], errors='coerce').astype(pd.Int32Dtype())\n",
    "\n",
    "    # past purchases 3 years\n",
    "    df['past_3_years_bike_related_purchases'] = pd.to_numeric(\n",
    "        df['past_3_years_bike_related_purchases'], errors='coerce'\n",
    "    ).astype(pd.Int32Dtype())\n",
    "\n",
    "    # tenure\n",
    "    df['tenure'] = pd.to_numeric(\n",
    "        df['tenure'], errors='coerce'\n",
    "    ).astype(pd.Int16Dtype())\n",
    "\n",
    "    # postal code\n",
    "    df['postcode'] = pd.to_numeric(\n",
    "        df['postcode'], errors='coerce'\n",
    "    ).astype(pd.Int32Dtype())\n",
    "\n",
    "    # property valuation\n",
    "    df['property_valuation'] = pd.to_numeric(\n",
    "        df['property_valuation'], errors='coerce'\n",
    "    ).astype(pd.Int32Dtype())"
   ]
  },
  {
   "cell_type": "markdown",
   "id": "61d658df",
   "metadata": {},
   "source": [
    "### Drop unnecessary/unreadable features"
   ]
  },
  {
   "cell_type": "code",
   "execution_count": null,
   "id": "61b7c1e1",
   "metadata": {
    "scrolled": true
   },
   "outputs": [],
   "source": [
    "with warnings.catch_warnings():\n",
    "    warnings.filterwarnings('ignore', category=pd.errors.SettingWithCopyWarning)\n",
    "\n",
    "    # Remove product_first_sold_date as it has already been transformed\n",
    "    df.drop('product_first_sold_date', axis=1, inplace=True)\n",
    "\n",
    "    # Drop default column as it is not legible/encrypted\n",
    "    df.drop(columns='default', inplace=True)"
   ]
  },
  {
   "cell_type": "code",
   "execution_count": 103,
   "id": "6fe87f72",
   "metadata": {},
   "outputs": [],
   "source": [
    "# Save:\n",
    "df.to_csv('df.csv')"
   ]
  },
  {
   "cell_type": "markdown",
   "id": "50834f42",
   "metadata": {},
   "source": [
    "### Impute null values\n",
    "\n",
    "Let us first start with assessing how many null values there are for each feature."
   ]
  },
  {
   "cell_type": "code",
   "execution_count": 104,
   "id": "52535134",
   "metadata": {},
   "outputs": [
    {
     "data": {
      "text/plain": [
       "transaction_id                            0\n",
       "product_id                                0\n",
       "customer_id                               0\n",
       "transaction_date                          0\n",
       "online_order                            360\n",
       "order_status                              0\n",
       "brand                                   197\n",
       "product_line                            197\n",
       "product_class                           197\n",
       "product_size                            197\n",
       "list_price                                0\n",
       "standard_cost                           197\n",
       "date_product_first_sold                 197\n",
       "first_name                                3\n",
       "last_name                               645\n",
       "gender                                    3\n",
       "past_3_years_bike_related_purchases       3\n",
       "DOB                                     449\n",
       "job_title                              2397\n",
       "job_industry_category                  3232\n",
       "wealth_segment                            3\n",
       "deceased_indicator                        3\n",
       "owns_car                                  3\n",
       "tenure                                    3\n",
       "address                                  32\n",
       "postcode                                 32\n",
       "state                                    32\n",
       "country                                  32\n",
       "property_valuation                       32\n",
       "dtype: int64"
      ]
     },
     "execution_count": 104,
     "metadata": {},
     "output_type": "execute_result"
    }
   ],
   "source": [
    "df.isna().sum()"
   ]
  },
  {
   "cell_type": "markdown",
   "id": "00a10341",
   "metadata": {},
   "source": [
    "#### `online_order`\n",
    "\n",
    ">Since one expects online order to be automatically registered as such in the system, the missing values for whether a transaction was done online or in-person will be imputed by declaring online_order to be False (i.e. in-person purchase)."
   ]
  },
  {
   "cell_type": "code",
   "execution_count": 125,
   "id": "1c3b0153",
   "metadata": {},
   "outputs": [],
   "source": [
    "with warnings.catch_warnings():\n",
    "    warnings.filterwarnings('ignore', category=pd.errors.SettingWithCopyWarning)\n",
    "    df['online_order'].fillna('False', inplace=True)"
   ]
  },
  {
   "cell_type": "markdown",
   "id": "cf5ea2c4",
   "metadata": {},
   "source": [
    "#### `first_name`\n",
    "\n",
    ">Since we do not know the first name of some customers, there is no way to predict them and they are generally not that important, the first name will be replaced by the letter 'M' that would stay for both Mr and Mrs/Ms."
   ]
  },
  {
   "cell_type": "code",
   "execution_count": 126,
   "id": "bb90e98e",
   "metadata": {},
   "outputs": [],
   "source": [
    "with warnings.catch_warnings():\n",
    "    warnings.filterwarnings('ignore', category=pd.errors.SettingWithCopyWarning)\n",
    "    df['first_name'].fillna('M', inplace=True)"
   ]
  },
  {
   "cell_type": "markdown",
   "id": "4bc56087",
   "metadata": {},
   "source": [
    "#### `last_name`\n",
    "\n",
    ">Same as `first_name` except that it will be replaced with \"Lastname\" in order to preserve other information about these customers."
   ]
  },
  {
   "cell_type": "code",
   "execution_count": 128,
   "id": "94f756fa",
   "metadata": {},
   "outputs": [],
   "source": [
    "with warnings.catch_warnings():\n",
    "    warnings.filterwarnings('ignore', category=pd.errors.SettingWithCopyWarning)\n",
    "    df['last_name'].fillna('Lastname', inplace=True)"
   ]
  },
  {
   "cell_type": "markdown",
   "id": "bd2ab013",
   "metadata": {},
   "source": [
    "#### `gender`\n",
    "\n",
    ">For gender that has not been selected, missing values will be imputed by assigning them to one of the categories, \"U\", which stands for unknown."
   ]
  },
  {
   "cell_type": "code",
   "execution_count": 132,
   "id": "fb40a5b2",
   "metadata": {},
   "outputs": [],
   "source": [
    "with warnings.catch_warnings():\n",
    "    warnings.filterwarnings('ignore', category=pd.errors.SettingWithCopyWarning)\n",
    "    df['gender'].fillna('U', inplace=True)"
   ]
  },
  {
   "cell_type": "markdown",
   "id": "44566c0d",
   "metadata": {},
   "source": [
    "#### `deceased_indicator`\n",
    "\n",
    ">Since it is unknown whether the customer status is diceased or not, unavailable values will be imputed with \"N\" for No."
   ]
  },
  {
   "cell_type": "code",
   "execution_count": 136,
   "id": "90f926db",
   "metadata": {},
   "outputs": [],
   "source": [
    "with warnings.catch_warnings():\n",
    "    warnings.filterwarnings('ignore', category=pd.errors.SettingWithCopyWarning)\n",
    "    df['deceased_indicator'].fillna('N', inplace=True)"
   ]
  },
  {
   "cell_type": "code",
   "execution_count": 140,
   "id": "fa3007f9",
   "metadata": {},
   "outputs": [],
   "source": [
    "df.to_csv('df.csv')"
   ]
  },
  {
   "cell_type": "markdown",
   "id": "0e3d8a5f",
   "metadata": {},
   "source": [
    "---"
   ]
  },
  {
   "cell_type": "markdown",
   "id": "93d179d8",
   "metadata": {},
   "source": [
    "<div style=\"background-color: turquoise; padding: 10px;\">\n",
    "In order to impute the rest of the values, an autoencoder deep learning model will be used to predict missing values based on existing values. This will be achieved in the next module.\n",
    "</div>"
   ]
  }
 ],
 "metadata": {
  "kernelspec": {
   "display_name": "Python 3 (ipykernel)",
   "language": "python",
   "name": "python3"
  },
  "language_info": {
   "codemirror_mode": {
    "name": "ipython",
    "version": 3
   },
   "file_extension": ".py",
   "mimetype": "text/x-python",
   "name": "python",
   "nbconvert_exporter": "python",
   "pygments_lexer": "ipython3",
   "version": "3.8.17"
  }
 },
 "nbformat": 4,
 "nbformat_minor": 5
}
