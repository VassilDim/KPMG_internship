{
 "cells": [
  {
   "cell_type": "markdown",
   "id": "fdf096c2",
   "metadata": {},
   "source": [
    "# Module 1: TRANSACTIONS"
   ]
  },
  {
   "cell_type": "markdown",
   "id": "377f19b2",
   "metadata": {},
   "source": [
    "## Load libraries"
   ]
  },
  {
   "cell_type": "code",
   "execution_count": 1,
   "id": "3d84ffc5",
   "metadata": {},
   "outputs": [],
   "source": [
    "import numpy as np\n",
    "import pandas as pd\n",
    "import matplotlib.pyplot as plt"
   ]
  },
  {
   "cell_type": "markdown",
   "id": "34d950df",
   "metadata": {},
   "source": [
    "## FUNCTIONS"
   ]
  },
  {
   "cell_type": "code",
   "execution_count": 2,
   "id": "fa89aef7",
   "metadata": {},
   "outputs": [],
   "source": [
    "def disto_bars(colname, df):\n",
    "    # Check for missing values\n",
    "    print(f'There are {df[colname].isna().sum()} missing entries for {colname}.')\n",
    "\n",
    "    # Plot distribution\n",
    "    value_counts = df[colname].value_counts(dropna=False).sort_index()\n",
    "\n",
    "    plt.figure()\n",
    "    plt.bar(value_counts.index.astype(str), value_counts.values)\n",
    "    #plt.text(value_counts.index.astype(str)[-1], value_counts.values[-1]+100, str(value_counts.values[1]), color='red')\n",
    "    plt.xticks(rotation=90)\n",
    "    plt.xlabel(colname)\n",
    "    plt.ylabel('count')\n",
    "    plt.title('Counts per category')\n",
    "    plt.show()"
   ]
  },
  {
   "cell_type": "code",
   "execution_count": 3,
   "id": "efad4218",
   "metadata": {},
   "outputs": [],
   "source": [
    "def disto_histo(colname, df, bins=30):\n",
    "    # Check for missing values\n",
    "    print(f'There are {df[colname].isna().sum()} missing values for {colname}.')\n",
    "    # Histogram\n",
    "    plt.figure()\n",
    "    plt.hist(df[colname], bins)\n",
    "    plt.xlabel(colname)\n",
    "    plt.ylabel('count')\n",
    "    plt.title('Distribution of values for ' + colname)\n",
    "    plt.show()"
   ]
  },
  {
   "cell_type": "markdown",
   "id": "f31be7e8",
   "metadata": {},
   "source": [
    "## Load `transactions` table"
   ]
  },
  {
   "cell_type": "code",
   "execution_count": 4,
   "id": "8456d82a",
   "metadata": {},
   "outputs": [],
   "source": [
    "transactions = pd.read_csv('transactions.csv')"
   ]
  },
  {
   "cell_type": "markdown",
   "id": "d1e63b9d",
   "metadata": {},
   "source": [
    "## Identify issues with table"
   ]
  },
  {
   "cell_type": "code",
   "execution_count": 5,
   "id": "ab65a2e5",
   "metadata": {},
   "outputs": [],
   "source": [
    "# Rename columns\n",
    "transactions.columns = transactions.loc[0]\n",
    "\n",
    "# Remove first row\n",
    "transactions.drop(0, inplace=True)"
   ]
  },
  {
   "cell_type": "code",
   "execution_count": 6,
   "id": "f80d2e98",
   "metadata": {},
   "outputs": [
    {
     "data": {
      "text/html": [
       "<div>\n",
       "<style scoped>\n",
       "    .dataframe tbody tr th:only-of-type {\n",
       "        vertical-align: middle;\n",
       "    }\n",
       "\n",
       "    .dataframe tbody tr th {\n",
       "        vertical-align: top;\n",
       "    }\n",
       "\n",
       "    .dataframe thead th {\n",
       "        text-align: right;\n",
       "    }\n",
       "</style>\n",
       "<table border=\"1\" class=\"dataframe\">\n",
       "  <thead>\n",
       "    <tr style=\"text-align: right;\">\n",
       "      <th></th>\n",
       "      <th>0</th>\n",
       "      <th>transaction_id</th>\n",
       "      <th>product_id</th>\n",
       "      <th>customer_id</th>\n",
       "      <th>transaction_date</th>\n",
       "      <th>online_order</th>\n",
       "      <th>order_status</th>\n",
       "      <th>brand</th>\n",
       "      <th>product_line</th>\n",
       "      <th>product_class</th>\n",
       "      <th>product_size</th>\n",
       "      <th>list_price</th>\n",
       "      <th>standard_cost</th>\n",
       "      <th>product_first_sold_date</th>\n",
       "    </tr>\n",
       "  </thead>\n",
       "  <tbody>\n",
       "    <tr>\n",
       "      <th>1</th>\n",
       "      <td>1</td>\n",
       "      <td>1</td>\n",
       "      <td>2</td>\n",
       "      <td>2950</td>\n",
       "      <td>2017-02-25 00:00:00</td>\n",
       "      <td>False</td>\n",
       "      <td>Approved</td>\n",
       "      <td>Solex</td>\n",
       "      <td>Standard</td>\n",
       "      <td>medium</td>\n",
       "      <td>medium</td>\n",
       "      <td>71.49</td>\n",
       "      <td>53.62</td>\n",
       "      <td>41245</td>\n",
       "    </tr>\n",
       "    <tr>\n",
       "      <th>2</th>\n",
       "      <td>2</td>\n",
       "      <td>2</td>\n",
       "      <td>3</td>\n",
       "      <td>3120</td>\n",
       "      <td>2017-05-21 00:00:00</td>\n",
       "      <td>True</td>\n",
       "      <td>Approved</td>\n",
       "      <td>Trek Bicycles</td>\n",
       "      <td>Standard</td>\n",
       "      <td>medium</td>\n",
       "      <td>large</td>\n",
       "      <td>2091.47</td>\n",
       "      <td>388.92</td>\n",
       "      <td>41701</td>\n",
       "    </tr>\n",
       "    <tr>\n",
       "      <th>3</th>\n",
       "      <td>3</td>\n",
       "      <td>3</td>\n",
       "      <td>37</td>\n",
       "      <td>402</td>\n",
       "      <td>2017-10-16 00:00:00</td>\n",
       "      <td>False</td>\n",
       "      <td>Approved</td>\n",
       "      <td>OHM Cycles</td>\n",
       "      <td>Standard</td>\n",
       "      <td>low</td>\n",
       "      <td>medium</td>\n",
       "      <td>1793.43</td>\n",
       "      <td>248.82</td>\n",
       "      <td>36361</td>\n",
       "    </tr>\n",
       "    <tr>\n",
       "      <th>4</th>\n",
       "      <td>4</td>\n",
       "      <td>4</td>\n",
       "      <td>88</td>\n",
       "      <td>3135</td>\n",
       "      <td>2017-08-31 00:00:00</td>\n",
       "      <td>False</td>\n",
       "      <td>Approved</td>\n",
       "      <td>Norco Bicycles</td>\n",
       "      <td>Standard</td>\n",
       "      <td>medium</td>\n",
       "      <td>medium</td>\n",
       "      <td>1198.46</td>\n",
       "      <td>381.1</td>\n",
       "      <td>36145</td>\n",
       "    </tr>\n",
       "    <tr>\n",
       "      <th>5</th>\n",
       "      <td>5</td>\n",
       "      <td>5</td>\n",
       "      <td>78</td>\n",
       "      <td>787</td>\n",
       "      <td>2017-10-01 00:00:00</td>\n",
       "      <td>True</td>\n",
       "      <td>Approved</td>\n",
       "      <td>Giant Bicycles</td>\n",
       "      <td>Standard</td>\n",
       "      <td>medium</td>\n",
       "      <td>large</td>\n",
       "      <td>1765.3</td>\n",
       "      <td>709.48</td>\n",
       "      <td>42226</td>\n",
       "    </tr>\n",
       "  </tbody>\n",
       "</table>\n",
       "</div>"
      ],
      "text/plain": [
       "0  0 transaction_id product_id customer_id     transaction_date online_order  \\\n",
       "1  1              1          2        2950  2017-02-25 00:00:00        False   \n",
       "2  2              2          3        3120  2017-05-21 00:00:00         True   \n",
       "3  3              3         37         402  2017-10-16 00:00:00        False   \n",
       "4  4              4         88        3135  2017-08-31 00:00:00        False   \n",
       "5  5              5         78         787  2017-10-01 00:00:00         True   \n",
       "\n",
       "0 order_status           brand product_line product_class product_size  \\\n",
       "1     Approved           Solex     Standard        medium       medium   \n",
       "2     Approved   Trek Bicycles     Standard        medium        large   \n",
       "3     Approved      OHM Cycles     Standard           low       medium   \n",
       "4     Approved  Norco Bicycles     Standard        medium       medium   \n",
       "5     Approved  Giant Bicycles     Standard        medium        large   \n",
       "\n",
       "0 list_price standard_cost product_first_sold_date  \n",
       "1      71.49         53.62                   41245  \n",
       "2    2091.47        388.92                   41701  \n",
       "3    1793.43        248.82                   36361  \n",
       "4    1198.46         381.1                   36145  \n",
       "5     1765.3        709.48                   42226  "
      ]
     },
     "metadata": {},
     "output_type": "display_data"
    }
   ],
   "source": [
    "display(transactions.head())"
   ]
  },
  {
   "cell_type": "markdown",
   "id": "ccbd4c89",
   "metadata": {},
   "source": [
    "### `transaction_id`\n",
    "\n",
    "For this column, 2 important considerations are that:\n",
    "- values are unique integers\n",
    "- there is a `transaction_id` associated with each transaction (no null values)  \n",
    "\n",
    "The `transaction_id` values will be set as index for the dataframe for convenience."
   ]
  },
  {
   "cell_type": "code",
   "execution_count": 7,
   "id": "723b2808",
   "metadata": {},
   "outputs": [
    {
     "name": "stdout",
     "output_type": "stream",
     "text": [
      "There are 0 duplicated transaction IDs.\n",
      "There are 0 missing transaction IDs.\n"
     ]
    }
   ],
   "source": [
    "# Check for duplications\n",
    "print(f'There are {transactions.transaction_id.duplicated().sum()} duplicated transaction IDs.')\n",
    "# Check for missing values\n",
    "print(f'There are {transactions.transaction_id.isna().sum()} missing transaction IDs.')"
   ]
  },
  {
   "cell_type": "code",
   "execution_count": 8,
   "id": "a8158415",
   "metadata": {},
   "outputs": [],
   "source": [
    "transactions.set_index('transaction_id', inplace=True)"
   ]
  },
  {
   "cell_type": "markdown",
   "id": "5a389d11",
   "metadata": {},
   "source": [
    "### `product_id`\n",
    "\n",
    "Verify the distribution of product IDs and potential erroneous or missing values. Flag problematic rows."
   ]
  },
  {
   "cell_type": "code",
   "execution_count": 9,
   "id": "92c9a0df",
   "metadata": {},
   "outputs": [
    {
     "name": "stdout",
     "output_type": "stream",
     "text": [
      "There are 0 missing entries for product_id.\n"
     ]
    },
    {
     "data": {
      "image/png": "[encoded data removed]",
      "text/plain": [
       "<Figure size 640x480 with 1 Axes>"
      ]
     },
     "metadata": {},
     "output_type": "display_data"
    }
   ],
   "source": [
    "disto_bars('product_id', transactions)"
   ]
  },
  {
   "cell_type": "markdown",
   "id": "aee86cba",
   "metadata": {},
   "source": [
    "<div class=\"alert alert-danger\">\n",
    "    <strong>FLAG:</strong> Product ID of 0 is suspicious especially considering that there are different brands corresponding to the same product id of 0. These entries should definitely be flagged as suspicious.\n",
    "</div>"
   ]
  },
  {
   "cell_type": "markdown",
   "id": "03c282e4",
   "metadata": {},
   "source": [
    "### `customer_id`\n",
    "\n",
    "Verify the distribution of customer IDs and potential erroneous or missing values. Flag problematic rows."
   ]
  },
  {
   "cell_type": "code",
   "execution_count": 10,
   "id": "6b95acee",
   "metadata": {},
   "outputs": [],
   "source": [
    "transactions['customer_id'] = transactions['customer_id'].astype(int)"
   ]
  },
  {
   "cell_type": "code",
   "execution_count": 11,
   "id": "a0682054",
   "metadata": {},
   "outputs": [
    {
     "name": "stdout",
     "output_type": "stream",
     "text": [
      "There are 0 missing customer IDs.\n"
     ]
    }
   ],
   "source": [
    "# Check for missing values\n",
    "print(f'There are {transactions.customer_id.isna().sum()} missing customer IDs.')"
   ]
  },
  {
   "cell_type": "code",
   "execution_count": 12,
   "id": "840e1161",
   "metadata": {},
   "outputs": [
    {
     "data": {
      "image/png": "[encoded data removed]",
      "text/plain": [
       "<Figure size 640x480 with 1 Axes>"
      ]
     },
     "metadata": {},
     "output_type": "display_data"
    }
   ],
   "source": [
    "value_counts = transactions['customer_id'].value_counts().sort_index()\n",
    "\n",
    "plt.figure()\n",
    "plt.bar(value_counts.index, value_counts.values)\n",
    "# plt.axvline(3500, color='red', linestyle=':')\n",
    "plt.xlabel('customer ID')\n",
    "plt.ylabel('count')\n",
    "plt.title('Counts by customer ID')\n",
    "plt.show()"
   ]
  },
  {
   "cell_type": "markdown",
   "id": "33d674ab",
   "metadata": {},
   "source": [
    "The customer ID numbers seem to be contiguous until about 3500. Let us zoom in to see what occurs past customer ID 3500"
   ]
  },
  {
   "cell_type": "code",
   "execution_count": 13,
   "id": "8c6a6928",
   "metadata": {},
   "outputs": [
    {
     "data": {
      "text/html": [
       "<div>\n",
       "<style scoped>\n",
       "    .dataframe tbody tr th:only-of-type {\n",
       "        vertical-align: middle;\n",
       "    }\n",
       "\n",
       "    .dataframe tbody tr th {\n",
       "        vertical-align: top;\n",
       "    }\n",
       "\n",
       "    .dataframe thead th {\n",
       "        text-align: right;\n",
       "    }\n",
       "</style>\n",
       "<table border=\"1\" class=\"dataframe\">\n",
       "  <thead>\n",
       "    <tr style=\"text-align: right;\">\n",
       "      <th></th>\n",
       "      <th>0</th>\n",
       "      <th>product_id</th>\n",
       "      <th>customer_id</th>\n",
       "      <th>transaction_date</th>\n",
       "      <th>online_order</th>\n",
       "      <th>order_status</th>\n",
       "      <th>brand</th>\n",
       "      <th>product_line</th>\n",
       "      <th>product_class</th>\n",
       "      <th>product_size</th>\n",
       "      <th>list_price</th>\n",
       "      <th>standard_cost</th>\n",
       "      <th>product_first_sold_date</th>\n",
       "    </tr>\n",
       "    <tr>\n",
       "      <th>transaction_id</th>\n",
       "      <th></th>\n",
       "      <th></th>\n",
       "      <th></th>\n",
       "      <th></th>\n",
       "      <th></th>\n",
       "      <th></th>\n",
       "      <th></th>\n",
       "      <th></th>\n",
       "      <th></th>\n",
       "      <th></th>\n",
       "      <th></th>\n",
       "      <th></th>\n",
       "      <th></th>\n",
       "    </tr>\n",
       "  </thead>\n",
       "  <tbody>\n",
       "    <tr>\n",
       "      <th>8708</th>\n",
       "      <td>8708</td>\n",
       "      <td>0</td>\n",
       "      <td>5034</td>\n",
       "      <td>2017-10-07 00:00:00</td>\n",
       "      <td>False</td>\n",
       "      <td>Approved</td>\n",
       "      <td>Solex</td>\n",
       "      <td>Road</td>\n",
       "      <td>medium</td>\n",
       "      <td>medium</td>\n",
       "      <td>416.98</td>\n",
       "      <td>312.7350159</td>\n",
       "      <td>42218</td>\n",
       "    </tr>\n",
       "    <tr>\n",
       "      <th>16701</th>\n",
       "      <td>16701</td>\n",
       "      <td>0</td>\n",
       "      <td>5034</td>\n",
       "      <td>2017-01-27 00:00:00</td>\n",
       "      <td>False</td>\n",
       "      <td>Approved</td>\n",
       "      <td>Norco Bicycles</td>\n",
       "      <td>Standard</td>\n",
       "      <td>medium</td>\n",
       "      <td>medium</td>\n",
       "      <td>360.4</td>\n",
       "      <td>270.2999878</td>\n",
       "      <td>35667</td>\n",
       "    </tr>\n",
       "    <tr>\n",
       "      <th>17469</th>\n",
       "      <td>17469</td>\n",
       "      <td>0</td>\n",
       "      <td>5034</td>\n",
       "      <td>2017-01-03 00:00:00</td>\n",
       "      <td>False</td>\n",
       "      <td>Approved</td>\n",
       "      <td>OHM Cycles</td>\n",
       "      <td>Road</td>\n",
       "      <td>medium</td>\n",
       "      <td>medium</td>\n",
       "      <td>742.54</td>\n",
       "      <td>667.4000244</td>\n",
       "      <td>33879</td>\n",
       "    </tr>\n",
       "  </tbody>\n",
       "</table>\n",
       "</div>"
      ],
      "text/plain": [
       "0                   0 product_id  customer_id     transaction_date  \\\n",
       "transaction_id                                                       \n",
       "8708             8708          0         5034  2017-10-07 00:00:00   \n",
       "16701           16701          0         5034  2017-01-27 00:00:00   \n",
       "17469           17469          0         5034  2017-01-03 00:00:00   \n",
       "\n",
       "0              online_order order_status           brand product_line  \\\n",
       "transaction_id                                                          \n",
       "8708                  False     Approved           Solex         Road   \n",
       "16701                 False     Approved  Norco Bicycles     Standard   \n",
       "17469                 False     Approved      OHM Cycles         Road   \n",
       "\n",
       "0              product_class product_size list_price standard_cost  \\\n",
       "transaction_id                                                       \n",
       "8708                  medium       medium     416.98   312.7350159   \n",
       "16701                 medium       medium      360.4   270.2999878   \n",
       "17469                 medium       medium     742.54   667.4000244   \n",
       "\n",
       "0              product_first_sold_date  \n",
       "transaction_id                          \n",
       "8708                             42218  \n",
       "16701                            35667  \n",
       "17469                            33879  "
      ]
     },
     "execution_count": 13,
     "metadata": {},
     "output_type": "execute_result"
    }
   ],
   "source": [
    "transactions[transactions.customer_id>3500]"
   ]
  },
  {
   "cell_type": "markdown",
   "id": "0d1bd019",
   "metadata": {},
   "source": [
    "We have a single customer 5034 who bought 3 products (supposedly)."
   ]
  },
  {
   "cell_type": "markdown",
   "id": "310a6deb",
   "metadata": {},
   "source": [
    "<div class=\"alert alert-warning\">\n",
    "    <strong>Recommendation:</strong> Keep customer IDs in sequential order.\n",
    "</div>"
   ]
  },
  {
   "cell_type": "markdown",
   "id": "a4189cc3",
   "metadata": {},
   "source": [
    "### `transaction_date`  \n",
    "\n",
    "Verify the date is in the right format and whether there are any missing dates."
   ]
  },
  {
   "cell_type": "code",
   "execution_count": 14,
   "id": "27f7090b",
   "metadata": {},
   "outputs": [],
   "source": [
    "transactions.transaction_date = pd.to_datetime(transactions.transaction_date)"
   ]
  },
  {
   "cell_type": "code",
   "execution_count": 15,
   "id": "bfb87738",
   "metadata": {},
   "outputs": [
    {
     "name": "stdout",
     "output_type": "stream",
     "text": [
      "There are 0 missing transaction dates.\n"
     ]
    }
   ],
   "source": [
    "# Check for missing values\n",
    "print(f'There are {transactions.transaction_date.isna().sum()} missing transaction dates.')"
   ]
  },
  {
   "cell_type": "markdown",
   "id": "031cf4fc",
   "metadata": {},
   "source": [
    "### `online_order`\n",
    "\n",
    "One would expect the categories for `online_order` to be only one of 2 values: True or False. No null values should be present."
   ]
  },
  {
   "cell_type": "code",
   "execution_count": 16,
   "id": "889fe853",
   "metadata": {},
   "outputs": [
    {
     "name": "stdout",
     "output_type": "stream",
     "text": [
      "There are 360 missing entries about whether or not the order was done online.\n"
     ]
    }
   ],
   "source": [
    "# Check for missing values\n",
    "print(f'There are {transactions.online_order.isna().sum()} missing entries about whether or not the order was done online.')"
   ]
  },
  {
   "cell_type": "code",
   "execution_count": 17,
   "id": "2b476ac2",
   "metadata": {},
   "outputs": [
    {
     "data": {
      "image/png": "[encoded data removed]",
      "text/plain": [
       "<Figure size 640x480 with 1 Axes>"
      ]
     },
     "metadata": {},
     "output_type": "display_data"
    }
   ],
   "source": [
    "value_counts = transactions['online_order'].value_counts(dropna=False).sort_index()\n",
    "\n",
    "plt.figure()\n",
    "plt.bar(value_counts.index.astype(str), value_counts.values)\n",
    "plt.text(value_counts.index.astype(str)[2], value_counts.values[2]+100, str(value_counts.values[2]), color='red')\n",
    "plt.xlabel('online order')\n",
    "plt.ylabel('count')\n",
    "plt.title('Counts by customer ID')\n",
    "plt.show()"
   ]
  },
  {
   "cell_type": "markdown",
   "id": "f32e9642",
   "metadata": {},
   "source": [
    "<div class=\"alert alert-danger\">\n",
    "    <strong>FLAG:</strong> There are 360 missing values for whether the order was made online. These values will have to be imputed.\n",
    "</div>"
   ]
  },
  {
   "cell_type": "markdown",
   "id": "6235a5d9",
   "metadata": {},
   "source": [
    "### `order_status`\n",
    "\n",
    "One would expect the categories for `online_order` to be only one of 2 values: True or False. No null values should be present."
   ]
  },
  {
   "cell_type": "code",
   "execution_count": 18,
   "id": "41d100d5",
   "metadata": {},
   "outputs": [
    {
     "name": "stdout",
     "output_type": "stream",
     "text": [
      "There are 0 missing entries about the status of the order.\n"
     ]
    }
   ],
   "source": [
    "# Check for missing values\n",
    "print(f'There are {transactions.order_status.isna().sum()} missing entries about the status of the order.')"
   ]
  },
  {
   "cell_type": "code",
   "execution_count": 19,
   "id": "7a85f562",
   "metadata": {},
   "outputs": [
    {
     "data": {
      "image/png": "[encoded data removed]",
      "text/plain": [
       "<Figure size 640x480 with 1 Axes>"
      ]
     },
     "metadata": {},
     "output_type": "display_data"
    }
   ],
   "source": [
    "value_counts = transactions['order_status'].value_counts(dropna=False).sort_index()\n",
    "\n",
    "plt.figure()\n",
    "plt.bar(value_counts.index.astype(str), value_counts.values)\n",
    "plt.text(value_counts.index.astype(str)[1], value_counts.values[1]+1000, str(value_counts.values[1]), color='red')\n",
    "plt.xlabel('order status')\n",
    "plt.ylabel('count')\n",
    "plt.title('Counts by order status')\n",
    "plt.show()"
   ]
  },
  {
   "cell_type": "markdown",
   "id": "811edbf0",
   "metadata": {},
   "source": [
    ">There are 179 cancelled orders which is very little compared to approved orders. This represents a huge imbalance for future modelling and will likely have to be dealt with appropriately based on other information."
   ]
  },
  {
   "cell_type": "markdown",
   "id": "c14c8e43",
   "metadata": {},
   "source": [
    "### `brand`"
   ]
  },
  {
   "cell_type": "code",
   "execution_count": 20,
   "id": "be3cc530",
   "metadata": {},
   "outputs": [
    {
     "name": "stdout",
     "output_type": "stream",
     "text": [
      "There are 197 missing entries for brand.\n"
     ]
    },
    {
     "data": {
      "image/png": "[encoded data removed]",
      "text/plain": [
       "<Figure size 640x480 with 1 Axes>"
      ]
     },
     "metadata": {},
     "output_type": "display_data"
    }
   ],
   "source": [
    "# Check for missing values\n",
    "print(f'There are {transactions.brand.isna().sum()} missing entries for brand.')\n",
    "\n",
    "# Plot distribution\n",
    "value_counts = transactions['brand'].value_counts(dropna=False).sort_index()\n",
    "\n",
    "plt.figure()\n",
    "plt.bar(value_counts.index.astype(str), value_counts.values)\n",
    "plt.text(value_counts.index.astype(str)[-1], value_counts.values[-1]+100, str(value_counts.values[1]), color='red')\n",
    "plt.xticks(rotation=90)\n",
    "plt.xlabel('brand')\n",
    "plt.ylabel('count')\n",
    "plt.title('Counts per brand')\n",
    "plt.show()"
   ]
  },
  {
   "cell_type": "markdown",
   "id": "b724fe71",
   "metadata": {},
   "source": [
    "<div class=\"alert alert-danger\">\n",
    "    <strong>FLAG:</strong> There are 2910 missing values for the brand. These values will have to be imputed.\n",
    "</div>"
   ]
  },
  {
   "cell_type": "markdown",
   "id": "4a011ca6",
   "metadata": {},
   "source": [
    "### `product_line`"
   ]
  },
  {
   "cell_type": "code",
   "execution_count": 197,
   "id": "d85111b9",
   "metadata": {},
   "outputs": [
    {
     "name": "stdout",
     "output_type": "stream",
     "text": [
      "There are 197 missing entries for product_line.\n"
     ]
    },
    {
     "data": {
      "image/png": "[encoded data removed]",
      "text/plain": [
       "<Figure size 640x480 with 1 Axes>"
      ]
     },
     "metadata": {},
     "output_type": "display_data"
    }
   ],
   "source": [
    "disto_bars('product_line', transactions)"
   ]
  },
  {
   "cell_type": "markdown",
   "id": "0362c371",
   "metadata": {},
   "source": [
    "<div class=\"alert alert-danger\">\n",
    "    <strong>FLAG:</strong> There are 197 missing values for the product line. These values will have to be imputed.\n",
    "</div>"
   ]
  },
  {
   "cell_type": "markdown",
   "id": "2904adf5",
   "metadata": {},
   "source": [
    "### `product_class`"
   ]
  },
  {
   "cell_type": "code",
   "execution_count": 198,
   "id": "bc059cee",
   "metadata": {},
   "outputs": [
    {
     "name": "stdout",
     "output_type": "stream",
     "text": [
      "There are 197 missing entries for product_class.\n"
     ]
    },
    {
     "data": {
      "image/png": "[encoded data removed]",
      "text/plain": [
       "<Figure size 640x480 with 1 Axes>"
      ]
     },
     "metadata": {},
     "output_type": "display_data"
    }
   ],
   "source": [
    "disto_bars('product_class', transactions)"
   ]
  },
  {
   "cell_type": "markdown",
   "id": "b62477d6",
   "metadata": {},
   "source": [
    "<div class=\"alert alert-danger\">\n",
    "    <strong>FLAG:</strong> There are 197 missing values for the product line. These values will have to be imputed.\n",
    "</div>"
   ]
  },
  {
   "cell_type": "markdown",
   "id": "b42ea863",
   "metadata": {},
   "source": [
    "### `product_size`"
   ]
  },
  {
   "cell_type": "code",
   "execution_count": 199,
   "id": "f0426a3d",
   "metadata": {},
   "outputs": [
    {
     "name": "stdout",
     "output_type": "stream",
     "text": [
      "There are 197 missing entries for product_size.\n"
     ]
    },
    {
     "data": {
      "image/png": "[encoded data removed]",
      "text/plain": [
       "<Figure size 640x480 with 1 Axes>"
      ]
     },
     "metadata": {},
     "output_type": "display_data"
    }
   ],
   "source": [
    "disto_bars('product_size', transactions)"
   ]
  },
  {
   "cell_type": "markdown",
   "id": "41d08fbd",
   "metadata": {},
   "source": [
    "<div class=\"alert alert-danger\">\n",
    "    <strong>FLAG:</strong> There are 197 missing values for the product line. These values will have to be imputed.\n",
    "</div>"
   ]
  },
  {
   "cell_type": "markdown",
   "id": "cd7ecbc4",
   "metadata": {},
   "source": [
    "### `list_price`"
   ]
  },
  {
   "cell_type": "code",
   "execution_count": 206,
   "id": "0136eebb",
   "metadata": {},
   "outputs": [
    {
     "name": "stdout",
     "output_type": "stream",
     "text": [
      "There are 0 missing values for list_price.\n"
     ]
    },
    {
     "data": {
      "image/png": "[encoded data removed]",
      "text/plain": [
       "<Figure size 640x480 with 1 Axes>"
      ]
     },
     "metadata": {},
     "output_type": "display_data"
    }
   ],
   "source": [
    "transactions['list_price'] = transactions['list_price'].astype(float)\n",
    "\n",
    "disto_histo('list_price', transactions)"
   ]
  },
  {
   "cell_type": "markdown",
   "id": "6bec105c",
   "metadata": {},
   "source": [
    "There are no missing values. However, there is a sizable proportion that appears in the bin close to 0. Let us see how many 0 values there are."
   ]
  },
  {
   "cell_type": "code",
   "execution_count": 203,
   "id": "dc455341",
   "metadata": {},
   "outputs": [
    {
     "data": {
      "text/plain": [
       "0"
      ]
     },
     "execution_count": 203,
     "metadata": {},
     "output_type": "execute_result"
    }
   ],
   "source": [
    "transactions[transactions['list_price']==0]['list_price'].count()"
   ]
  },
  {
   "cell_type": "markdown",
   "id": "a16af499",
   "metadata": {},
   "source": [
    "None of the list_prices are 0."
   ]
  },
  {
   "cell_type": "markdown",
   "id": "8879a269",
   "metadata": {},
   "source": [
    "### `standard_cost`"
   ]
  },
  {
   "cell_type": "code",
   "execution_count": 21,
   "id": "c641d581",
   "metadata": {},
   "outputs": [],
   "source": [
    "transactions['standard_cost'] = transactions['standard_cost'].astype(float)"
   ]
  },
  {
   "cell_type": "code",
   "execution_count": 22,
   "id": "970c4326",
   "metadata": {},
   "outputs": [
    {
     "name": "stdout",
     "output_type": "stream",
     "text": [
      "There are 197 missing values for standard_cost.\n"
     ]
    },
    {
     "data": {
      "image/png": "[encoded data removed]",
      "text/plain": [
       "<Figure size 640x480 with 1 Axes>"
      ]
     },
     "metadata": {},
     "output_type": "display_data"
    }
   ],
   "source": [
    "disto_histo('standard_cost', transactions)"
   ]
  },
  {
   "cell_type": "markdown",
   "id": "0c401628",
   "metadata": {},
   "source": [
    "<div class=\"alert alert-danger\">\n",
    "    <strong>FLAG:</strong> There are 197 missing values for the standard cost. These values will have to be imputed. Also, there is a gap between 1250 and 1500 bins for \"standard_price\".\n",
    "</div>"
   ]
  },
  {
   "cell_type": "markdown",
   "id": "05a43e2e",
   "metadata": {},
   "source": [
    "### `product_first_sold_date`\n",
    "\n",
    "Clearly, the values for this column are expected to be dates, but are integers instead. This likely represents the count in days since the origin (1900-01-01 in Excel). I assume that the origin is the origin used in Excel as the document was provided in an excel format and will therefore proceed to calculate the actual date based on this assumption."
   ]
  },
  {
   "cell_type": "code",
   "execution_count": 208,
   "id": "821b5b9b",
   "metadata": {},
   "outputs": [
    {
     "name": "stdout",
     "output_type": "stream",
     "text": [
      "Null values for product_first_sold_date: 197\n"
     ]
    }
   ],
   "source": [
    "# Check for nulls\n",
    "print('Null values for product_first_sold_date:', transactions['product_first_sold_date'].isna().sum())\n",
    "\n",
    "# Check for non-integer entries\n",
    "non_int_entries = (transactions['product_first_sold_date'].apply(\n",
    "    lambda x: not isinstance(x, int)) |\\\n",
    "transactions['product_first_sold_date'].apply(\n",
    "    lambda x: isinstance(x, float) and not x.is_integer())\n",
    ").sum()"
   ]
  },
  {
   "cell_type": "markdown",
   "id": "8c662a50",
   "metadata": {},
   "source": [
    "There are only integers as dates and 197 null values."
   ]
  },
  {
   "cell_type": "code",
   "execution_count": 209,
   "id": "2972aaaa",
   "metadata": {},
   "outputs": [
    {
     "name": "stdout",
     "output_type": "stream",
     "text": [
      "Null values for product_first_sold_date: 197\n"
     ]
    }
   ],
   "source": [
    "# Convert to integer\n",
    "transactions['product_first_sold_date'] = pd.to_numeric(\n",
    "    transactions['product_first_sold_date'], errors='coerce')\n",
    "\n",
    "transactions['date_product_first_sold'] = pd.to_datetime(\n",
    "    transactions['product_first_sold_date'], \n",
    "    origin='1900-01-01', \n",
    "    unit='D', \n",
    "    errors='coerce')\n",
    "\n",
    "# Check for nulls\n",
    "print('Null values for product_first_sold_date:', transactions['date_product_first_sold'].isna().sum())"
   ]
  },
  {
   "cell_type": "markdown",
   "id": "10cbfb69",
   "metadata": {},
   "source": [
    "Ensure that for each product, the `date_product_first_sold` is earlier than or the same as `transaction_date`."
   ]
  },
  {
   "cell_type": "code",
   "execution_count": 210,
   "id": "7b62ab0d",
   "metadata": {},
   "outputs": [],
   "source": [
    "# Check if column1 dates are same as or earlier than column2\n",
    "result = transactions['date_product_first_sold'] > transactions['transaction_date']"
   ]
  },
  {
   "cell_type": "code",
   "execution_count": 211,
   "id": "990d18a4",
   "metadata": {
    "scrolled": true
   },
   "outputs": [
    {
     "data": {
      "text/plain": [
       "20000"
      ]
     },
     "execution_count": 211,
     "metadata": {},
     "output_type": "execute_result"
    }
   ],
   "source": [
    "sum(result!=True)"
   ]
  },
  {
   "cell_type": "markdown",
   "id": "1be5b3d9",
   "metadata": {},
   "source": [
    "We can see that there are 197 entries where the date the product was first sold is later than the transaction. This is likely where there are missing values for the 2 columns."
   ]
  },
  {
   "cell_type": "code",
   "execution_count": 212,
   "id": "75e44384",
   "metadata": {
    "scrolled": true
   },
   "outputs": [
    {
     "data": {
      "text/html": [
       "<div>\n",
       "<style scoped>\n",
       "    .dataframe tbody tr th:only-of-type {\n",
       "        vertical-align: middle;\n",
       "    }\n",
       "\n",
       "    .dataframe tbody tr th {\n",
       "        vertical-align: top;\n",
       "    }\n",
       "\n",
       "    .dataframe thead th {\n",
       "        text-align: right;\n",
       "    }\n",
       "</style>\n",
       "<table border=\"1\" class=\"dataframe\">\n",
       "  <thead>\n",
       "    <tr style=\"text-align: right;\">\n",
       "      <th></th>\n",
       "      <th>0</th>\n",
       "      <th>product_id</th>\n",
       "      <th>customer_id</th>\n",
       "      <th>transaction_date</th>\n",
       "      <th>online_order</th>\n",
       "      <th>order_status</th>\n",
       "      <th>brand</th>\n",
       "      <th>product_line</th>\n",
       "      <th>product_class</th>\n",
       "      <th>product_size</th>\n",
       "      <th>list_price</th>\n",
       "      <th>standard_cost</th>\n",
       "      <th>product_first_sold_date</th>\n",
       "      <th>date_product_first_sold</th>\n",
       "    </tr>\n",
       "    <tr>\n",
       "      <th>transaction_id</th>\n",
       "      <th></th>\n",
       "      <th></th>\n",
       "      <th></th>\n",
       "      <th></th>\n",
       "      <th></th>\n",
       "      <th></th>\n",
       "      <th></th>\n",
       "      <th></th>\n",
       "      <th></th>\n",
       "      <th></th>\n",
       "      <th></th>\n",
       "      <th></th>\n",
       "      <th></th>\n",
       "      <th></th>\n",
       "    </tr>\n",
       "  </thead>\n",
       "  <tbody>\n",
       "    <tr>\n",
       "      <th>137</th>\n",
       "      <td>137</td>\n",
       "      <td>0</td>\n",
       "      <td>431</td>\n",
       "      <td>2017-09-23</td>\n",
       "      <td>False</td>\n",
       "      <td>Approved</td>\n",
       "      <td>NaN</td>\n",
       "      <td>NaN</td>\n",
       "      <td>NaN</td>\n",
       "      <td>NaN</td>\n",
       "      <td>1942.61</td>\n",
       "      <td>NaN</td>\n",
       "      <td>NaN</td>\n",
       "      <td>NaT</td>\n",
       "    </tr>\n",
       "    <tr>\n",
       "      <th>160</th>\n",
       "      <td>160</td>\n",
       "      <td>0</td>\n",
       "      <td>3300</td>\n",
       "      <td>2017-08-27</td>\n",
       "      <td>False</td>\n",
       "      <td>Approved</td>\n",
       "      <td>NaN</td>\n",
       "      <td>NaN</td>\n",
       "      <td>NaN</td>\n",
       "      <td>NaN</td>\n",
       "      <td>1656.86</td>\n",
       "      <td>NaN</td>\n",
       "      <td>NaN</td>\n",
       "      <td>NaT</td>\n",
       "    </tr>\n",
       "    <tr>\n",
       "      <th>367</th>\n",
       "      <td>367</td>\n",
       "      <td>0</td>\n",
       "      <td>1614</td>\n",
       "      <td>2017-03-10</td>\n",
       "      <td>False</td>\n",
       "      <td>Approved</td>\n",
       "      <td>NaN</td>\n",
       "      <td>NaN</td>\n",
       "      <td>NaN</td>\n",
       "      <td>NaN</td>\n",
       "      <td>850.89</td>\n",
       "      <td>NaN</td>\n",
       "      <td>NaN</td>\n",
       "      <td>NaT</td>\n",
       "    </tr>\n",
       "    <tr>\n",
       "      <th>407</th>\n",
       "      <td>407</td>\n",
       "      <td>0</td>\n",
       "      <td>2559</td>\n",
       "      <td>2017-06-14</td>\n",
       "      <td>True</td>\n",
       "      <td>Approved</td>\n",
       "      <td>NaN</td>\n",
       "      <td>NaN</td>\n",
       "      <td>NaN</td>\n",
       "      <td>NaN</td>\n",
       "      <td>710.59</td>\n",
       "      <td>NaN</td>\n",
       "      <td>NaN</td>\n",
       "      <td>NaT</td>\n",
       "    </tr>\n",
       "    <tr>\n",
       "      <th>677</th>\n",
       "      <td>677</td>\n",
       "      <td>0</td>\n",
       "      <td>2609</td>\n",
       "      <td>2017-07-02</td>\n",
       "      <td>False</td>\n",
       "      <td>Approved</td>\n",
       "      <td>NaN</td>\n",
       "      <td>NaN</td>\n",
       "      <td>NaN</td>\n",
       "      <td>NaN</td>\n",
       "      <td>1972.01</td>\n",
       "      <td>NaN</td>\n",
       "      <td>NaN</td>\n",
       "      <td>NaT</td>\n",
       "    </tr>\n",
       "    <tr>\n",
       "      <th>...</th>\n",
       "      <td>...</td>\n",
       "      <td>...</td>\n",
       "      <td>...</td>\n",
       "      <td>...</td>\n",
       "      <td>...</td>\n",
       "      <td>...</td>\n",
       "      <td>...</td>\n",
       "      <td>...</td>\n",
       "      <td>...</td>\n",
       "      <td>...</td>\n",
       "      <td>...</td>\n",
       "      <td>...</td>\n",
       "      <td>...</td>\n",
       "      <td>...</td>\n",
       "    </tr>\n",
       "    <tr>\n",
       "      <th>19341</th>\n",
       "      <td>19341</td>\n",
       "      <td>0</td>\n",
       "      <td>443</td>\n",
       "      <td>2017-12-26</td>\n",
       "      <td>True</td>\n",
       "      <td>Approved</td>\n",
       "      <td>NaN</td>\n",
       "      <td>NaN</td>\n",
       "      <td>NaN</td>\n",
       "      <td>NaN</td>\n",
       "      <td>744.54</td>\n",
       "      <td>NaN</td>\n",
       "      <td>NaN</td>\n",
       "      <td>NaT</td>\n",
       "    </tr>\n",
       "    <tr>\n",
       "      <th>19384</th>\n",
       "      <td>19384</td>\n",
       "      <td>0</td>\n",
       "      <td>2407</td>\n",
       "      <td>2017-06-11</td>\n",
       "      <td>False</td>\n",
       "      <td>Approved</td>\n",
       "      <td>NaN</td>\n",
       "      <td>NaN</td>\n",
       "      <td>NaN</td>\n",
       "      <td>NaN</td>\n",
       "      <td>1098.18</td>\n",
       "      <td>NaN</td>\n",
       "      <td>NaN</td>\n",
       "      <td>NaT</td>\n",
       "    </tr>\n",
       "    <tr>\n",
       "      <th>19794</th>\n",
       "      <td>19794</td>\n",
       "      <td>0</td>\n",
       "      <td>2860</td>\n",
       "      <td>2017-01-13</td>\n",
       "      <td>False</td>\n",
       "      <td>Approved</td>\n",
       "      <td>NaN</td>\n",
       "      <td>NaN</td>\n",
       "      <td>NaN</td>\n",
       "      <td>NaN</td>\n",
       "      <td>868.56</td>\n",
       "      <td>NaN</td>\n",
       "      <td>NaN</td>\n",
       "      <td>NaT</td>\n",
       "    </tr>\n",
       "    <tr>\n",
       "      <th>19860</th>\n",
       "      <td>19860</td>\n",
       "      <td>0</td>\n",
       "      <td>2468</td>\n",
       "      <td>2017-06-24</td>\n",
       "      <td>True</td>\n",
       "      <td>Approved</td>\n",
       "      <td>NaN</td>\n",
       "      <td>NaN</td>\n",
       "      <td>NaN</td>\n",
       "      <td>NaN</td>\n",
       "      <td>1497.43</td>\n",
       "      <td>NaN</td>\n",
       "      <td>NaN</td>\n",
       "      <td>NaT</td>\n",
       "    </tr>\n",
       "    <tr>\n",
       "      <th>19872</th>\n",
       "      <td>19872</td>\n",
       "      <td>0</td>\n",
       "      <td>61</td>\n",
       "      <td>2017-03-17</td>\n",
       "      <td>True</td>\n",
       "      <td>Approved</td>\n",
       "      <td>NaN</td>\n",
       "      <td>NaN</td>\n",
       "      <td>NaN</td>\n",
       "      <td>NaN</td>\n",
       "      <td>867.92</td>\n",
       "      <td>NaN</td>\n",
       "      <td>NaN</td>\n",
       "      <td>NaT</td>\n",
       "    </tr>\n",
       "  </tbody>\n",
       "</table>\n",
       "<p>197 rows × 14 columns</p>\n",
       "</div>"
      ],
      "text/plain": [
       "0                   0 product_id  customer_id transaction_date online_order  \\\n",
       "transaction_id                                                                \n",
       "137               137          0          431       2017-09-23        False   \n",
       "160               160          0         3300       2017-08-27        False   \n",
       "367               367          0         1614       2017-03-10        False   \n",
       "407               407          0         2559       2017-06-14         True   \n",
       "677               677          0         2609       2017-07-02        False   \n",
       "...               ...        ...          ...              ...          ...   \n",
       "19341           19341          0          443       2017-12-26         True   \n",
       "19384           19384          0         2407       2017-06-11        False   \n",
       "19794           19794          0         2860       2017-01-13        False   \n",
       "19860           19860          0         2468       2017-06-24         True   \n",
       "19872           19872          0           61       2017-03-17         True   \n",
       "\n",
       "0              order_status brand product_line product_class product_size  \\\n",
       "transaction_id                                                              \n",
       "137                Approved   NaN          NaN           NaN          NaN   \n",
       "160                Approved   NaN          NaN           NaN          NaN   \n",
       "367                Approved   NaN          NaN           NaN          NaN   \n",
       "407                Approved   NaN          NaN           NaN          NaN   \n",
       "677                Approved   NaN          NaN           NaN          NaN   \n",
       "...                     ...   ...          ...           ...          ...   \n",
       "19341              Approved   NaN          NaN           NaN          NaN   \n",
       "19384              Approved   NaN          NaN           NaN          NaN   \n",
       "19794              Approved   NaN          NaN           NaN          NaN   \n",
       "19860              Approved   NaN          NaN           NaN          NaN   \n",
       "19872              Approved   NaN          NaN           NaN          NaN   \n",
       "\n",
       "0               list_price  standard_cost  product_first_sold_date  \\\n",
       "transaction_id                                                       \n",
       "137                1942.61            NaN                      NaN   \n",
       "160                1656.86            NaN                      NaN   \n",
       "367                 850.89            NaN                      NaN   \n",
       "407                 710.59            NaN                      NaN   \n",
       "677                1972.01            NaN                      NaN   \n",
       "...                    ...            ...                      ...   \n",
       "19341               744.54            NaN                      NaN   \n",
       "19384              1098.18            NaN                      NaN   \n",
       "19794               868.56            NaN                      NaN   \n",
       "19860              1497.43            NaN                      NaN   \n",
       "19872               867.92            NaN                      NaN   \n",
       "\n",
       "0              date_product_first_sold  \n",
       "transaction_id                          \n",
       "137                                NaT  \n",
       "160                                NaT  \n",
       "367                                NaT  \n",
       "407                                NaT  \n",
       "677                                NaT  \n",
       "...                                ...  \n",
       "19341                              NaT  \n",
       "19384                              NaT  \n",
       "19794                              NaT  \n",
       "19860                              NaT  \n",
       "19872                              NaT  \n",
       "\n",
       "[197 rows x 14 columns]"
      ]
     },
     "metadata": {},
     "output_type": "display_data"
    }
   ],
   "source": [
    "display(transactions.loc[transactions['date_product_first_sold'].isna()])"
   ]
  },
  {
   "cell_type": "markdown",
   "id": "d3576cf3",
   "metadata": {},
   "source": [
    "## Save"
   ]
  },
  {
   "cell_type": "code",
   "execution_count": null,
   "id": "076d7d57",
   "metadata": {},
   "outputs": [],
   "source": [
    "# Remove unnecessary columns\n",
    "transactions.drop(columns=0, inplace=True)"
   ]
  },
  {
   "cell_type": "code",
   "execution_count": 216,
   "id": "8543cd5b",
   "metadata": {},
   "outputs": [],
   "source": [
    "# Save table\n",
    "transactions.to_csv('transactions_clean1.csv')"
   ]
  },
  {
   "cell_type": "markdown",
   "id": "4251eaff",
   "metadata": {},
   "source": [
    "---"
   ]
  }
 ],
 "metadata": {
  "kernelspec": {
   "display_name": "Python 3 (ipykernel)",
   "language": "python",
   "name": "python3"
  },
  "language_info": {
   "codemirror_mode": {
    "name": "ipython",
    "version": 3
   },
   "file_extension": ".py",
   "mimetype": "text/x-python",
   "name": "python",
   "nbconvert_exporter": "python",
   "pygments_lexer": "ipython3",
   "version": "3.8.17"
  }
 },
 "nbformat": 4,
 "nbformat_minor": 5
}
