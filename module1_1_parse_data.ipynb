{
 "cells": [
  {
   "cell_type": "markdown",
   "id": "ecf32a07",
   "metadata": {},
   "source": [
    "# Module 1: LOAD & SAVE DATA"
   ]
  },
  {
   "cell_type": "markdown",
   "id": "f831ec4f",
   "metadata": {},
   "source": [
    "## Load libraries"
   ]
  },
  {
   "cell_type": "code",
   "execution_count": 1,
   "id": "b5318160",
   "metadata": {},
   "outputs": [],
   "source": [
    "import numpy as np\n",
    "import pandas as pd"
   ]
  },
  {
   "cell_type": "markdown",
   "id": "c23d684d",
   "metadata": {},
   "source": [
    "## Load excel file data"
   ]
  },
  {
   "cell_type": "code",
   "execution_count": 2,
   "id": "1305600b",
   "metadata": {},
   "outputs": [],
   "source": [
    "# Define excel file\n",
    "excel_file_name = 'KPMG_VI_New_raw_data_update_final.xlsx'\n",
    "\n",
    "# Read all the file\n",
    "excel_file = pd.read_excel(excel_file_name, sheet_name=None)"
   ]
  },
  {
   "cell_type": "code",
   "execution_count": 3,
   "id": "c784c7aa",
   "metadata": {},
   "outputs": [
    {
     "data": {
      "text/plain": [
       "dict_keys(['Title Sheet', 'Transactions', 'NewCustomerList', 'CustomerDemographic', 'CustomerAddress'])"
      ]
     },
     "execution_count": 3,
     "metadata": {},
     "output_type": "execute_result"
    }
   ],
   "source": [
    "# Obtain the number of sheets\n",
    "len(excel_file)\n",
    "\n",
    "# Look at key names\n",
    "excel_file.keys()"
   ]
  },
  {
   "cell_type": "markdown",
   "id": "e0cf27d7",
   "metadata": {},
   "source": [
    "## Read the title page"
   ]
  },
  {
   "cell_type": "code",
   "execution_count": 4,
   "id": "3303d00d",
   "metadata": {},
   "outputs": [
    {
     "name": "stdout",
     "output_type": "stream",
     "text": [
      "KPMG Virtual Internship \n",
      "------------\n",
      "\n",
      "Sprocket Central Pty Ltd Data Set \n",
      "------------\n",
      "\n",
      "To view the datasets, click on the yellow tabs/sheets at the bottom of this file \n",
      "------------\n",
      "\n",
      "Click on the sheets are named \"CustomerDemographic\", \"CustomerAddress\", \"Transactions\" and \"NewCustomerList\" \n",
      "------------\n",
      "\n",
      "Module 1 Task \n",
      "------------\n",
      "\n",
      "Module 2 Task \n",
      "------------\n",
      "\n",
      "Module 3 Task \n",
      "------------\n",
      "\n",
      "Your task is to take a look at the following datasets provided by Sprocket Central Pty Ltd and identify all data quality issues. Once you've had a look at these datasets, draft an email to the client identifying all data quality issues.  \n",
      "------------\n",
      "\n",
      "Create a PowerPoint presentation wihch outlines the approach we will be taking to identify which of the 1000 customers Sprocket Central Pty Ltd should target, based on this dataset. Explain the three phases:  Data Exploration; Model Development and Interpretation. \n",
      "------------\n",
      "\n",
      "Please develop a dashboard that we can present to the client at our next meeting. Display your data summary and results of the analysis in a dashboard (see tools/references for assistance). Specifically, your presentation should specify who Sprocket Central Pty Ltd' should be targeting out of the new 1000 customer list. \n",
      " \n",
      "------------\n",
      "\n",
      "Return to the virtual internship here: \n",
      "------------\n",
      "\n",
      "https://www.insidesherpa.com/virtual-internships/theme/m7W4GMqeT3bh9Nb2c/KPMG-Data-Analytics-Virtual-Internship \n",
      "------------\n",
      "\n",
      "© 2018 KPMG, an Australian partnership and a member firm of the KPMG network of independent member firms affiliated with KPMG International Cooperative (“KPMG International”), a Swiss entity. All rights reserved. \n",
      "------------\n",
      "\n",
      "Need some help getting started, or new to excel/data? \n",
      "------------\n",
      "\n",
      "Here is a warm up task with this dataset \n",
      "------------\n",
      "\n",
      "Warm up task: \n",
      "------------\n",
      "\n",
      "1) Look over the datasets provided by Sprocket Central Pty Ltd (you can navigate through sheets by clicking the tabs at the bottom).  \n",
      "------------\n",
      "\n",
      "2) Go to the 'CustomerDemographic' dataset \n",
      "------------\n",
      "\n",
      "3) Select entire dataset by clicking cell in the uppermost top left hand corner (see picture below) \n",
      "------------\n",
      "\n",
      "4) Once you've selected the entire dataset, click 'Data' in the top bar of the sheet and click 'Filter' (see picture below). Once you click this, you'll notice that arrows appear in each cell in the top row. If you click the arrows, this creates a pop-up which allows you to only select certain values. Make sure you understand how to use the 'Filter' tool properly as this will be your main tool for analysis in the later modules.  \n",
      "------------\n",
      "\n",
      "5) Go to the 'DOB' column and click the filter arrow. This should bring up a pop-up which allows you to sort your data. Click 'Ascending' and this should sort your data-set from least to most recent from top to bottom (by date of birth). Once you do this, your data set should look exactly the same as the picture below  \n",
      "------------\n",
      "\n",
      "6) Now do you notice anything strange about the data? If you have a look at the first customer (Jephthah Bachmann, you'll notice that they were born in 1843, meaning that they are 175 years old! This is obviously an error in the data so it would be something you'd include in the email to the client. \n",
      "------------\n",
      "\n",
      "7) For the rest of this Module 1 task, it is up to you to look through the client datasets and identify problems like in the example above with the DOB. We recommend you dot point everything you find in a Word Document before drafting your email. It is also really important that you use the 'Data Quality Framework Table' (you can find this back in the module page in the 'Resources' section). Note that the parameters and criteria provided to you is vague because this is reflective of what happens in the real world. We encourage you to use other sources like Google and Youtube to help you with this task. Even if you're unsure about the quality of your final email, just give it a go, submit the task and you'll get to see model work which is an actual email that a KPMG Data Analyst has submitted! \n",
      "------------\n",
      "\n"
     ]
    }
   ],
   "source": [
    "# Extract text from each non-NaN cell\n",
    "df = excel_file['Title Sheet']\n",
    "# Fill NaN values with empty strings\n",
    "df = df.fillna('')\n",
    "\n",
    "# Initialize an empty list to store the extracted text\n",
    "text_list = []\n",
    "\n",
    "# Iterate over rows and columns to extract text\n",
    "for index, row in df.iterrows():\n",
    "    for column in df.columns:\n",
    "        text = row[column]\n",
    "        text_list.append(text)\n",
    "\n",
    "# Filter out empty strings (optional)\n",
    "text_list = [text for text in text_list if text]\n",
    "\n",
    "# Display text separately for each cell:\n",
    "for j in text_list:\n",
    "    print(j, '\\n------------\\n')"
   ]
  },
  {
   "cell_type": "markdown",
   "id": "5d6b58d9",
   "metadata": {},
   "source": [
    "## Save each sheet as a separate `csv` file"
   ]
  },
  {
   "cell_type": "code",
   "execution_count": 5,
   "id": "78956040",
   "metadata": {},
   "outputs": [],
   "source": [
    "# Extract separate tables:\n",
    "transactions = excel_file['Transactions']\n",
    "newcustomerlist = excel_file['NewCustomerList']\n",
    "custdemog = excel_file['CustomerDemographic']\n",
    "custaddress = excel_file['CustomerAddress']\n",
    "\n",
    "# Save as csv files\n",
    "transactions.to_csv('transactions.csv')\n",
    "newcustomerlist.to_csv('newcustomerlist.csv')\n",
    "custdemog.to_csv('customerdemographics.csv')\n",
    "custaddress.to_csv('customeraddress.csv')"
   ]
  },
  {
   "cell_type": "markdown",
   "id": "a9148ad5",
   "metadata": {},
   "source": [
    "---"
   ]
  }
 ],
 "metadata": {
  "kernelspec": {
   "display_name": "Python 3 (ipykernel)",
   "language": "python",
   "name": "python3"
  },
  "language_info": {
   "codemirror_mode": {
    "name": "ipython",
    "version": 3
   },
   "file_extension": ".py",
   "mimetype": "text/x-python",
   "name": "python",
   "nbconvert_exporter": "python",
   "pygments_lexer": "ipython3",
   "version": "3.8.17"
  }
 },
 "nbformat": 4,
 "nbformat_minor": 5
}
