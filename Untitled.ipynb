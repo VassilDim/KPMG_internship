{
 "cells": [
  {
   "cell_type": "code",
   "execution_count": 1,
   "id": "4bc23e2a",
   "metadata": {},
   "outputs": [],
   "source": [
    "import numpy as np\n",
    "import pandas as pd\n",
    "import category_encoders as ce\n",
    "import re\n",
    "import tensorflow as tf\n",
    "import warnings\n",
    "from geopy.geocoders import GoogleV3\n",
    "from geopy.geocoders import Nominatim\n",
    "import time\n",
    "import requests\n",
    "from requests.exceptions import ConnectionError\n",
    "\n",
    "# Deep NNs\n",
    "from sklearn.preprocessing import StandardScaler\n",
    "from sklearn.model_selection import train_test_split\n",
    "from sklearn.preprocessing import LabelEncoder\n",
    "from tensorflow.keras.layers import Input, Dense\n",
    "from tensorflow.keras.models import Sequential"
   ]
  },
  {
   "cell_type": "code",
   "execution_count": 2,
   "id": "4c26780d",
   "metadata": {},
   "outputs": [],
   "source": [
    "# Read existing customer data\n",
    "df = pd.read_csv('df_geoloc.csv', index_col=0)\n",
    "# Read new customer data\n",
    "df_new = pd.read_csv('newcustomerlist_clean1_reindexed.csv')"
   ]
  },
  {
   "cell_type": "code",
   "execution_count": 4,
   "id": "6d90ac64",
   "metadata": {},
   "outputs": [
    {
     "data": {
      "text/plain": [
       "transaction_id                                0\n",
       "product_id                                    0\n",
       "customer_id                                   0\n",
       "online_order                                  0\n",
       "order_status                                  0\n",
       "brand                                         0\n",
       "product_line                                  0\n",
       "product_class                                 0\n",
       "product_size                                  0\n",
       "list_price                                    0\n",
       "standard_cost                                 0\n",
       "first_name                                    0\n",
       "last_name                                     0\n",
       "gender                                        0\n",
       "past_3_years_bike_related_purchases           0\n",
       "wealth_segment                                0\n",
       "deceased_indicator                            0\n",
       "owns_car                                      0\n",
       "tenure                                        0\n",
       "address                                       0\n",
       "postcode                                      0\n",
       "state                                         0\n",
       "country                                       0\n",
       "property_valuation                            0\n",
       "transaction_date_days_since_first             0\n",
       "transaction_date_month                        0\n",
       "transaction_date_day                          0\n",
       "transaction_date_day_week                     0\n",
       "date_product_first_sold_days_since_first      0\n",
       "date_product_first_sold_year                  0\n",
       "date_product_first_sold_month                 0\n",
       "date_product_first_sold_day                   0\n",
       "date_product_first_sold_day_week              0\n",
       "address_full                                  0\n",
       "geo_address                                 227\n",
       "latitude                                    227\n",
       "longitude                                   227\n",
       "dtype: int64"
      ]
     },
     "execution_count": 4,
     "metadata": {},
     "output_type": "execute_result"
    }
   ],
   "source": [
    "df.isna().sum()"
   ]
  },
  {
   "cell_type": "code",
   "execution_count": 9,
   "id": "0f28816e",
   "metadata": {},
   "outputs": [
    {
     "data": {
      "text/plain": [
       "Unnamed: 0                               0\n",
       "first_name                               0\n",
       "last_name                               29\n",
       "gender                                   0\n",
       "past_3_years_bike_related_purchases      0\n",
       "DOB                                     17\n",
       "job_title                                0\n",
       "job_industry_category                  165\n",
       "wealth_segment                           0\n",
       "deceased_indicator                       0\n",
       "owns_car                                 0\n",
       "tenure                                   0\n",
       "address                                  0\n",
       "postcode                                 0\n",
       "state                                    0\n",
       "country                                  0\n",
       "property_valuation                       0\n",
       "Unnamed: 17                              0\n",
       "Unnamed: 18                              0\n",
       "Unnamed: 19                              0\n",
       "Unnamed: 20                              0\n",
       "Rank                                     0\n",
       "Value                                    0\n",
       "dtype: int64"
      ]
     },
     "execution_count": 9,
     "metadata": {},
     "output_type": "execute_result"
    }
   ],
   "source": [
    "df_new.isna().sum()"
   ]
  },
  {
   "cell_type": "code",
   "execution_count": 8,
   "id": "83de8583",
   "metadata": {},
   "outputs": [],
   "source": [
    "df_new.loc[df_new['job_title'].isna(),'job_title'] = df_new['job_title'].mode()[0]"
   ]
  },
  {
   "cell_type": "code",
   "execution_count": 10,
   "id": "724ad9d0",
   "metadata": {},
   "outputs": [
    {
     "data": {
      "text/plain": [
       "'Associate Professor'"
      ]
     },
     "execution_count": 10,
     "metadata": {},
     "output_type": "execute_result"
    }
   ],
   "source": [
    "df_new['job_title'].mode()[0]"
   ]
  },
  {
   "cell_type": "code",
   "execution_count": null,
   "id": "a589b319",
   "metadata": {},
   "outputs": [],
   "source": []
  }
 ],
 "metadata": {
  "kernelspec": {
   "display_name": "deeplearning",
   "language": "python",
   "name": "deeplearning"
  },
  "language_info": {
   "codemirror_mode": {
    "name": "ipython",
    "version": 3
   },
   "file_extension": ".py",
   "mimetype": "text/x-python",
   "name": "python",
   "nbconvert_exporter": "python",
   "pygments_lexer": "ipython3",
   "version": "3.8.17"
  }
 },
 "nbformat": 4,
 "nbformat_minor": 5
}
