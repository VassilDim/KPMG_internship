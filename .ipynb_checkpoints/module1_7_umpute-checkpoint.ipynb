{
 "cells": [
  {
   "cell_type": "markdown",
   "id": "e084d7d7",
   "metadata": {},
   "source": [
    "# Module 1: Impute Missing Values\n",
    "\n",
    "In this module, missing values will be imputed using autoencoder techniques in order to tidy up the data for future analysis and modelling."
   ]
  },
  {
   "cell_type": "markdown",
   "id": "d6cfd829",
   "metadata": {},
   "source": [
    "## Load libraries"
   ]
  },
  {
   "cell_type": "code",
   "execution_count": 326,
   "id": "978a0286",
   "metadata": {},
   "outputs": [],
   "source": [
    "import numpy as np\n",
    "import pandas as pd\n",
    "import category_encoders as ce\n",
    "import re\n",
    "import tensorflow as tf\n",
    "import warnings\n",
    "from geopy.geocoders import GoogleV3\n",
    "from geopy.geocoders import Nominatim\n",
    "import time\n",
    "import requests\n",
    "from requests.exceptions import ConnectionError\n",
    "\n",
    "# Plots\n",
    "import matplotlib.pyplot as plt\n",
    "import seaborn as sns\n",
    "\n",
    "# Deep NNs\n",
    "from sklearn.preprocessing import StandardScaler\n",
    "from sklearn.model_selection import train_test_split, KFold, cross_val_score\n",
    "from sklearn.metrics import mean_squared_error\n",
    "from sklearn.preprocessing import LabelEncoder\n",
    "from tensorflow.keras.layers import Input, Dense, BatchNormalization\n",
    "from tensorflow.keras.models import Sequential, Model\n",
    "from tensorflow.keras.optimizers import Adam"
   ]
  },
  {
   "cell_type": "markdown",
   "id": "626aca70",
   "metadata": {},
   "source": [
    "## FUNCTIONS"
   ]
  },
  {
   "cell_type": "code",
   "execution_count": 2,
   "id": "f4a571e9",
   "metadata": {},
   "outputs": [],
   "source": [
    "def date_2_features (df, colname):\n",
    "\n",
    "    # convert to column to timestamp\n",
    "    df[colname] = pd.to_datetime(df[colname])\n",
    "\n",
    "    # find the minimum date\n",
    "    min_date = df[colname].min()\n",
    "\n",
    "    # calculate number of days since minimum date\n",
    "    cname = colname+'_days_since_first'\n",
    "    df[cname] = (df[colname] - min_date).dt.days\n",
    "\n",
    "    # extract year\n",
    "    cname = colname+'_year'\n",
    "    df[cname] = df[colname].dt.year\n",
    "    # extract month\n",
    "    cname = colname+'_month'\n",
    "    df[cname] = df[colname].dt.month\n",
    "    # extract day\n",
    "    cname = colname+'_day'\n",
    "    df[cname] = df[colname].dt.day\n",
    "    # extract day of week\n",
    "    cname = colname+'_day_week'\n",
    "    df[cname] = df[colname].dt.dayofweek\n",
    "    \n",
    "    return df"
   ]
  },
  {
   "cell_type": "code",
   "execution_count": 75,
   "id": "33d8a80d",
   "metadata": {},
   "outputs": [],
   "source": [
    "def get_lat_long_addr_from_post(row):\n",
    "    # Obtain address\n",
    "    post = row['postcode']\n",
    "    # Initiate an instance\n",
    "    geolocator = Nominatim(user_agent = 'address_geocoder')\n",
    "    # Obtain location\n",
    "    location = geolocator.geocode(post)\n",
    "    # Handle missing values\n",
    "    latitude = None\n",
    "    longitude = None\n",
    "    address = None\n",
    "    if location is not None:\n",
    "        # Obtain address\n",
    "        address = location[0]\n",
    "        # Obtain latitude\n",
    "        latitude = location.latitude\n",
    "        # Obtain longitude\n",
    "        longitude = location.longitude\n",
    "    \n",
    "    return latitude, longitude, address"
   ]
  },
  {
   "cell_type": "markdown",
   "id": "4553b646",
   "metadata": {},
   "source": [
    "## Read table"
   ]
  },
  {
   "cell_type": "code",
   "execution_count": 3,
   "id": "44da5c0a",
   "metadata": {},
   "outputs": [],
   "source": [
    "df = pd.read_csv('df.csv', index_col=0)"
   ]
  },
  {
   "cell_type": "markdown",
   "id": "9cc29167",
   "metadata": {},
   "source": [
    "Display how many missing values each feature contains"
   ]
  },
  {
   "cell_type": "code",
   "execution_count": 4,
   "id": "f67b48b9",
   "metadata": {},
   "outputs": [
    {
     "data": {
      "text/plain": [
       "transaction_id                            0\n",
       "product_id                                0\n",
       "customer_id                               0\n",
       "transaction_date                          0\n",
       "online_order                              0\n",
       "order_status                              0\n",
       "brand                                   197\n",
       "product_line                            197\n",
       "product_class                           197\n",
       "product_size                            197\n",
       "list_price                                0\n",
       "standard_cost                           197\n",
       "date_product_first_sold                 197\n",
       "first_name                                0\n",
       "last_name                                 0\n",
       "gender                                    0\n",
       "past_3_years_bike_related_purchases       3\n",
       "DOB                                     449\n",
       "job_title                              2397\n",
       "job_industry_category                  3232\n",
       "wealth_segment                            3\n",
       "deceased_indicator                        0\n",
       "owns_car                                  3\n",
       "tenure                                    3\n",
       "address                                  32\n",
       "postcode                                 32\n",
       "state                                    32\n",
       "country                                  32\n",
       "property_valuation                       32\n",
       "dtype: int64"
      ]
     },
     "execution_count": 4,
     "metadata": {},
     "output_type": "execute_result"
    }
   ],
   "source": [
    "df.isna().sum()"
   ]
  },
  {
   "cell_type": "markdown",
   "id": "00ee93ab",
   "metadata": {},
   "source": [
    "## Null value imputation\n",
    "\n",
    "In this section, I will look at null values for overlapping features present in data for new and for existing customers. The number of null values will then be assessed in each dataset.  \n",
    "\n",
    "The null values for existing customers will be imputed based on all usable features available for the existing customers datasets.  \n",
    "\n",
    "Alternatively, the null values for prospective new customers will also be imputed based on available new customer data.\n",
    "\n",
    "For both imputations, autoencoder deep learning models will be used. However, the models will be different and trained on different features since not all features are present in both datasets.  \n",
    "\n",
    "Note that geo-coordinates will be extracted instead of working with addresses as it is a bit more relevant to the business problem statement: we want to identify regions of interest."
   ]
  },
  {
   "cell_type": "markdown",
   "id": "511e61be",
   "metadata": {},
   "source": [
    "### Categorical encoding\n",
    "\n",
    "First, all rows containing missing values will be dropped. Job title and job industry features will also be dropped since they contain a sizable proportion of missing values.  \n",
    "\n",
    "Second, categorical variables will be encoded numerically either using ordinal numerical encoding or binary encoding."
   ]
  },
  {
   "cell_type": "markdown",
   "id": "45ea3c09",
   "metadata": {},
   "source": [
    "#### Drop rows with null values"
   ]
  },
  {
   "cell_type": "code",
   "execution_count": 5,
   "id": "9c08979a",
   "metadata": {},
   "outputs": [],
   "source": [
    "# Remove features with many nulls\n",
    "df_nonulls = df.drop(columns=['DOB', 'job_title', 'job_industry_category'])\n",
    "\n",
    "# Drop rows with nulls\n",
    "df_nonulls = df_nonulls.dropna()\n",
    "\n",
    "# Check for nulls\n",
    "df_nonulls.isna().sum()"
   ]
  },
  {
   "cell_type": "markdown",
   "id": "88791e96",
   "metadata": {},
   "source": [
    "The table does not contain any null values at this stage. Now all values will have to be converted to numeric formats for autoencoders. Two methods will be used.\n",
    "1. Ordinal numeric encoding\n",
    "    - product size\n",
    "    - wealth_segment\n",
    "2. Binary encoding\n",
    "    - brand\n",
    "    - product_line\n",
    "    - product_class\n",
    "    - product_size\n",
    "    - wealth_segment\n",
    "    - job_title\n",
    "    - job_industry_category\n",
    "    - gender\n",
    "3. Binary designation\n",
    "    - online order\n",
    "    - owns_car\n",
    "    - order status\n",
    "4. Date to numeric encoding (extract)\n",
    "    - year\n",
    "    - month\n",
    "    - day of month\n",
    "    - day of week\n",
    "    - days since min\n",
    "5. Geolocation coordinates will be obtained from address columns \n",
    "    - address\n",
    "    - postcode\n",
    "    - state\n",
    "    - country"
   ]
  },
  {
   "cell_type": "markdown",
   "id": "eac3671c",
   "metadata": {},
   "source": [
    "#### 1. Ordinal encoding"
   ]
  },
  {
   "cell_type": "markdown",
   "id": "bb679e58",
   "metadata": {},
   "source": [
    "##### `product_size`"
   ]
  },
  {
   "cell_type": "code",
   "execution_count": 7,
   "id": "53a0c099",
   "metadata": {},
   "outputs": [],
   "source": [
    "# Define dictionary:\n",
    "dict_repl = {'small' : 0, 'medium' : 1, 'large' : 2}\n",
    "\n",
    "# Replace values\"\n",
    "df_nonulls['product_size'].replace(dict_repl, inplace=True)"
   ]
  },
  {
   "cell_type": "markdown",
   "id": "cdf279ef",
   "metadata": {},
   "source": [
    "##### `wealth_segment`"
   ]
  },
  {
   "cell_type": "code",
   "execution_count": 9,
   "id": "d1ddf619",
   "metadata": {},
   "outputs": [],
   "source": [
    "# Define dictionary:\n",
    "dict_repl = {'Mass Customer' : 0, 'Affluent Customer' : 1, 'High Net Worth' : 2}\n",
    "\n",
    "# Replace values\"\n",
    "df_nonulls['wealth_segment'].replace(dict_repl, inplace=True)"
   ]
  },
  {
   "cell_type": "markdown",
   "id": "6dd3936b",
   "metadata": {},
   "source": [
    "#### 2. Binary designation\n",
    "\n",
    "- online order\n",
    "    - True : 1\n",
    "    - False : 0\n",
    "- owns_car\n",
    "    - Yes : 1\n",
    "    - No : 0\n",
    "- order status\n",
    "    - Approved : 0\n",
    "    - Cancelled : 1\n",
    "- diceased indicator\n",
    "    - N : 0\n",
    "    - Y : 1"
   ]
  },
  {
   "cell_type": "code",
   "execution_count": 10,
   "id": "255f1eb6",
   "metadata": {},
   "outputs": [],
   "source": [
    "# Define dictionary:\n",
    "dict_repl = {\n",
    "    'online_order' : {'True' : 1, 'False' : 0},\n",
    "    'owns_car' : {'Yes' : 1, 'No' : 0},\n",
    "    'order_status' : {'Approved' : 0, 'Cancelled' : 1}\n",
    "}\n",
    "\n",
    "# Replace values\"\n",
    "df_nonulls.replace(dict_repl, inplace=True)\n",
    "\n",
    "# Define dictionary:\n",
    "dict_repl = {'Y' : 1,\n",
    "             'N' : 0\n",
    "}\n",
    "\n",
    "# Replace values\"\n",
    "df_nonulls['deceased_indicator'].replace(dict_repl, inplace=True)"
   ]
  },
  {
   "cell_type": "markdown",
   "id": "c13cbdcf",
   "metadata": {},
   "source": [
    "#### 4. Feature engineering for dates"
   ]
  },
  {
   "cell_type": "code",
   "execution_count": 12,
   "id": "83efd97b",
   "metadata": {},
   "outputs": [],
   "source": [
    "# Drop names for convenience\n",
    "df = df_nonulls.drop(columns=['first_name', 'last_name'])"
   ]
  },
  {
   "cell_type": "markdown",
   "id": "69a165f2",
   "metadata": {},
   "source": [
    "##### `transaction_date`"
   ]
  },
  {
   "cell_type": "code",
   "execution_count": 13,
   "id": "6d17fd2d",
   "metadata": {},
   "outputs": [],
   "source": [
    "df = date_2_features (df_nonulls, colname='transaction_date')"
   ]
  },
  {
   "cell_type": "markdown",
   "id": "c42a102f",
   "metadata": {},
   "source": [
    "##### `date_product_first_sold`"
   ]
  },
  {
   "cell_type": "code",
   "execution_count": 14,
   "id": "e7bd8334",
   "metadata": {},
   "outputs": [],
   "source": [
    "df = date_2_features(df, colname='date_product_first_sold')"
   ]
  },
  {
   "cell_type": "markdown",
   "id": "ff6dcf47",
   "metadata": {},
   "source": [
    "##### `DOB`\n",
    "\n",
    "For the date of birth, several steps will be taken:\n",
    "1. Remove values for deceased customers.\n",
    "2. Check for errors and outliers.\n",
    "3. Extract number of years since the earlies available DOB.\n",
    "4. Impute the median of all DOB for missing values."
   ]
  },
  {
   "cell_type": "code",
   "execution_count": 49,
   "id": "fc6ce582",
   "metadata": {},
   "outputs": [],
   "source": [
    "df_old = pd.read_csv('df.csv', index_col=0)"
   ]
  },
  {
   "cell_type": "code",
   "execution_count": 54,
   "id": "25cf3b08",
   "metadata": {},
   "outputs": [
    {
     "data": {
      "text/plain": [
       "transaction_id                                0\n",
       "product_id                                    0\n",
       "customer_id                                   0\n",
       "online_order                                  0\n",
       "order_status                                  0\n",
       "brand                                         0\n",
       "product_line                                  0\n",
       "product_class                                 0\n",
       "product_size                                  0\n",
       "list_price                                    0\n",
       "standard_cost                                 0\n",
       "first_name                                    0\n",
       "last_name                                     0\n",
       "gender                                        0\n",
       "past_3_years_bike_related_purchases           0\n",
       "wealth_segment                                0\n",
       "deceased_indicator                            0\n",
       "owns_car                                      0\n",
       "tenure                                        0\n",
       "address                                       0\n",
       "postcode                                      0\n",
       "state                                         0\n",
       "country                                       0\n",
       "property_valuation                            0\n",
       "transaction_date_days_since_first             0\n",
       "transaction_date_month                        0\n",
       "transaction_date_day                          0\n",
       "transaction_date_day_week                     0\n",
       "date_product_first_sold_days_since_first      0\n",
       "date_product_first_sold_year                  0\n",
       "date_product_first_sold_month                 0\n",
       "date_product_first_sold_day                   0\n",
       "date_product_first_sold_day_week              0\n",
       "address_full                                  0\n",
       "geo_address                                 227\n",
       "latitude                                    227\n",
       "longitude                                   227\n",
       "job_title                                     0\n",
       "job_industry_category                         0\n",
       "DOB                                         438\n",
       "dtype: int64"
      ]
     },
     "execution_count": 54,
     "metadata": {},
     "output_type": "execute_result"
    }
   ],
   "source": [
    "df = df.merge(df_old['DOB'], right_index=True, left_index=True, how='left')\n",
    "df.isna().sum()"
   ]
  },
  {
   "cell_type": "code",
   "execution_count": 69,
   "id": "f109dfc6",
   "metadata": {},
   "outputs": [],
   "source": [
    "del df_old"
   ]
  },
  {
   "cell_type": "code",
   "execution_count": null,
   "id": "a1f54b28",
   "metadata": {},
   "outputs": [],
   "source": [
    "# Convert DOB to datetime\n",
    "df['DOB'] = pd.to_datetime(df['DOB'])"
   ]
  },
  {
   "cell_type": "code",
   "execution_count": 88,
   "id": "98dc3e8a",
   "metadata": {},
   "outputs": [
    {
     "data": {
      "text/html": [
       "<div>\n",
       "<style scoped>\n",
       "    .dataframe tbody tr th:only-of-type {\n",
       "        vertical-align: middle;\n",
       "    }\n",
       "\n",
       "    .dataframe tbody tr th {\n",
       "        vertical-align: top;\n",
       "    }\n",
       "\n",
       "    .dataframe thead th {\n",
       "        text-align: right;\n",
       "    }\n",
       "</style>\n",
       "<table border=\"1\" class=\"dataframe\">\n",
       "  <thead>\n",
       "    <tr style=\"text-align: right;\">\n",
       "      <th></th>\n",
       "      <th>transaction_id</th>\n",
       "      <th>customer_id</th>\n",
       "      <th>deceased_indicator</th>\n",
       "      <th>DOB</th>\n",
       "    </tr>\n",
       "  </thead>\n",
       "  <tbody>\n",
       "    <tr>\n",
       "      <th>3358</th>\n",
       "      <td>562</td>\n",
       "      <td>753</td>\n",
       "      <td>1</td>\n",
       "      <td>1970-03-07</td>\n",
       "    </tr>\n",
       "    <tr>\n",
       "      <th>3359</th>\n",
       "      <td>7319</td>\n",
       "      <td>753</td>\n",
       "      <td>1</td>\n",
       "      <td>1970-03-07</td>\n",
       "    </tr>\n",
       "    <tr>\n",
       "      <th>3360</th>\n",
       "      <td>8269</td>\n",
       "      <td>753</td>\n",
       "      <td>1</td>\n",
       "      <td>1970-03-07</td>\n",
       "    </tr>\n",
       "    <tr>\n",
       "      <th>3361</th>\n",
       "      <td>12095</td>\n",
       "      <td>753</td>\n",
       "      <td>1</td>\n",
       "      <td>1970-03-07</td>\n",
       "    </tr>\n",
       "    <tr>\n",
       "      <th>3362</th>\n",
       "      <td>16083</td>\n",
       "      <td>753</td>\n",
       "      <td>1</td>\n",
       "      <td>1970-03-07</td>\n",
       "    </tr>\n",
       "    <tr>\n",
       "      <th>3363</th>\n",
       "      <td>18329</td>\n",
       "      <td>753</td>\n",
       "      <td>1</td>\n",
       "      <td>1970-03-07</td>\n",
       "    </tr>\n",
       "    <tr>\n",
       "      <th>3364</th>\n",
       "      <td>18829</td>\n",
       "      <td>753</td>\n",
       "      <td>1</td>\n",
       "      <td>1970-03-07</td>\n",
       "    </tr>\n",
       "    <tr>\n",
       "      <th>3365</th>\n",
       "      <td>19682</td>\n",
       "      <td>753</td>\n",
       "      <td>1</td>\n",
       "      <td>1970-03-07</td>\n",
       "    </tr>\n",
       "  </tbody>\n",
       "</table>\n",
       "</div>"
      ],
      "text/plain": [
       "      transaction_id  customer_id  deceased_indicator        DOB\n",
       "3358             562          753                   1 1970-03-07\n",
       "3359            7319          753                   1 1970-03-07\n",
       "3360            8269          753                   1 1970-03-07\n",
       "3361           12095          753                   1 1970-03-07\n",
       "3362           16083          753                   1 1970-03-07\n",
       "3363           18329          753                   1 1970-03-07\n",
       "3364           18829          753                   1 1970-03-07\n",
       "3365           19682          753                   1 1970-03-07"
      ]
     },
     "execution_count": 88,
     "metadata": {},
     "output_type": "execute_result"
    }
   ],
   "source": [
    "# Check for deceased customers\n",
    "df.loc[df['deceased_indicator']==1,['transaction_id', 'customer_id', 'deceased_indicator', 'DOB']]"
   ]
  },
  {
   "cell_type": "markdown",
   "id": "ef01adcd",
   "metadata": {},
   "source": [
    ">We can see that a single customer that has made 8 transactions is deceased. These entries will be excluded from downstream analysis."
   ]
  },
  {
   "cell_type": "code",
   "execution_count": 91,
   "id": "81d8903b",
   "metadata": {},
   "outputs": [
    {
     "data": {
      "text/plain": [
       "0"
      ]
     },
     "execution_count": 91,
     "metadata": {},
     "output_type": "execute_result"
    }
   ],
   "source": [
    "# Drop entries for deceased customers\n",
    "df = df[df['deceased_indicator'] != 1]\n",
    "\n",
    "# Sanity check\n",
    "# Check for deceased customers\n",
    "df.loc[df['deceased_indicator']==1,['transaction_id', 'customer_id', 'deceased_indicator', 'DOB']].shape[0]"
   ]
  },
  {
   "cell_type": "markdown",
   "id": "9c7492e1",
   "metadata": {},
   "source": [
    ">Since all entries pertain to customers that are not deceased, the `deceased_indicator` column does no longer provide any useful information and will be dropped as well."
   ]
  },
  {
   "cell_type": "code",
   "execution_count": 92,
   "id": "238d4bc6",
   "metadata": {},
   "outputs": [],
   "source": [
    "df.drop(columns='deceased_indicator', inplace=True)"
   ]
  },
  {
   "cell_type": "markdown",
   "id": "31ccd59f",
   "metadata": {},
   "source": [
    "Let us now plot the `DOB`s to see if there are any outliers and inconsistencies that need to be addressed."
   ]
  },
  {
   "cell_type": "code",
   "execution_count": 95,
   "id": "ac4a9466",
   "metadata": {},
   "outputs": [
    {
     "data": {
      "image/png": "[encoded data removed]",
      "text/plain": [
       "<Figure size 640x480 with 1 Axes>"
      ]
     },
     "metadata": {},
     "output_type": "display_data"
    }
   ],
   "source": [
    "plt.figure()\n",
    "sns.histplot(df['DOB'], bins=100, kde=True)\n",
    "plt.title('DOB distribution')\n",
    "plt.xlabel('DOB')\n",
    "plt.ylabel('frequency')\n",
    "plt.show()"
   ]
  },
  {
   "cell_type": "markdown",
   "id": "95fc9b1a",
   "metadata": {},
   "source": [
    "It seems there are some values at around 1930 and around 1840. While DOB in 1930 is possible, one in the 1840s is almost certainly an error."
   ]
  },
  {
   "cell_type": "code",
   "execution_count": 81,
   "id": "5c1d4977",
   "metadata": {},
   "outputs": [
    {
     "name": "stdout",
     "output_type": "stream",
     "text": [
      "1843-12-21 00:00:00\n"
     ]
    }
   ],
   "source": [
    "# Extract earliest DOB\n",
    "min_DOB = df['DOB'].min()\n",
    "\n",
    "print(min_DOB)"
   ]
  },
  {
   "cell_type": "markdown",
   "id": "581422b1",
   "metadata": {},
   "source": [
    "<div class=\"alert alert-danger\">\n",
    "    <strong>ERROR DOB!:</strong> We can see that the earliest DOB is in 1843, which is likely an error.\n",
    "</div>"
   ]
  },
  {
   "cell_type": "markdown",
   "id": "f94b1592",
   "metadata": {},
   "source": [
    "The dataframe will now be ordered by dates in ascending order and the first 10 entries corresponding to the earliest DOBs will be displayed."
   ]
  },
  {
   "cell_type": "code",
   "execution_count": 105,
   "id": "13ad4160",
   "metadata": {},
   "outputs": [
    {
     "data": {
      "text/html": [
       "<div>\n",
       "<style scoped>\n",
       "    .dataframe tbody tr th:only-of-type {\n",
       "        vertical-align: middle;\n",
       "    }\n",
       "\n",
       "    .dataframe tbody tr th {\n",
       "        vertical-align: top;\n",
       "    }\n",
       "\n",
       "    .dataframe thead th {\n",
       "        text-align: right;\n",
       "    }\n",
       "</style>\n",
       "<table border=\"1\" class=\"dataframe\">\n",
       "  <thead>\n",
       "    <tr style=\"text-align: right;\">\n",
       "      <th></th>\n",
       "      <th>customer_id</th>\n",
       "      <th>DOB</th>\n",
       "      <th>job_title</th>\n",
       "      <th>list_price</th>\n",
       "    </tr>\n",
       "  </thead>\n",
       "  <tbody>\n",
       "    <tr>\n",
       "      <th>29</th>\n",
       "      <td>34</td>\n",
       "      <td>1843-12-21</td>\n",
       "      <td>Legal Assistant</td>\n",
       "      <td>12098.83</td>\n",
       "    </tr>\n",
       "    <tr>\n",
       "      <th>700</th>\n",
       "      <td>720</td>\n",
       "      <td>1931-10-23</td>\n",
       "      <td>Recruiting Manager</td>\n",
       "      <td>13004.35</td>\n",
       "    </tr>\n",
       "    <tr>\n",
       "      <th>1058</th>\n",
       "      <td>1092</td>\n",
       "      <td>1935-08-22</td>\n",
       "      <td>VP Quality Control</td>\n",
       "      <td>4893.72</td>\n",
       "    </tr>\n",
       "    <tr>\n",
       "      <th>3322</th>\n",
       "      <td>3410</td>\n",
       "      <td>1940-09-22</td>\n",
       "      <td>unknown</td>\n",
       "      <td>2965.89</td>\n",
       "    </tr>\n",
       "    <tr>\n",
       "      <th>2352</th>\n",
       "      <td>2413</td>\n",
       "      <td>1943-08-11</td>\n",
       "      <td>Environmental Specialist</td>\n",
       "      <td>8666.87</td>\n",
       "    </tr>\n",
       "    <tr>\n",
       "      <th>...</th>\n",
       "      <td>...</td>\n",
       "      <td>...</td>\n",
       "      <td>...</td>\n",
       "      <td>...</td>\n",
       "    </tr>\n",
       "    <tr>\n",
       "      <th>413</th>\n",
       "      <td>422</td>\n",
       "      <td>2002-01-06</td>\n",
       "      <td>unknown</td>\n",
       "      <td>5465.00</td>\n",
       "    </tr>\n",
       "    <tr>\n",
       "      <th>2787</th>\n",
       "      <td>2858</td>\n",
       "      <td>2002-01-09</td>\n",
       "      <td>Recruiting Manager</td>\n",
       "      <td>6672.94</td>\n",
       "    </tr>\n",
       "    <tr>\n",
       "      <th>3347</th>\n",
       "      <td>3435</td>\n",
       "      <td>2002-01-15</td>\n",
       "      <td>Senior Editor</td>\n",
       "      <td>6384.02</td>\n",
       "    </tr>\n",
       "    <tr>\n",
       "      <th>1840</th>\n",
       "      <td>1888</td>\n",
       "      <td>2002-01-26</td>\n",
       "      <td>Food Chemist</td>\n",
       "      <td>5775.32</td>\n",
       "    </tr>\n",
       "    <tr>\n",
       "      <th>61</th>\n",
       "      <td>66</td>\n",
       "      <td>2002-03-11</td>\n",
       "      <td>Account Executive</td>\n",
       "      <td>6489.33</td>\n",
       "    </tr>\n",
       "  </tbody>\n",
       "</table>\n",
       "<p>3412 rows × 4 columns</p>\n",
       "</div>"
      ],
      "text/plain": [
       "      customer_id        DOB                 job_title  list_price\n",
       "29             34 1843-12-21           Legal Assistant    12098.83\n",
       "700           720 1931-10-23        Recruiting Manager    13004.35\n",
       "1058         1092 1935-08-22        VP Quality Control     4893.72\n",
       "3322         3410 1940-09-22                   unknown     2965.89\n",
       "2352         2413 1943-08-11  Environmental Specialist     8666.87\n",
       "...           ...        ...                       ...         ...\n",
       "413           422 2002-01-06                   unknown     5465.00\n",
       "2787         2858 2002-01-09        Recruiting Manager     6672.94\n",
       "3347         3435 2002-01-15             Senior Editor     6384.02\n",
       "1840         1888 2002-01-26              Food Chemist     5775.32\n",
       "61             66 2002-03-11         Account Executive     6489.33\n",
       "\n",
       "[3412 rows x 4 columns]"
      ]
     },
     "metadata": {},
     "output_type": "display_data"
    }
   ],
   "source": [
    "df_sorted = df.sort_values(by = 'DOB')\n",
    "df_sorted_grouped = df_sorted.groupby(['customer_id', 'DOB', 'job_title'])['list_price'].sum().reset_index()\n",
    "display(df_sorted_grouped.sort_values(by='DOB', ascending=True))"
   ]
  },
  {
   "cell_type": "markdown",
   "id": "76a6dc11",
   "metadata": {},
   "source": [
    "We see that the earliest `DOB` is 1843-12-21. This customer is not listed as deceased and has spent a considerable amount altogether. Let us examine how long ago the transactions were made and compare this to the oldest transaction in the list."
   ]
  },
  {
   "cell_type": "code",
   "execution_count": 110,
   "id": "8eb0c356",
   "metadata": {},
   "outputs": [
    {
     "data": {
      "text/html": [
       "<div>\n",
       "<style scoped>\n",
       "    .dataframe tbody tr th:only-of-type {\n",
       "        vertical-align: middle;\n",
       "    }\n",
       "\n",
       "    .dataframe tbody tr th {\n",
       "        vertical-align: top;\n",
       "    }\n",
       "\n",
       "    .dataframe thead th {\n",
       "        text-align: right;\n",
       "    }\n",
       "</style>\n",
       "<table border=\"1\" class=\"dataframe\">\n",
       "  <thead>\n",
       "    <tr style=\"text-align: right;\">\n",
       "      <th></th>\n",
       "      <th>transaction_date_days_since_first</th>\n",
       "    </tr>\n",
       "  </thead>\n",
       "  <tbody>\n",
       "    <tr>\n",
       "      <th>5902</th>\n",
       "      <td>181</td>\n",
       "    </tr>\n",
       "    <tr>\n",
       "      <th>5903</th>\n",
       "      <td>233</td>\n",
       "    </tr>\n",
       "    <tr>\n",
       "      <th>5904</th>\n",
       "      <td>96</td>\n",
       "    </tr>\n",
       "    <tr>\n",
       "      <th>5905</th>\n",
       "      <td>43</td>\n",
       "    </tr>\n",
       "    <tr>\n",
       "      <th>5906</th>\n",
       "      <td>175</td>\n",
       "    </tr>\n",
       "    <tr>\n",
       "      <th>5907</th>\n",
       "      <td>203</td>\n",
       "    </tr>\n",
       "    <tr>\n",
       "      <th>5909</th>\n",
       "      <td>99</td>\n",
       "    </tr>\n",
       "    <tr>\n",
       "      <th>5910</th>\n",
       "      <td>261</td>\n",
       "    </tr>\n",
       "  </tbody>\n",
       "</table>\n",
       "</div>"
      ],
      "text/plain": [
       "      transaction_date_days_since_first\n",
       "5902                                181\n",
       "5903                                233\n",
       "5904                                 96\n",
       "5905                                 43\n",
       "5906                                175\n",
       "5907                                203\n",
       "5909                                 99\n",
       "5910                                261"
      ]
     },
     "metadata": {},
     "output_type": "display_data"
    },
    {
     "name": "stdout",
     "output_type": "stream",
     "text": [
      "0\n"
     ]
    }
   ],
   "source": [
    "display(df.loc[df['customer_id']==34,['transaction_date_days_since_first']])\n",
    "print(df['transaction_date_days_since_first'].min())"
   ]
  },
  {
   "cell_type": "markdown",
   "id": "e5c232fe",
   "metadata": {},
   "source": [
    "It appears the transactions are not as old. Let us compare them to the DOB for other customers in the same range."
   ]
  },
  {
   "cell_type": "code",
   "execution_count": 113,
   "id": "cd304031",
   "metadata": {},
   "outputs": [],
   "source": [
    "df_43_261 = df.loc[(df['transaction_date_days_since_first']>=43) & (df['transaction_date_days_since_first']<=261),\n",
    "       ['DOB']]"
   ]
  },
  {
   "cell_type": "code",
   "execution_count": 114,
   "id": "19e39a18",
   "metadata": {},
   "outputs": [
    {
     "name": "stdout",
     "output_type": "stream",
     "text": [
      "Earliest DOB: 1843-12-21 00:00:00\n",
      "Latest DOB: 2002-03-11 00:00:00\n",
      "Median DOB: 1977-08-30 00:00:00\n"
     ]
    }
   ],
   "source": [
    "# Earliest DOB\n",
    "print('Earliest DOB:', df_43_261['DOB'].min())\n",
    "\n",
    "# Latest DOB\n",
    "print('Latest DOB:', df_43_261['DOB'].max())\n",
    "\n",
    "# Median DOB\n",
    "median_43_261_DOB = df_43_261['DOB'].median()\n",
    "print('Median DOB:', median_43_261_DOB)"
   ]
  },
  {
   "cell_type": "markdown",
   "id": "f9601c44",
   "metadata": {},
   "source": [
    ">We can see that the earliest DOB is the one we just flagged and the latest is 2002. We will therefore replace the faulty earliest DOB with the median DOB of customers that have had transactions at around the same time as the flagged customer. Note that 1843 may simply be a typo for 1943 as well."
   ]
  },
  {
   "cell_type": "code",
   "execution_count": 117,
   "id": "6c1d19d2",
   "metadata": {},
   "outputs": [
    {
     "data": {
      "text/plain": [
       "Timestamp('1935-08-22 00:00:00')"
      ]
     },
     "execution_count": 117,
     "metadata": {},
     "output_type": "execute_result"
    }
   ],
   "source": [
    "df.loc[df['DOB']==df['DOB'].min(),'DOB'] = median_43_261_DOB\n",
    "\n",
    "# Sanity check\n",
    "df['DOB'].min()"
   ]
  },
  {
   "cell_type": "markdown",
   "id": "d325a41c",
   "metadata": {},
   "source": [
    "Now the earliest DOB is in 1935, which is acceptable.  \n",
    "\n",
    "We can now proceed with calculating `years_since_1st_DOB`."
   ]
  },
  {
   "cell_type": "code",
   "execution_count": 118,
   "id": "88d96b5a",
   "metadata": {
    "collapsed": true
   },
   "outputs": [
    {
     "data": {
      "text/html": [
       "<div>\n",
       "<style scoped>\n",
       "    .dataframe tbody tr th:only-of-type {\n",
       "        vertical-align: middle;\n",
       "    }\n",
       "\n",
       "    .dataframe tbody tr th {\n",
       "        vertical-align: top;\n",
       "    }\n",
       "\n",
       "    .dataframe thead th {\n",
       "        text-align: right;\n",
       "    }\n",
       "</style>\n",
       "<table border=\"1\" class=\"dataframe\">\n",
       "  <thead>\n",
       "    <tr style=\"text-align: right;\">\n",
       "      <th></th>\n",
       "      <th>DOB</th>\n",
       "      <th>years_since_1st_DOB</th>\n",
       "    </tr>\n",
       "  </thead>\n",
       "  <tbody>\n",
       "    <tr>\n",
       "      <th>0</th>\n",
       "      <td>1955-01-11</td>\n",
       "      <td>19.389459</td>\n",
       "    </tr>\n",
       "    <tr>\n",
       "      <th>1</th>\n",
       "      <td>1955-01-11</td>\n",
       "      <td>19.389459</td>\n",
       "    </tr>\n",
       "    <tr>\n",
       "      <th>2</th>\n",
       "      <td>1955-01-11</td>\n",
       "      <td>19.389459</td>\n",
       "    </tr>\n",
       "    <tr>\n",
       "      <th>3</th>\n",
       "      <td>1979-02-04</td>\n",
       "      <td>43.455168</td>\n",
       "    </tr>\n",
       "    <tr>\n",
       "      <th>4</th>\n",
       "      <td>1979-02-04</td>\n",
       "      <td>43.455168</td>\n",
       "    </tr>\n",
       "    <tr>\n",
       "      <th>...</th>\n",
       "      <td>...</td>\n",
       "      <td>...</td>\n",
       "    </tr>\n",
       "    <tr>\n",
       "      <th>19995</th>\n",
       "      <td>1997-07-18</td>\n",
       "      <td>61.905544</td>\n",
       "    </tr>\n",
       "    <tr>\n",
       "      <th>19996</th>\n",
       "      <td>1992-11-30</td>\n",
       "      <td>57.275838</td>\n",
       "    </tr>\n",
       "    <tr>\n",
       "      <th>19997</th>\n",
       "      <td>1992-11-30</td>\n",
       "      <td>57.275838</td>\n",
       "    </tr>\n",
       "    <tr>\n",
       "      <th>19998</th>\n",
       "      <td>1967-01-30</td>\n",
       "      <td>31.441478</td>\n",
       "    </tr>\n",
       "    <tr>\n",
       "      <th>19999</th>\n",
       "      <td>1967-01-30</td>\n",
       "      <td>31.441478</td>\n",
       "    </tr>\n",
       "  </tbody>\n",
       "</table>\n",
       "<p>19765 rows × 2 columns</p>\n",
       "</div>"
      ],
      "text/plain": [
       "             DOB  years_since_1st_DOB\n",
       "0     1955-01-11            19.389459\n",
       "1     1955-01-11            19.389459\n",
       "2     1955-01-11            19.389459\n",
       "3     1979-02-04            43.455168\n",
       "4     1979-02-04            43.455168\n",
       "...          ...                  ...\n",
       "19995 1997-07-18            61.905544\n",
       "19996 1992-11-30            57.275838\n",
       "19997 1992-11-30            57.275838\n",
       "19998 1967-01-30            31.441478\n",
       "19999 1967-01-30            31.441478\n",
       "\n",
       "[19765 rows x 2 columns]"
      ]
     },
     "execution_count": 118,
     "metadata": {},
     "output_type": "execute_result"
    }
   ],
   "source": [
    "# Obtain earliest DOB\n",
    "min_dob = df['DOB'].min()\n",
    "\n",
    "# New column to calculate years since min\n",
    "df['years_since_1st_DOB'] = (df['DOB'] - min_dob).dt.days / 365.25\n",
    "\n",
    "# Sanity check\n",
    "df[['DOB', 'years_since_1st_DOB']]"
   ]
  },
  {
   "cell_type": "markdown",
   "id": "a7f64ab3",
   "metadata": {},
   "source": [
    "We can now remove the DOB column and repeat for the new customer list."
   ]
  },
  {
   "cell_type": "code",
   "execution_count": 123,
   "id": "cadade9a",
   "metadata": {},
   "outputs": [],
   "source": [
    "df.drop(columns='DOB', inplace=True)\n",
    "\n",
    "# Save data\n",
    "df.to_csv('df_1.csv')"
   ]
  },
  {
   "cell_type": "code",
   "execution_count": 127,
   "id": "4e773b5b",
   "metadata": {},
   "outputs": [
    {
     "data": {
      "image/png": "[encoded data removed]",
      "text/plain": [
       "<Figure size 640x480 with 1 Axes>"
      ]
     },
     "metadata": {},
     "output_type": "display_data"
    }
   ],
   "source": [
    "# Convert DOB to datetime\n",
    "df_new['DOB'] = pd.to_datetime(df_new['DOB'])\n",
    "\n",
    "# Plot the distribution of the DOB\n",
    "plt.figure()\n",
    "sns.histplot(df_new['DOB'], bins=20, kde=True)\n",
    "plt.title('DOB distribution')\n",
    "plt.xlabel('DOB')\n",
    "plt.ylabel('frequency')\n",
    "plt.show()"
   ]
  },
  {
   "cell_type": "markdown",
   "id": "be82e2c5",
   "metadata": {},
   "source": [
    "Does not seem like there are missing or unexpected values for the new customer `DOB` feature.  \n",
    "\n",
    "Let us see how many null values there are:"
   ]
  },
  {
   "cell_type": "code",
   "execution_count": 128,
   "id": "d513a790",
   "metadata": {},
   "outputs": [
    {
     "data": {
      "text/plain": [
       "17"
      ]
     },
     "execution_count": 128,
     "metadata": {},
     "output_type": "execute_result"
    }
   ],
   "source": [
    "df_new['DOB'].isna().sum()"
   ]
  },
  {
   "cell_type": "markdown",
   "id": "fa84a263",
   "metadata": {},
   "source": [
    ">There are 17 null values, which will be imputed by simply replacing them with the median."
   ]
  },
  {
   "cell_type": "code",
   "execution_count": 129,
   "id": "4f6e5182",
   "metadata": {},
   "outputs": [
    {
     "data": {
      "text/plain": [
       "0"
      ]
     },
     "execution_count": 129,
     "metadata": {},
     "output_type": "execute_result"
    }
   ],
   "source": [
    "df_new['DOB'].fillna(df_new['DOB'].median(), inplace=True)\n",
    "\n",
    "# Sanity check\n",
    "df_new['DOB'].isna().sum()"
   ]
  },
  {
   "cell_type": "markdown",
   "id": "40db7350",
   "metadata": {},
   "source": [
    ">Now we will calculate years since the earliest DOB for the existing customers."
   ]
  },
  {
   "cell_type": "code",
   "execution_count": 133,
   "id": "3a674134",
   "metadata": {
    "scrolled": true
   },
   "outputs": [
    {
     "data": {
      "text/html": [
       "<div>\n",
       "<style scoped>\n",
       "    .dataframe tbody tr th:only-of-type {\n",
       "        vertical-align: middle;\n",
       "    }\n",
       "\n",
       "    .dataframe tbody tr th {\n",
       "        vertical-align: top;\n",
       "    }\n",
       "\n",
       "    .dataframe thead th {\n",
       "        text-align: right;\n",
       "    }\n",
       "</style>\n",
       "<table border=\"1\" class=\"dataframe\">\n",
       "  <thead>\n",
       "    <tr style=\"text-align: right;\">\n",
       "      <th></th>\n",
       "      <th>DOB</th>\n",
       "      <th>years_since_1st_DOB</th>\n",
       "    </tr>\n",
       "  </thead>\n",
       "  <tbody>\n",
       "    <tr>\n",
       "      <th>4004</th>\n",
       "      <td>1957-07-12</td>\n",
       "      <td>21.889117</td>\n",
       "    </tr>\n",
       "    <tr>\n",
       "      <th>4005</th>\n",
       "      <td>1970-03-22</td>\n",
       "      <td>34.581793</td>\n",
       "    </tr>\n",
       "    <tr>\n",
       "      <th>4006</th>\n",
       "      <td>1974-08-28</td>\n",
       "      <td>39.017112</td>\n",
       "    </tr>\n",
       "    <tr>\n",
       "      <th>4007</th>\n",
       "      <td>1979-01-28</td>\n",
       "      <td>43.436003</td>\n",
       "    </tr>\n",
       "    <tr>\n",
       "      <th>4008</th>\n",
       "      <td>1965-09-21</td>\n",
       "      <td>30.083504</td>\n",
       "    </tr>\n",
       "    <tr>\n",
       "      <th>...</th>\n",
       "      <td>...</td>\n",
       "      <td>...</td>\n",
       "    </tr>\n",
       "    <tr>\n",
       "      <th>4999</th>\n",
       "      <td>1959-10-07</td>\n",
       "      <td>24.125941</td>\n",
       "    </tr>\n",
       "    <tr>\n",
       "      <th>5000</th>\n",
       "      <td>2001-10-17</td>\n",
       "      <td>66.154689</td>\n",
       "    </tr>\n",
       "    <tr>\n",
       "      <th>5001</th>\n",
       "      <td>1954-10-05</td>\n",
       "      <td>19.121150</td>\n",
       "    </tr>\n",
       "    <tr>\n",
       "      <th>5002</th>\n",
       "      <td>1952-12-17</td>\n",
       "      <td>17.322382</td>\n",
       "    </tr>\n",
       "    <tr>\n",
       "      <th>5003</th>\n",
       "      <td>1955-10-02</td>\n",
       "      <td>20.112252</td>\n",
       "    </tr>\n",
       "  </tbody>\n",
       "</table>\n",
       "<p>1000 rows × 2 columns</p>\n",
       "</div>"
      ],
      "text/plain": [
       "            DOB  years_since_1st_DOB\n",
       "4004 1957-07-12            21.889117\n",
       "4005 1970-03-22            34.581793\n",
       "4006 1974-08-28            39.017112\n",
       "4007 1979-01-28            43.436003\n",
       "4008 1965-09-21            30.083504\n",
       "...         ...                  ...\n",
       "4999 1959-10-07            24.125941\n",
       "5000 2001-10-17            66.154689\n",
       "5001 1954-10-05            19.121150\n",
       "5002 1952-12-17            17.322382\n",
       "5003 1955-10-02            20.112252\n",
       "\n",
       "[1000 rows x 2 columns]"
      ]
     },
     "execution_count": 133,
     "metadata": {},
     "output_type": "execute_result"
    }
   ],
   "source": [
    "# New column to calculate years since min\n",
    "df_new['years_since_1st_DOB'] = (df_new['DOB'] - min_dob).dt.days / 365.25\n",
    "\n",
    "# Sanity check\n",
    "df_new[['DOB', 'years_since_1st_DOB']]"
   ]
  },
  {
   "cell_type": "code",
   "execution_count": 135,
   "id": "43a2e54b",
   "metadata": {},
   "outputs": [],
   "source": [
    "# Remove DOB column\n",
    "df_new.drop(columns='DOB', inplace=True)"
   ]
  },
  {
   "cell_type": "code",
   "execution_count": 136,
   "id": "dc9041ae",
   "metadata": {},
   "outputs": [],
   "source": [
    "df_new.to_csv('df_new_1.csv')"
   ]
  },
  {
   "cell_type": "markdown",
   "id": "2bcf6480",
   "metadata": {},
   "source": [
    "##### Tidy up\n",
    "\n",
    "I can now remove unnecessary columns such as `transaction_date`, `date_product_first_sold` and `transaction_date_year` (since it is 2017 for all entries)."
   ]
  },
  {
   "cell_type": "code",
   "execution_count": 15,
   "id": "c261190c",
   "metadata": {},
   "outputs": [],
   "source": [
    "df.drop(columns=['transaction_date', 'date_product_first_sold', 'transaction_date_year'], inplace=True)"
   ]
  },
  {
   "cell_type": "code",
   "execution_count": 132,
   "id": "47b51750",
   "metadata": {},
   "outputs": [
    {
     "data": {
      "text/plain": [
       "Index(['first_name', 'last_name', 'gender',\n",
       "       'past_3_years_bike_related_purchases', 'DOB', 'job_title',\n",
       "       'job_industry_category', 'wealth_segment', 'deceased_indicator',\n",
       "       'owns_car', 'tenure', 'property_valuation', 'Unnamed: 17',\n",
       "       'Unnamed: 18', 'Unnamed: 19', 'Unnamed: 20', 'Rank', 'Value',\n",
       "       'geo_address', 'latitude', 'longitude'],\n",
       "      dtype='object')"
      ]
     },
     "execution_count": 132,
     "metadata": {},
     "output_type": "execute_result"
    }
   ],
   "source": [
    "df_new.columns"
   ]
  },
  {
   "cell_type": "markdown",
   "id": "ade0f249",
   "metadata": {},
   "source": [
    "#### 5. Geolocation\n",
    "\n",
    "For the address, longitude and latitude coordinates (geocoding) I will obtain the address, latitude and longitude from the `postcode` and the cross-reference the address I obtained with the full address obtained by merging the `address`, `state`, `country` columns of the dataframe."
   ]
  },
  {
   "cell_type": "code",
   "execution_count": null,
   "id": "2880355f",
   "metadata": {},
   "outputs": [],
   "source": [
    "# Construct a new column address_full\n",
    "df['address_full'] = df['address'] + ', ' + df['state'] + ', ' + df['country']"
   ]
  },
  {
   "cell_type": "code",
   "execution_count": 47,
   "id": "75fb0e18",
   "metadata": {},
   "outputs": [],
   "source": [
    "# Convert postcode to integer\n",
    "df['postcode'] = df['postcode'].astype(int)"
   ]
  },
  {
   "cell_type": "markdown",
   "id": "654d698d",
   "metadata": {},
   "source": [
    "Now I will use the `postcode` to obtain the address (as `address_postcode`), `latitude` and `longitude`."
   ]
  },
  {
   "cell_type": "code",
   "execution_count": 110,
   "id": "d66ff220",
   "metadata": {},
   "outputs": [],
   "source": [
    "# Apply the function to each row of the DataFrame\n",
    "geolocator = Nominatim(user_agent='address_geocoder')\n",
    "\n",
    "# Process in batches of 5\n",
    "batch_size = 500\n",
    "\n",
    "# Delay by 10 sec after each batch\n",
    "delay_seconds = 1\n",
    "\n",
    "# Initialize lists to store data\n",
    "latitude_list = []\n",
    "longitude_list = []\n",
    "address_list = []\n",
    "\n",
    "# Handel connection issues and retries\n",
    "max_retries = 3\n",
    "retry_delay = 15"
   ]
  },
  {
   "cell_type": "markdown",
   "id": "6e126eaf",
   "metadata": {},
   "source": [
    "***ITERATE FOR BATCHES OF 1000*** (In order not to get blocked)"
   ]
  },
  {
   "cell_type": "code",
   "execution_count": 172,
   "id": "0e82bdc4",
   "metadata": {
    "scrolled": true
   },
   "outputs": [
    {
     "name": "stdout",
     "output_type": "stream",
     "text": [
      "Batch processed!\n"
     ]
    }
   ],
   "source": [
    "# Loop through dataframe in batches:\n",
    "# Define subset:\n",
    "batch_df = df.iloc[19000:(len(df)+1)]\n",
    "# Iterate over each row of batch:\n",
    "for index, row in batch_df.iterrows():\n",
    "    post = row['postcode']\n",
    "\n",
    "\n",
    "    # Retry logic for network issues\n",
    "    for retry in range(max_retries):\n",
    "        try:\n",
    "            # geocode the postcode\n",
    "            location = geolocator.geocode(f'{post}, Australia', timeout=10)  # Reduced timeout\n",
    "            break  # Success, exit the retry loop\n",
    "        except ConnectionError as e:\n",
    "            print(f\"Connection error (retry {retry + 1}/{max_retries}): {e}\")\n",
    "            time.sleep(retry_delay)\n",
    "    else:\n",
    "        # If all retries fail, handle the error\n",
    "        print(\"Max retries exceeded, unable to establish a connection.\")\n",
    "        location = None  # Set location to None in case of failure\n",
    "\n",
    "    # Handel nulls\n",
    "    if location is not None:\n",
    "        # Extract latitude and add to list\n",
    "        latitude_list.append(location.latitude)\n",
    "        # Extract longitude and add to list\n",
    "        longitude_list.append(location.longitude)\n",
    "        # Extract address and add to list\n",
    "        address_list.append(location.address)\n",
    "    else:\n",
    "        latitude_list.append(None)\n",
    "        longitude_list.append(None)\n",
    "        address_list.append(None)\n",
    "\n",
    "    # Introduce a delay before next request\n",
    "    time.sleep(delay_seconds)\n",
    "print(f'Batch processed!')"
   ]
  },
  {
   "cell_type": "code",
   "execution_count": 193,
   "id": "dcdcad4a",
   "metadata": {},
   "outputs": [],
   "source": [
    "# Add geocoding and address to table\n",
    "df[['geo_address', 'latitude', 'longitude']] = pd.DataFrame({\n",
    "    'geo_address' : address_list,\n",
    "    'latitude' : latitude_list,\n",
    "    'longitude' : longitude_list})"
   ]
  },
  {
   "cell_type": "markdown",
   "id": "b60c3736",
   "metadata": {},
   "source": [
    "Now let us check how many of the street names provided overlap with the street names obtained from geolocation the postcode."
   ]
  },
  {
   "cell_type": "code",
   "execution_count": 216,
   "id": "3009e613",
   "metadata": {
    "scrolled": false
   },
   "outputs": [
    {
     "name": "stdout",
     "output_type": "stream",
     "text": [
      "Total overlap in streets from address and from geo-located address (by postal code): 0\n"
     ]
    }
   ],
   "source": [
    "# Define pattern\n",
    "pattern = r'\\d+\\s(.*?)\\s'\n",
    "\n",
    "# Extract street names from address\n",
    "st_address = df['address'].str.extract(pattern)\n",
    "\n",
    "# Define pattern for geo_address\n",
    "pattern_geo = r'^(.*?),'\n",
    "\n",
    "# Extract street names from geo_address\n",
    "st_geo_address = df['geo_address'].str.extract(pattern_geo)\n",
    "\n",
    "# Count total street overlaps in rows\n",
    "print('Total overlap in streets from address and from geo-located address (by postal code):\\\n",
    "', sum(st_geo_address.notna() & st_geo_address.isin(st_address)))"
   ]
  },
  {
   "cell_type": "markdown",
   "id": "a666e4e3",
   "metadata": {},
   "source": [
    "<div class=\"alert alert-danger\">\n",
    "    <strong>INCONSISTENT!:</strong> There is NO overlap between the street names given by the company and those obtained from the postcode. The address and geo-coordinates obtained from the postcode will be used for downstream analysis. An important caveat here is that this strategy will be valid if more clients buy online and have their orders delivered. For the latter customers, the postcode would be required for proper delivery. As it happens, the online purchases are split at around the middle. I therefore judge the strategy of using the postcode as an anchor point for the customer geolocation as acceptable.\n",
    "</div>"
   ]
  },
  {
   "cell_type": "code",
   "execution_count": 217,
   "id": "8678d435",
   "metadata": {},
   "outputs": [],
   "source": [
    "# Save:\n",
    "df.to_csv('df_geoloc.csv')"
   ]
  },
  {
   "cell_type": "code",
   "execution_count": 223,
   "id": "6c1efd66",
   "metadata": {},
   "outputs": [],
   "source": [
    "# Clean up\n",
    "del pattern_geo, pattern, st_address, st_geo_address,\\\n",
    "address_list, latitude_list,\\\n",
    "longitude_list, location"
   ]
  },
  {
   "cell_type": "markdown",
   "id": "fdc30eec",
   "metadata": {},
   "source": [
    "#### Geolocation for prospective new customers"
   ]
  },
  {
   "cell_type": "code",
   "execution_count": 8,
   "id": "e44d5291",
   "metadata": {
    "scrolled": false
   },
   "outputs": [
    {
     "name": "stdout",
     "output_type": "stream",
     "text": [
      "Batch processed!\n"
     ]
    }
   ],
   "source": [
    "# Apply the function to each row of the DataFrame\n",
    "geolocator = Nominatim(user_agent='address_geocoder')\n",
    "\n",
    "# Delay by 10 sec after each batch\n",
    "delay_seconds = 1\n",
    "\n",
    "# Initialize lists to store data\n",
    "latitude_list = []\n",
    "longitude_list = []\n",
    "address_list = []\n",
    "\n",
    "# Handel connection issues and retries\n",
    "max_retries = 3\n",
    "retry_delay = 15\n",
    "\n",
    "# Read new customers data\n",
    "df_new = pd.read_csv('newcustomerlist_clean1_reindexed.csv', index_col=0)\n",
    "\n",
    "# Extract address and geo-coordinates for new customers:\n",
    "\n",
    "# Define lists\n",
    "address_list = []\n",
    "latitude_list = []\n",
    "longitude_list = []\n",
    "\n",
    "# Iterate over each row of batch:\n",
    "for index, row in df_new.iterrows():\n",
    "    post = row['postcode']\n",
    "\n",
    "\n",
    "    # Retry logic for network issues\n",
    "    for retry in range(max_retries):\n",
    "        try:\n",
    "            # geocode the postcode\n",
    "            location = geolocator.geocode(f'{post}, Australia', timeout=2)\n",
    "            break  # Success, exit the retry loop\n",
    "        except ConnectionError as e:\n",
    "            print(f\"Connection error (retry {retry + 1}/{max_retries}): {e}\")\n",
    "            time.sleep(retry_delay)\n",
    "    else:\n",
    "        # If all retries fail, handle the error\n",
    "        print(\"Max retries exceeded, unable to establish a connection.\")\n",
    "        location = None  # Set location to None in case of failure\n",
    "\n",
    "    # Handel nulls\n",
    "    if location is not None:\n",
    "        # Extract latitude and add to list\n",
    "        latitude_list.append(location.latitude)\n",
    "        # Extract longitude and add to list\n",
    "        longitude_list.append(location.longitude)\n",
    "        # Extract address and add to list\n",
    "        address_list.append(location.address)\n",
    "    else:\n",
    "        latitude_list.append(None)\n",
    "        longitude_list.append(None)\n",
    "        address_list.append(None)\n",
    "\n",
    "    # Introduce a delay before next request\n",
    "    time.sleep(delay_seconds)\n",
    "print(f'Batch processed!')"
   ]
  },
  {
   "cell_type": "code",
   "execution_count": 19,
   "id": "d04ef985",
   "metadata": {},
   "outputs": [],
   "source": [
    "# Add geocoding and address to table\n",
    "df_new['geo_address'] = address_list\n",
    "df_new['latitude'] = latitude_list\n",
    "df_new['longitude'] = longitude_list"
   ]
  },
  {
   "cell_type": "markdown",
   "id": "9ab4cd13",
   "metadata": {},
   "source": [
    "Now let us check how many of the street names provided overlap with the street names obtained from geolocation the postcode."
   ]
  },
  {
   "cell_type": "code",
   "execution_count": 21,
   "id": "046980b8",
   "metadata": {
    "scrolled": true
   },
   "outputs": [
    {
     "name": "stdout",
     "output_type": "stream",
     "text": [
      "Total overlap in streets from address and from geo-located address (by postal code): 0\n"
     ]
    }
   ],
   "source": [
    "# Define pattern\n",
    "pattern = r'\\d+\\s(.*?)\\s'\n",
    "\n",
    "# Extract street names from address\n",
    "st_address = df_new['address'].str.extract(pattern)\n",
    "\n",
    "# Define pattern for geo_address\n",
    "pattern_geo = r'^(.*?),'\n",
    "\n",
    "# Extract street names from geo_address\n",
    "st_geo_address = df_new['geo_address'].str.extract(pattern_geo)\n",
    "\n",
    "# Count total street overlaps in rows\n",
    "print('Total overlap in streets from address and from geo-located address (by postal code):\\\n",
    "', sum(st_geo_address.notna() & st_geo_address.isin(st_address)))"
   ]
  },
  {
   "cell_type": "markdown",
   "id": "ae3f5fb3",
   "metadata": {},
   "source": [
    "<div class=\"alert alert-danger\">\n",
    "    <strong>INCONSISTENT!:</strong> There is NO overlap between the street names given by the company and those obtained from the postcode. The address and geo-coordinates obtained from the postcode will be used for downstream analysis.\n",
    "</div>"
   ]
  },
  {
   "cell_type": "markdown",
   "id": "2a009907",
   "metadata": {},
   "source": [
    "There is not overlap for prospective customers as well. Only the latitude and longitude will be kept for downstream analysis."
   ]
  },
  {
   "cell_type": "code",
   "execution_count": 23,
   "id": "602b493f",
   "metadata": {},
   "outputs": [],
   "source": [
    "# Remove provide address columns\n",
    "df_new.drop(columns=['address', 'postcode', 'state', 'country'], inplace = True)"
   ]
  },
  {
   "cell_type": "code",
   "execution_count": 24,
   "id": "2e4c9b74",
   "metadata": {},
   "outputs": [],
   "source": [
    "# Save new customer data with updated geolocations\n",
    "df_new.to_csv('df_new_cust_geo.csv')"
   ]
  },
  {
   "cell_type": "markdown",
   "id": "406e682e",
   "metadata": {},
   "source": [
    "---\n",
    "---\n",
    "---"
   ]
  },
  {
   "cell_type": "markdown",
   "id": "312e09ef",
   "metadata": {},
   "source": [
    ">I will now impute `job_title` and `job_industry_category` to ***unknown*** for both existing and new customers."
   ]
  },
  {
   "cell_type": "code",
   "execution_count": 42,
   "id": "f38330c4",
   "metadata": {},
   "outputs": [],
   "source": [
    "# Replace null with unknown for job_title\n",
    "df['job_title'].fillna('unknown', inplace=True)\n",
    "df_new['job_title'].fillna('unknown', inplace=True)\n",
    "\n",
    "# Replace null with unknown for job_industry_categry\n",
    "df['job_industry_category'].fillna('unknown', inplace=True)\n",
    "df_new['job_industry_category'].fillna('unknown', inplace=True)"
   ]
  },
  {
   "cell_type": "markdown",
   "id": "2d11a9be",
   "metadata": {},
   "source": [
    "Now I will check whether each customer has a unique job title and job industry. If not, the unknown categories will be replaced with the job title and job_industry-category available."
   ]
  },
  {
   "cell_type": "code",
   "execution_count": 66,
   "id": "acc75580",
   "metadata": {
    "collapsed": true
   },
   "outputs": [
    {
     "data": {
      "text/plain": [
       "0"
      ]
     },
     "execution_count": 66,
     "metadata": {},
     "output_type": "execute_result"
    }
   ],
   "source": [
    "# Check that each customer is associated with a unique job\n",
    "df['job_title_count'] = df.groupby('customer_id')['job_title'].nunique()\n",
    "df.loc[df['job_title_count']>1,['customer_id', 'job_title', 'job_industry_category','job_title_count']].shape[0]\n",
    "\n",
    "# Check that each customer is associated with a unique job category\n",
    "df['job_cat_count'] = df.groupby('customer_id')['job_industry_category'].nunique()\n",
    "df.loc[df['job_cat_count']>1,['customer_id', 'job_title', 'job_industry_category','job_cat_count']].shape[0]"
   ]
  },
  {
   "cell_type": "markdown",
   "id": "8cd479fc",
   "metadata": {},
   "source": [
    "There are no unknown jobs for customers that have provided job details on other occasions."
   ]
  },
  {
   "cell_type": "markdown",
   "id": "48fbd407",
   "metadata": {},
   "source": [
    "#### 3. Binary encoding\n",
    "\n",
    "Now I will binary encode all categorical variables in order to impute the missing latitude and longitude for the existing customers."
   ]
  },
  {
   "cell_type": "code",
   "execution_count": 141,
   "id": "de0a0d41",
   "metadata": {
    "collapsed": true
   },
   "outputs": [
    {
     "name": "stdout",
     "output_type": "stream",
     "text": [
      "<class 'pandas.core.frame.DataFrame'>\n",
      "Int64Index: 19765 entries, 0 to 19999\n",
      "Data columns (total 39 columns):\n",
      " #   Column                                    Non-Null Count  Dtype  \n",
      "---  ------                                    --------------  -----  \n",
      " 0   transaction_id                            19765 non-null  int64  \n",
      " 1   product_id                                19765 non-null  int64  \n",
      " 2   customer_id                               19765 non-null  int64  \n",
      " 3   online_order                              19765 non-null  bool   \n",
      " 4   order_status                              19765 non-null  int64  \n",
      " 5   brand                                     19765 non-null  object \n",
      " 6   product_line                              19765 non-null  object \n",
      " 7   product_class                             19765 non-null  object \n",
      " 8   product_size                              19765 non-null  int64  \n",
      " 9   list_price                                19765 non-null  float64\n",
      " 10  standard_cost                             19765 non-null  float64\n",
      " 11  first_name                                19765 non-null  object \n",
      " 12  last_name                                 19765 non-null  object \n",
      " 13  gender                                    19765 non-null  object \n",
      " 14  past_3_years_bike_related_purchases       19765 non-null  float64\n",
      " 15  wealth_segment                            19765 non-null  int64  \n",
      " 16  owns_car                                  19765 non-null  int64  \n",
      " 17  tenure                                    19765 non-null  float64\n",
      " 18  address                                   19765 non-null  object \n",
      " 19  postcode                                  19765 non-null  int64  \n",
      " 20  state                                     19765 non-null  object \n",
      " 21  country                                   19765 non-null  object \n",
      " 22  property_valuation                        19765 non-null  float64\n",
      " 23  transaction_date_days_since_first         19765 non-null  int64  \n",
      " 24  transaction_date_month                    19765 non-null  int64  \n",
      " 25  transaction_date_day                      19765 non-null  int64  \n",
      " 26  transaction_date_day_week                 19765 non-null  int64  \n",
      " 27  date_product_first_sold_days_since_first  19765 non-null  int64  \n",
      " 28  date_product_first_sold_year              19765 non-null  int64  \n",
      " 29  date_product_first_sold_month             19765 non-null  int64  \n",
      " 30  date_product_first_sold_day               19765 non-null  int64  \n",
      " 31  date_product_first_sold_day_week          19765 non-null  int64  \n",
      " 32  address_full                              19765 non-null  object \n",
      " 33  geo_address                               19538 non-null  object \n",
      " 34  latitude                                  19538 non-null  float64\n",
      " 35  longitude                                 19538 non-null  float64\n",
      " 36  job_title                                 19765 non-null  object \n",
      " 37  job_industry_category                     19765 non-null  object \n",
      " 38  years_since_1st_DOB                       19327 non-null  float64\n",
      "dtypes: bool(1), float64(8), int64(17), object(13)\n",
      "memory usage: 5.9+ MB\n"
     ]
    }
   ],
   "source": [
    "# Check which features are categorical\n",
    "df.info()"
   ]
  },
  {
   "cell_type": "markdown",
   "id": "098dcfc1",
   "metadata": {},
   "source": [
    "Apart from `job_title` and `job_industry_category`, other categorical variables that will have to be binary-encoded are:\n",
    "- `brand`\n",
    "- `product_line`\n",
    "- `product_class`\n",
    "- `gender`  \n",
    "\n",
    "Features that are not expected to bring any new information will be dropped entirely:\n",
    "- `transaction_id`\n",
    "- `product_id`\n",
    "- `customer_id`\n",
    "- `first_name`\n",
    "- `last_name`\n",
    "- `address`\n",
    "- `postcode`\n",
    "- `state`\n",
    "- `country`\n",
    "- `address_full`\n",
    "- `geo_address`"
   ]
  },
  {
   "cell_type": "code",
   "execution_count": 142,
   "id": "2e83aa33",
   "metadata": {},
   "outputs": [],
   "source": [
    "df.drop(columns = [\n",
    "    'transaction_id', 'product_id', 'customer_id',\n",
    "    'first_name', 'last_name', 'address',\n",
    "    'postcode', 'state', 'country', 'address_full',\n",
    "    'geo_address'], inplace=True)\n",
    "\n",
    "# Same for new customers\n",
    "df_new.drop(columns = )"
   ]
  },
  {
   "cell_type": "markdown",
   "id": "62894b44",
   "metadata": {},
   "source": [
    "Now let us binary-encode all categorical variables."
   ]
  },
  {
   "cell_type": "code",
   "execution_count": 157,
   "id": "74c20407",
   "metadata": {},
   "outputs": [],
   "source": [
    "# Instantiate encoder\n",
    "encoder = ce.BinaryEncoder(cols = [\n",
    "    'brand', 'product_line', 'product_class', 'gender',\n",
    "    'job_title', 'job_industry_category'\n",
    "])\n",
    "\n",
    "# Encode categorical columns\n",
    "df_encoded = encoder.fit_transform(df)"
   ]
  },
  {
   "cell_type": "code",
   "execution_count": 158,
   "id": "4f432252",
   "metadata": {},
   "outputs": [],
   "source": [
    "# Save encoded data\n",
    "df_encoded.to_csv('df_binenc.csv')"
   ]
  },
  {
   "cell_type": "markdown",
   "id": "2ae0a6c6",
   "metadata": {},
   "source": [
    "## Autoencoder\n",
    "\n",
    ">Now that we have all values in a numeric format, we can use autoencoder - neural network architecture to make predictions about missing values for `latitude`, `longitude` and `years_since_1st_DOB`.  \n",
    "\n",
    "The model will be trained and validated on a subset of the data that does not contain nulls and then used to predict null values."
   ]
  },
  {
   "cell_type": "markdown",
   "id": "7257a06d",
   "metadata": {},
   "source": [
    "### Train/test split\n",
    "\n",
    "The data will be split in such a way that the train set contains no missing values and all the missing values make up a proportion of the test subset. The dataframe will be split while stratifying on all variables. Rows containing `NaN`s from the train subset will be added over to the test subset so that the train subset only contains non-null values for properly training the model."
   ]
  },
  {
   "cell_type": "code",
   "execution_count": 292,
   "id": "a057e9b0",
   "metadata": {
    "scrolled": true
   },
   "outputs": [
    {
     "name": "stderr",
     "output_type": "stream",
     "text": [
      "C:\\Users\\Admin\\anaconda3\\envs\\deeplearning\\lib\\site-packages\\pandas\\core\\indexing.py:1773: SettingWithCopyWarning: \n",
      "A value is trying to be set on a copy of a slice from a DataFrame.\n",
      "Try using .loc[row_indexer,col_indexer] = value instead\n",
      "\n",
      "See the caveats in the documentation: https://pandas.pydata.org/pandas-docs/stable/user_guide/indexing.html#returning-a-view-versus-a-copy\n",
      "  self._setitem_single_column(ilocs[0], value, pi)\n"
     ]
    }
   ],
   "source": [
    "# subset out all rows with missing values\n",
    "df_encoded_nulls = df_encoded[(df_encoded['latitude'].isna()) |\\\n",
    "                              (df_encoded['longitude'].isna()) |\\\n",
    "                              (df_encoded['years_since_1st_DOB'].isna())\n",
    "                             ]\n",
    "\n",
    "# subset all rows without missing values\n",
    "df_encoded_no_nulls = df_encoded[~df_encoded.index.isin(df_encoded_nulls.index)]\n",
    "\n",
    "# Convert online order to binary\n",
    "df_encoded_no_nulls.loc[:,'online_order'] = df_encoded_no_nulls.loc[:,'online_order'].replace({True : 1, False : 0})\n",
    "\n",
    "# Define column names to stratify on\n",
    "cols_2_strat = ['order_status', 'online_order',\n",
    "                'gender_0', 'gender_1',\n",
    "                'wealth_segment',\n",
    "                'owns_car'\n",
    "                ]\n",
    "\n",
    "# Train-test split on data without missing values\n",
    "df_train, df_test = train_test_split(df_encoded_no_nulls, test_size=0.2, stratify=df_encoded_no_nulls[cols_2_strat])\n",
    "\n",
    "# add subset with all missing rows to test data\n",
    "df_test = pd.concat([df_test, df_encoded_nulls], ignore_index=False)"
   ]
  },
  {
   "cell_type": "markdown",
   "id": "795d31ed",
   "metadata": {},
   "source": [
    "### Impute nulls with median"
   ]
  },
  {
   "cell_type": "code",
   "execution_count": 293,
   "id": "c537e12d",
   "metadata": {},
   "outputs": [],
   "source": [
    "# Create a flag for rows containing nulls in test set\n",
    "df_test_flag_lat = df_test['latitude'].isna()\n",
    "df_test_flag_lon = df_test['longitude'].isna()\n",
    "df_test_flag_DOB = df_test['years_since_1st_DOB'].isna()\n",
    "\n",
    "# Now I will impute the null values with the median before imputing using an autoencoder\n",
    "lat_median = df_test['latitude'].median()\n",
    "lon_median = df_test['longitude'].median()\n",
    "dob_median = df_test['years_since_1st_DOB'].median()"
   ]
  },
  {
   "cell_type": "markdown",
   "id": "8a452ff2",
   "metadata": {},
   "source": [
    "### Fit autoencoder"
   ]
  },
  {
   "cell_type": "markdown",
   "id": "8a0f64a0",
   "metadata": {},
   "source": [
    "#### Optimize hyperparameters"
   ]
  },
  {
   "cell_type": "markdown",
   "id": "be730cc8",
   "metadata": {},
   "source": [
    "##### Optimization functions"
   ]
  },
  {
   "cell_type": "code",
   "execution_count": 336,
   "id": "676c7444",
   "metadata": {},
   "outputs": [],
   "source": [
    "def construct_autoencoder (input_dim, \n",
    "                           encoder_neur = [256, 128, 64, 32], \n",
    "                           decoder_neur = [64, 128], optimizer='adam'):\n",
    "   #input_layer\n",
    "    input_layer = Input(shape = (input_dim,))\n",
    "    # encoder\n",
    "    encoded1 = Dense(256, activation='relu')(input_layer)\n",
    "    encoded1 = BatchNormalization()(encoded1)\n",
    "    encoded2 = Dense(128, activation='relu')(encoded1)\n",
    "    encoded2 = BatchNormalization()(encoded2)\n",
    "    encoded3 = Dense(64, activation='relu')(encoded2)\n",
    "    encoded3 = BatchNormalization()(encoded3)\n",
    "    encoded4 = Dense(32, activation='relu')(encoded3)\n",
    "    encoded4 = BatchNormalization()(encoded4)\n",
    "    # decoder\n",
    "    decoded1 = Dense(64, activation='relu')(encoded4)\n",
    "    decoded1 = BatchNormalization()(decoded1)\n",
    "    decoded2 = Dense(128, activation='relu')(decoded1)\n",
    "    decoded2 = BatchNormalization()(decoded2)\n",
    "    output_layer = Dense(input_dim, activation='linear')(decoded2)\n",
    "    # create model\n",
    "    model = Model(inputs=input_layer, outputs=output_layer)\n",
    "    # compile model\n",
    "    model.compile(loss='mean_squared_error', optimizer=optimizer)\n",
    "    return model"
   ]
  },
  {
   "cell_type": "code",
   "execution_count": null,
   "id": "4a8002af",
   "metadata": {},
   "outputs": [],
   "source": [
    "def kfold_cv_feature (df_train, num_folds, model, epochs, batch_size, feature, verbose=0):\n",
    "    # convert to array\n",
    "    X_train = df_train.to_numpy()\n",
    "    # initialize cross-validation\n",
    "    kf = KFold(n_splits = num_folds, shuffle=True)\n",
    "    # list for MSE\n",
    "    mse_scores = []\n",
    "    \n",
    "    # Iterate over all Ks\n",
    "    for train_index, val_index in kf.split(X_train):\n",
    "        # Split data for training and validation set\n",
    "        x_train, x_test = X_train[train_index], X_train[val_index]\n",
    "        # Obtain actual values for prediction\n",
    "        y_train = df_train[feature].iloc[train_index].to_numpy()\n",
    "        y_test = df_train[feature].iloc[val_index].to_numpy()\n",
    "        # fit model\n",
    "        model.fit(x_train, x_train, epochs = epochs, batch_size = batch_size, verbose=verbose, validation_data = (x_test, x_test))\n",
    "        # Obtain predictions for validation set\n",
    "        predicted_values = model.predict(x_test)\n",
    "        # Extract specific feature of interest\n",
    "        predicted_feature = predicted_values[:, df_train.columns.get_loc(feature)]\n",
    "        # Calculate mse for specified feature only\n",
    "        mse = mean_squared_error(y_test, predicted_feature)\n",
    "        mse_scores.append(mse)\n",
    "    return np.mean(mse_scores)"
   ]
  },
  {
   "cell_type": "markdown",
   "id": "fce72eda",
   "metadata": {},
   "source": [
    "##### Optimize model for `latitude`"
   ]
  },
  {
   "cell_type": "code",
   "execution_count": 343,
   "id": "3310b1b3",
   "metadata": {},
   "outputs": [],
   "source": [
    "# build a model\n",
    "model = construct_autoencoder (input_dim = df_train.shape[1], \n",
    "                           encoder_neur = [256, 128, 64, 32], \n",
    "                           decoder_neur = [64, 128], optimizer='adam')"
   ]
  },
  {
   "cell_type": "markdown",
   "id": "3f591a01",
   "metadata": {},
   "source": [
    "Construct different combinations of batch sizes and number of epochs to train the model for and test model performance for assessing `latitude`."
   ]
  },
  {
   "cell_type": "code",
   "execution_count": null,
   "id": "90b4421d",
   "metadata": {},
   "outputs": [
    {
     "name": "stdout",
     "output_type": "stream",
     "text": [
      "Epoch 1/25\n",
      "191/191 [==============================] - 1s 3ms/step - loss: 886099.2500 - val_loss: 868280.5625\n",
      "Epoch 2/25\n",
      "191/191 [==============================] - 0s 2ms/step - loss: 871995.3125 - val_loss: 852864.8750\n",
      "Epoch 3/25\n",
      "191/191 [==============================] - 0s 2ms/step - loss: 847967.7500 - val_loss: 819643.4375\n",
      "Epoch 4/25\n",
      "191/191 [==============================] - 0s 2ms/step - loss: 815864.8125 - val_loss: 779525.6250\n",
      "Epoch 5/25\n",
      "191/191 [==============================] - 0s 2ms/step - loss: 777919.0625 - val_loss: 740357.9375\n",
      "Epoch 6/25\n",
      "191/191 [==============================] - 0s 2ms/step - loss: 736479.1875 - val_loss: 699761.5000\n",
      "Epoch 7/25\n",
      "191/191 [==============================] - 0s 3ms/step - loss: 692876.6250 - val_loss: 653353.5000\n",
      "Epoch 8/25\n",
      "191/191 [==============================] - 0s 2ms/step - loss: 648256.1250 - val_loss: 611006.8750\n",
      "Epoch 9/25\n",
      "191/191 [==============================] - 0s 2ms/step - loss: 603371.5000 - val_loss: 574130.5625\n",
      "Epoch 10/25\n",
      "191/191 [==============================] - 0s 2ms/step - loss: 558708.8750 - val_loss: 523299.4375\n",
      "Epoch 11/25\n",
      "191/191 [==============================] - 0s 3ms/step - loss: 514740.5312 - val_loss: 468043.5000\n",
      "Epoch 12/25\n",
      "191/191 [==============================] - 0s 2ms/step - loss: 471200.2812 - val_loss: 458643.5625\n",
      "Epoch 13/25\n",
      "191/191 [==============================] - 0s 2ms/step - loss: 427862.2812 - val_loss: 415127.0625\n",
      "Epoch 14/25\n",
      "191/191 [==============================] - 0s 3ms/step - loss: 385656.9062 - val_loss: 382784.3125\n",
      "Epoch 15/25\n",
      "191/191 [==============================] - 0s 3ms/step - loss: 343801.2812 - val_loss: 342087.5312\n",
      "Epoch 16/25\n",
      "191/191 [==============================] - 0s 2ms/step - loss: 303526.5000 - val_loss: 419453.1562\n",
      "Epoch 17/25\n",
      "191/191 [==============================] - 0s 3ms/step - loss: 265295.2188 - val_loss: 3441179.2500\n",
      "Epoch 18/25\n",
      "191/191 [==============================] - 0s 2ms/step - loss: 229284.2500 - val_loss: 196414.1719\n",
      "Epoch 19/25\n",
      "191/191 [==============================] - 0s 3ms/step - loss: 196259.3750 - val_loss: 180654.3281\n",
      "Epoch 20/25\n",
      "191/191 [==============================] - 0s 2ms/step - loss: 165465.0312 - val_loss: 129419.0156\n",
      "Epoch 21/25\n",
      "191/191 [==============================] - 1s 3ms/step - loss: 139117.5781 - val_loss: 131596.9219\n",
      "Epoch 22/25\n",
      "191/191 [==============================] - 1s 3ms/step - loss: 114029.2969 - val_loss: 87875.7266\n",
      "Epoch 23/25\n",
      "191/191 [==============================] - 0s 3ms/step - loss: 92708.5234 - val_loss: 74931.3984\n",
      "Epoch 24/25\n",
      "191/191 [==============================] - 0s 2ms/step - loss: 75499.1016 - val_loss: 56639.3789\n",
      "Epoch 25/25\n",
      "191/191 [==============================] - 0s 2ms/step - loss: 58999.6016 - val_loss: 51890.5000\n",
      "Epoch 1/25\n",
      "192/192 [==============================] - 1s 3ms/step - loss: 46581.5977 - val_loss: 41756.7344\n",
      "Epoch 2/25\n",
      "192/192 [==============================] - 1s 3ms/step - loss: 35430.1992 - val_loss: 23556.8770\n",
      "Epoch 3/25\n",
      "192/192 [==============================] - 1s 3ms/step - loss: 27309.2676 - val_loss: 22330.2148\n",
      "Epoch 4/25\n",
      "192/192 [==============================] - 1s 3ms/step - loss: 20350.7988 - val_loss: 16615.8809\n",
      "Epoch 5/25\n",
      "192/192 [==============================] - 1s 3ms/step - loss: 16803.5781 - val_loss: 543366400.0000\n",
      "Epoch 6/25\n",
      "192/192 [==============================] - 1s 3ms/step - loss: 12332.7754 - val_loss: 11702.5312\n",
      "Epoch 7/25\n",
      "192/192 [==============================] - 1s 3ms/step - loss: 9280.0010 - val_loss: 5779.0737\n",
      "Epoch 8/25\n",
      "192/192 [==============================] - 1s 3ms/step - loss: 7286.3145 - val_loss: 3287.5647\n",
      "Epoch 9/25\n",
      "192/192 [==============================] - 1s 3ms/step - loss: 6441.0854 - val_loss: 3033.8247\n",
      "Epoch 10/25\n",
      "192/192 [==============================] - 1s 3ms/step - loss: 4924.2231 - val_loss: 3175.4075\n",
      "Epoch 11/25\n",
      "192/192 [==============================] - 1s 3ms/step - loss: 4660.2334 - val_loss: 2559.8953\n",
      "Epoch 12/25\n",
      "192/192 [==============================] - 1s 3ms/step - loss: 4441.8848 - val_loss: 3737.1296\n",
      "Epoch 13/25\n",
      "192/192 [==============================] - 1s 3ms/step - loss: 4487.5986 - val_loss: 3076.3181\n",
      "Epoch 14/25\n",
      "192/192 [==============================] - 1s 3ms/step - loss: 4357.3467 - val_loss: 6511.2559\n",
      "Epoch 15/25\n",
      "192/192 [==============================] - 1s 3ms/step - loss: 3882.2842 - val_loss: 9092.3623\n",
      "Epoch 16/25\n",
      "192/192 [==============================] - 1s 3ms/step - loss: 4019.1777 - val_loss: 6275.4380\n",
      "Epoch 17/25\n",
      "192/192 [==============================] - 1s 3ms/step - loss: 4368.8569 - val_loss: 6772.6455\n",
      "Epoch 18/25\n",
      "192/192 [==============================] - 1s 3ms/step - loss: 4352.3818 - val_loss: 6430.0996\n",
      "Epoch 19/25\n",
      "192/192 [==============================] - 1s 3ms/step - loss: 4184.0649 - val_loss: 2784.0142\n",
      "Epoch 20/25\n",
      "192/192 [==============================] - 1s 3ms/step - loss: 3748.2759 - val_loss: 2362.8970\n",
      "Epoch 21/25\n",
      "192/192 [==============================] - 1s 3ms/step - loss: 3853.9546 - val_loss: 5937.1538\n",
      "Epoch 22/25\n",
      "192/192 [==============================] - 1s 3ms/step - loss: 3655.8923 - val_loss: 4158.2188\n",
      "Epoch 23/25\n",
      "192/192 [==============================] - 1s 3ms/step - loss: 3980.5605 - val_loss: 6916.3672\n",
      "Epoch 24/25\n",
      "192/192 [==============================] - 1s 3ms/step - loss: 3965.9053 - val_loss: 2331.5593\n",
      "Epoch 25/25\n",
      "192/192 [==============================] - 1s 3ms/step - loss: 4083.4817 - val_loss: 1919.3456\n",
      "Epoch 1/25\n",
      "192/192 [==============================] - 1s 3ms/step - loss: 4080.6079 - val_loss: 1951.0780\n",
      "Epoch 2/25\n",
      "192/192 [==============================] - 1s 3ms/step - loss: 4128.2793 - val_loss: 1968.5750\n",
      "Epoch 3/25\n",
      "192/192 [==============================] - 1s 3ms/step - loss: 3762.7625 - val_loss: 1318.7444\n",
      "Epoch 4/25\n",
      "192/192 [==============================] - 1s 3ms/step - loss: 3450.0613 - val_loss: 940248960.0000\n",
      "Epoch 5/25\n",
      "192/192 [==============================] - 1s 3ms/step - loss: 3612.9355 - val_loss: 1519.5631\n",
      "Epoch 6/25\n",
      "192/192 [==============================] - 1s 3ms/step - loss: 3837.6628 - val_loss: 249114368.0000\n",
      "Epoch 7/25\n",
      "192/192 [==============================] - 1s 3ms/step - loss: 3748.2646 - val_loss: 1545543936.0000\n",
      "Epoch 8/25\n",
      "192/192 [==============================] - 1s 3ms/step - loss: 3711.2664 - val_loss: 242485392.0000\n",
      "Epoch 9/25\n",
      "192/192 [==============================] - 1s 3ms/step - loss: 3921.6631 - val_loss: 16916848.0000\n",
      "Epoch 10/25\n",
      "192/192 [==============================] - 1s 3ms/step - loss: 3671.5171 - val_loss: 850526720.0000\n",
      "Epoch 11/25\n",
      "192/192 [==============================] - 1s 3ms/step - loss: 3509.0842 - val_loss: 2645774336.0000\n",
      "Epoch 12/25\n",
      "192/192 [==============================] - 1s 3ms/step - loss: 3546.9971 - val_loss: 670552832.0000\n",
      "Epoch 13/25\n",
      "192/192 [==============================] - 1s 3ms/step - loss: 4160.7085 - val_loss: 1377779584.0000\n",
      "Epoch 14/25\n",
      "173/192 [==========================>...] - ETA: 0s - loss: 3921.1191"
     ]
    }
   ],
   "source": [
    "# batch sizes\n",
    "batch_sizes = [64, 256, 2048, 8192]\n",
    "# number of epochs to train\n",
    "epochs = [25, 100, 250, 1000]\n",
    "\n",
    "# Instantiate dict\n",
    "cv_mse = {}\n",
    "\n",
    "# Iterate over all combinations\n",
    "for batch_size in batch_sizes:\n",
    "    for epoch in epochs:\n",
    "        # K-fold\n",
    "        mse = kfold_cv_feature (df_train, \n",
    "                                num_folds=5, \n",
    "                                model=model, epochs=epoch, \n",
    "                                batch_size=batch_size, \n",
    "                                feature='latitude', verbose=0)\n",
    "        print(f'Obtained MSE of {mse} for {batch_size} batch_size and {epoch} epochs.')\n",
    "        cv_mse[(batch_size, epoch)] = mse\n",
    "\n",
    "# Create a table with results\n",
    "cv_mse_df = pd.DataFrame(cv_mse.items(), columns=['batch_size-epochs', 'MSE'])\n",
    "\n",
    "# Sort for best MSE\n",
    "cv_mse_df.sort_values(by='MSE', inplace=True)\n",
    "\n",
    "display(cv_mse_df)"
   ]
  },
  {
   "cell_type": "code",
   "execution_count": null,
   "id": "be5b840b",
   "metadata": {},
   "outputs": [],
   "source": []
  },
  {
   "cell_type": "markdown",
   "id": "e8997bfc",
   "metadata": {},
   "source": [
    "---"
   ]
  },
  {
   "cell_type": "markdown",
   "id": "1857218a",
   "metadata": {},
   "source": [
    "**Problem statement:**\n",
    ">Given customer demographic data, can you predict high-value customers? \n",
    "\n",
    "1. Classification\n",
    "    - identify customers in the top 25th percentile\n",
    "    - run classification algorithms predicting high value customers based on demographic information\n",
    "        - Logistic regression\n",
    "        - Random Forests with feature importance\n",
    "        - Gradient boosting with feature importance\n",
    "    - obtain the importance of features determining high-value vs non-high value customers\n",
    "2. Regression\n",
    "    - predict profit from customer\n",
    "    - run regression algorithms\n",
    "        - linear regression\n",
    "        - polynomial regression\n",
    "        - random forests with feature importance\n",
    "        - gradient boosting\n",
    "    - obtain the importance of features for determining profit by customer\n",
    "    - predict profit by customer\n",
    "    - split predicted customers based on profit and confidence intervals\n",
    "3. Majority vote for high-value customers based on the 2 models. "
   ]
  },
  {
   "cell_type": "markdown",
   "id": "b5ac6e04",
   "metadata": {},
   "source": [
    "**Display data and insights:**\n",
    ">Dashboard displaying current market state.\n",
    ">Dashboard displaying predicted high value customers.\n",
    "\n",
    "1. Profit per area.\n",
    "2. Gender.\n",
    "3. Last 3 years bike-related purchaces\n",
    "4. DOB.\n",
    "5. wealth segment\n",
    "6. diceased indicator\n",
    "7. owns car\n",
    "8. tenure\n",
    "9. location\n",
    "    - latitude\n",
    "    - longitude\n",
    "10. property valuation"
   ]
  },
  {
   "cell_type": "markdown",
   "id": "bcc4f790",
   "metadata": {},
   "source": [
    "**Features to build the model with:**\n",
    "1. gender\n",
    "2. past_3_years_bike-related_purchases\n",
    "3. DOB\n",
    "4. job_title\n",
    "5. job_industry\n",
    "6. wealth_segment\n",
    "7. Remove diceased\n",
    "8. owns_car\n",
    "9. tenure\n",
    "10. property_valuation\n",
    "11. location"
   ]
  },
  {
   "cell_type": "code",
   "execution_count": null,
   "id": "2ba800f2",
   "metadata": {},
   "outputs": [],
   "source": []
  }
 ],
 "metadata": {
  "kernelspec": {
   "display_name": "deeplearning",
   "language": "python",
   "name": "deeplearning"
  },
  "language_info": {
   "codemirror_mode": {
    "name": "ipython",
    "version": 3
   },
   "file_extension": ".py",
   "mimetype": "text/x-python",
   "name": "python",
   "nbconvert_exporter": "python",
   "pygments_lexer": "ipython3",
   "version": "3.8.17"
  }
 },
 "nbformat": 4,
 "nbformat_minor": 5
}
